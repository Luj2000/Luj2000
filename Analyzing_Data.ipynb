{
  "cells": [
    {
      "cell_type": "markdown",
      "metadata": {
        "id": "view-in-github",
        "colab_type": "text"
      },
      "source": [
        "<a href=\"https://colab.research.google.com/github/Luj2000/projects/blob/main/Analyzing_Data.ipynb\" target=\"_parent\"><img src=\"https://colab.research.google.com/assets/colab-badge.svg\" alt=\"Open In Colab\"/></a>"
      ]
    },
    {
      "cell_type": "markdown",
      "metadata": {
        "id": "f-9-kdHFG5bT"
      },
      "source": [
        "# Import software libraries"
      ]
    },
    {
      "cell_type": "code",
      "execution_count": null,
      "metadata": {
        "id": "hCSL4T3CHAVV"
      },
      "outputs": [],
      "source": [
        "#pip install category_encoders\n"
      ]
    },
    {
      "cell_type": "code",
      "execution_count": null,
      "metadata": {
        "colab": {
          "base_uri": "https://localhost:8080/"
        },
        "id": "kERrF1w0G5bX",
        "outputId": "3dcf433b-5edf-44c8-ee07-d3e42c85c74c"
      },
      "outputs": [
        {
          "output_type": "stream",
          "name": "stdout",
          "text": [
            "Libraries used in this project:\n",
            "- Python 3.8.16 (default, Dec  7 2022, 01:12:13) \n",
            "[GCC 7.5.0]\n",
            "- NumPy 1.21.6\n",
            "- pandas 1.3.5\n",
            "- SciPy 1.7.3\n",
            "- Matplotlib 3.2.2\n",
            "- Seaborn 0.11.2\n",
            "- scikit-learn 1.0.2\n",
            "- Category Encoders 2.5.1.post0\n"
          ]
        }
      ],
      "source": [
        "import sys                                                  # Read system parameters.\n",
        "import numpy as np                                          # Work with multi-dimensional arrays.\n",
        "import pandas as pd                                         # Manipulate and analyze data.\n",
        "import scipy as sp                                          # Apply advanced mathematical functions.\n",
        "from scipy import stats\n",
        "import matplotlib                                           # Create and format charts.\n",
        "import matplotlib.pyplot as plt  \n",
        "import seaborn as sns                                       # Make charting easier.\n",
        "import sklearn                                              # Train and evaluate machine learning models.\n",
        "from sklearn.preprocessing import StandardScaler\n",
        "from sklearn.decomposition import PCA\n",
        "import category_encoders as ce                              # Encode data.\n",
        "import warnings                                             # Suppress warnings.\n",
        "warnings.filterwarnings('ignore')\n",
        "\n",
        "# Summarize software libraries used.\n",
        "print('Libraries used in this project:')\n",
        "print('- Python {}'.format(sys.version))\n",
        "print('- NumPy {}'.format(np.__version__))\n",
        "print('- pandas {}'.format(pd.__version__))\n",
        "print('- SciPy {}'.format(sp.__version__))\n",
        "print('- Matplotlib {}'.format(matplotlib.__version__))\n",
        "print('- Seaborn {}'.format(sns.__version__))\n",
        "print('- scikit-learn {}'.format(sklearn.__version__))\n",
        "print('- Category Encoders {}'.format(ce.__version__))"
      ]
    },
    {
      "cell_type": "markdown",
      "metadata": {
        "id": "JM3Jux22jhI8"
      },
      "source": [
        "# Load and preview the data"
      ]
    },
    {
      "cell_type": "code",
      "execution_count": null,
      "metadata": {
        "colab": {
          "base_uri": "https://localhost:8080/",
          "height": 523
        },
        "id": "rN_93cyclYSb",
        "outputId": "e22cd4f8-7bad-4ab1-a978-32739057bca3"
      },
      "outputs": [
        {
          "output_type": "execute_result",
          "data": {
            "text/plain": [
              "                                user_id  number_transactions  \\\n",
              "0  9231c446-cb16-4b2b-a7f7-ddfc8b25aaf6                  3.0   \n",
              "1  bb92765a-08de-4963-b432-496524b39157                  NaN   \n",
              "2  573de577-49ef-42b9-83da-d3cfb817b5c1                  2.0   \n",
              "3  d6b66b9d-7c8f-4257-a682-e136f640b7e3                  NaN   \n",
              "4  fade0b20-7594-4d9a-84cd-c02f79b1b526                  1.0   \n",
              "\n",
              "   total_amount_usd  age           job  marital  education  default  housing  \\\n",
              "0            2143.0   58    management  married   tertiary    False     True   \n",
              "1               NaN   44    technician   single  secondary    False     True   \n",
              "2               2.0   33  entrepreneur  married  secondary    False     True   \n",
              "3               NaN   47   blue-collar  married       None    False     True   \n",
              "4               1.0   33          None   single       None    False    False   \n",
              "\n",
              "    loan contact  duration  campaign  pdays  previous poutcome  term_deposit  \\\n",
              "0  False    None       261         1     -1         0     None         False   \n",
              "1  False    None       151         1     -1         0     None         False   \n",
              "2   True    None        76         1     -1         0     None         False   \n",
              "3  False    None        92         1     -1         0     None         False   \n",
              "4  False    None       198         1     -1         0     None         False   \n",
              "\n",
              "  date_joined   device  \n",
              "0  1998-08-23   mobile  \n",
              "1  2008-07-15  desktop  \n",
              "2  2002-06-04   mobile  \n",
              "3  1995-06-29   tablet  \n",
              "4  1995-08-01   mobile  "
            ],
            "text/html": [
              "\n",
              "  <div id=\"df-f42a7408-8efe-4b4f-a918-9e69f5ed7fc7\">\n",
              "    <div class=\"colab-df-container\">\n",
              "      <div>\n",
              "<style scoped>\n",
              "    .dataframe tbody tr th:only-of-type {\n",
              "        vertical-align: middle;\n",
              "    }\n",
              "\n",
              "    .dataframe tbody tr th {\n",
              "        vertical-align: top;\n",
              "    }\n",
              "\n",
              "    .dataframe thead th {\n",
              "        text-align: right;\n",
              "    }\n",
              "</style>\n",
              "<table border=\"1\" class=\"dataframe\">\n",
              "  <thead>\n",
              "    <tr style=\"text-align: right;\">\n",
              "      <th></th>\n",
              "      <th>user_id</th>\n",
              "      <th>number_transactions</th>\n",
              "      <th>total_amount_usd</th>\n",
              "      <th>age</th>\n",
              "      <th>job</th>\n",
              "      <th>marital</th>\n",
              "      <th>education</th>\n",
              "      <th>default</th>\n",
              "      <th>housing</th>\n",
              "      <th>loan</th>\n",
              "      <th>contact</th>\n",
              "      <th>duration</th>\n",
              "      <th>campaign</th>\n",
              "      <th>pdays</th>\n",
              "      <th>previous</th>\n",
              "      <th>poutcome</th>\n",
              "      <th>term_deposit</th>\n",
              "      <th>date_joined</th>\n",
              "      <th>device</th>\n",
              "    </tr>\n",
              "  </thead>\n",
              "  <tbody>\n",
              "    <tr>\n",
              "      <th>0</th>\n",
              "      <td>9231c446-cb16-4b2b-a7f7-ddfc8b25aaf6</td>\n",
              "      <td>3.0</td>\n",
              "      <td>2143.0</td>\n",
              "      <td>58</td>\n",
              "      <td>management</td>\n",
              "      <td>married</td>\n",
              "      <td>tertiary</td>\n",
              "      <td>False</td>\n",
              "      <td>True</td>\n",
              "      <td>False</td>\n",
              "      <td>None</td>\n",
              "      <td>261</td>\n",
              "      <td>1</td>\n",
              "      <td>-1</td>\n",
              "      <td>0</td>\n",
              "      <td>None</td>\n",
              "      <td>False</td>\n",
              "      <td>1998-08-23</td>\n",
              "      <td>mobile</td>\n",
              "    </tr>\n",
              "    <tr>\n",
              "      <th>1</th>\n",
              "      <td>bb92765a-08de-4963-b432-496524b39157</td>\n",
              "      <td>NaN</td>\n",
              "      <td>NaN</td>\n",
              "      <td>44</td>\n",
              "      <td>technician</td>\n",
              "      <td>single</td>\n",
              "      <td>secondary</td>\n",
              "      <td>False</td>\n",
              "      <td>True</td>\n",
              "      <td>False</td>\n",
              "      <td>None</td>\n",
              "      <td>151</td>\n",
              "      <td>1</td>\n",
              "      <td>-1</td>\n",
              "      <td>0</td>\n",
              "      <td>None</td>\n",
              "      <td>False</td>\n",
              "      <td>2008-07-15</td>\n",
              "      <td>desktop</td>\n",
              "    </tr>\n",
              "    <tr>\n",
              "      <th>2</th>\n",
              "      <td>573de577-49ef-42b9-83da-d3cfb817b5c1</td>\n",
              "      <td>2.0</td>\n",
              "      <td>2.0</td>\n",
              "      <td>33</td>\n",
              "      <td>entrepreneur</td>\n",
              "      <td>married</td>\n",
              "      <td>secondary</td>\n",
              "      <td>False</td>\n",
              "      <td>True</td>\n",
              "      <td>True</td>\n",
              "      <td>None</td>\n",
              "      <td>76</td>\n",
              "      <td>1</td>\n",
              "      <td>-1</td>\n",
              "      <td>0</td>\n",
              "      <td>None</td>\n",
              "      <td>False</td>\n",
              "      <td>2002-06-04</td>\n",
              "      <td>mobile</td>\n",
              "    </tr>\n",
              "    <tr>\n",
              "      <th>3</th>\n",
              "      <td>d6b66b9d-7c8f-4257-a682-e136f640b7e3</td>\n",
              "      <td>NaN</td>\n",
              "      <td>NaN</td>\n",
              "      <td>47</td>\n",
              "      <td>blue-collar</td>\n",
              "      <td>married</td>\n",
              "      <td>None</td>\n",
              "      <td>False</td>\n",
              "      <td>True</td>\n",
              "      <td>False</td>\n",
              "      <td>None</td>\n",
              "      <td>92</td>\n",
              "      <td>1</td>\n",
              "      <td>-1</td>\n",
              "      <td>0</td>\n",
              "      <td>None</td>\n",
              "      <td>False</td>\n",
              "      <td>1995-06-29</td>\n",
              "      <td>tablet</td>\n",
              "    </tr>\n",
              "    <tr>\n",
              "      <th>4</th>\n",
              "      <td>fade0b20-7594-4d9a-84cd-c02f79b1b526</td>\n",
              "      <td>1.0</td>\n",
              "      <td>1.0</td>\n",
              "      <td>33</td>\n",
              "      <td>None</td>\n",
              "      <td>single</td>\n",
              "      <td>None</td>\n",
              "      <td>False</td>\n",
              "      <td>False</td>\n",
              "      <td>False</td>\n",
              "      <td>None</td>\n",
              "      <td>198</td>\n",
              "      <td>1</td>\n",
              "      <td>-1</td>\n",
              "      <td>0</td>\n",
              "      <td>None</td>\n",
              "      <td>False</td>\n",
              "      <td>1995-08-01</td>\n",
              "      <td>mobile</td>\n",
              "    </tr>\n",
              "  </tbody>\n",
              "</table>\n",
              "</div>\n",
              "      <button class=\"colab-df-convert\" onclick=\"convertToInteractive('df-f42a7408-8efe-4b4f-a918-9e69f5ed7fc7')\"\n",
              "              title=\"Convert this dataframe to an interactive table.\"\n",
              "              style=\"display:none;\">\n",
              "        \n",
              "  <svg xmlns=\"http://www.w3.org/2000/svg\" height=\"24px\"viewBox=\"0 0 24 24\"\n",
              "       width=\"24px\">\n",
              "    <path d=\"M0 0h24v24H0V0z\" fill=\"none\"/>\n",
              "    <path d=\"M18.56 5.44l.94 2.06.94-2.06 2.06-.94-2.06-.94-.94-2.06-.94 2.06-2.06.94zm-11 1L8.5 8.5l.94-2.06 2.06-.94-2.06-.94L8.5 2.5l-.94 2.06-2.06.94zm10 10l.94 2.06.94-2.06 2.06-.94-2.06-.94-.94-2.06-.94 2.06-2.06.94z\"/><path d=\"M17.41 7.96l-1.37-1.37c-.4-.4-.92-.59-1.43-.59-.52 0-1.04.2-1.43.59L10.3 9.45l-7.72 7.72c-.78.78-.78 2.05 0 2.83L4 21.41c.39.39.9.59 1.41.59.51 0 1.02-.2 1.41-.59l7.78-7.78 2.81-2.81c.8-.78.8-2.07 0-2.86zM5.41 20L4 18.59l7.72-7.72 1.47 1.35L5.41 20z\"/>\n",
              "  </svg>\n",
              "      </button>\n",
              "      \n",
              "  <style>\n",
              "    .colab-df-container {\n",
              "      display:flex;\n",
              "      flex-wrap:wrap;\n",
              "      gap: 12px;\n",
              "    }\n",
              "\n",
              "    .colab-df-convert {\n",
              "      background-color: #E8F0FE;\n",
              "      border: none;\n",
              "      border-radius: 50%;\n",
              "      cursor: pointer;\n",
              "      display: none;\n",
              "      fill: #1967D2;\n",
              "      height: 32px;\n",
              "      padding: 0 0 0 0;\n",
              "      width: 32px;\n",
              "    }\n",
              "\n",
              "    .colab-df-convert:hover {\n",
              "      background-color: #E2EBFA;\n",
              "      box-shadow: 0px 1px 2px rgba(60, 64, 67, 0.3), 0px 1px 3px 1px rgba(60, 64, 67, 0.15);\n",
              "      fill: #174EA6;\n",
              "    }\n",
              "\n",
              "    [theme=dark] .colab-df-convert {\n",
              "      background-color: #3B4455;\n",
              "      fill: #D2E3FC;\n",
              "    }\n",
              "\n",
              "    [theme=dark] .colab-df-convert:hover {\n",
              "      background-color: #434B5C;\n",
              "      box-shadow: 0px 1px 3px 1px rgba(0, 0, 0, 0.15);\n",
              "      filter: drop-shadow(0px 1px 2px rgba(0, 0, 0, 0.3));\n",
              "      fill: #FFFFFF;\n",
              "    }\n",
              "  </style>\n",
              "\n",
              "      <script>\n",
              "        const buttonEl =\n",
              "          document.querySelector('#df-f42a7408-8efe-4b4f-a918-9e69f5ed7fc7 button.colab-df-convert');\n",
              "        buttonEl.style.display =\n",
              "          google.colab.kernel.accessAllowed ? 'block' : 'none';\n",
              "\n",
              "        async function convertToInteractive(key) {\n",
              "          const element = document.querySelector('#df-f42a7408-8efe-4b4f-a918-9e69f5ed7fc7');\n",
              "          const dataTable =\n",
              "            await google.colab.kernel.invokeFunction('convertToInteractive',\n",
              "                                                     [key], {});\n",
              "          if (!dataTable) return;\n",
              "\n",
              "          const docLinkHtml = 'Like what you see? Visit the ' +\n",
              "            '<a target=\"_blank\" href=https://colab.research.google.com/notebooks/data_table.ipynb>data table notebook</a>'\n",
              "            + ' to learn more about interactive tables.';\n",
              "          element.innerHTML = '';\n",
              "          dataTable['output_type'] = 'display_data';\n",
              "          await google.colab.output.renderOutput(dataTable, element);\n",
              "          const docLink = document.createElement('div');\n",
              "          docLink.innerHTML = docLinkHtml;\n",
              "          element.appendChild(docLink);\n",
              "        }\n",
              "      </script>\n",
              "    </div>\n",
              "  </div>\n",
              "  "
            ]
          },
          "metadata": {},
          "execution_count": 21
        }
      ],
      "source": [
        "users_data = pd.read_pickle('/content/users_data_cleaned.pickle')\n",
        "\n",
        "users_data.head(n = 5)"
      ]
    },
    {
      "cell_type": "code",
      "source": [
        "from google.colab import drive\n",
        "drive.mount('/content/drive')"
      ],
      "metadata": {
        "colab": {
          "base_uri": "https://localhost:8080/"
        },
        "id": "pF_e9vuq1M7N",
        "outputId": "1beffdea-35dd-4913-abf9-a0e4b726a2ad"
      },
      "execution_count": null,
      "outputs": [
        {
          "output_type": "stream",
          "name": "stdout",
          "text": [
            "Drive already mounted at /content/drive; to attempt to forcibly remount, call drive.mount(\"/content/drive\", force_remount=True).\n"
          ]
        }
      ]
    },
    {
      "cell_type": "markdown",
      "metadata": {
        "id": "gPTDqhYMLqwg"
      },
      "source": [
        "# Check the shape of the data"
      ]
    },
    {
      "cell_type": "code",
      "execution_count": null,
      "metadata": {
        "colab": {
          "base_uri": "https://localhost:8080/"
        },
        "id": "kaA2VK-0mFPS",
        "outputId": "8631cd51-4893-42cb-a4c5-1f1be2df8959"
      },
      "outputs": [
        {
          "output_type": "execute_result",
          "data": {
            "text/plain": [
              "(45209, 19)"
            ]
          },
          "metadata": {},
          "execution_count": 23
        }
      ],
      "source": [
        "users_data.shape"
      ]
    },
    {
      "cell_type": "markdown",
      "metadata": {
        "id": "H8gVuWuXLspb"
      },
      "source": [
        "# Check the number of unique users"
      ]
    },
    {
      "cell_type": "code",
      "execution_count": null,
      "metadata": {
        "colab": {
          "base_uri": "https://localhost:8080/"
        },
        "id": "3jOBdaw1mUo2",
        "outputId": "f2cea4c6-c46d-498b-99f2-7b0b54964768"
      },
      "outputs": [
        {
          "output_type": "execute_result",
          "data": {
            "text/plain": [
              "45209"
            ]
          },
          "metadata": {},
          "execution_count": 24
        }
      ],
      "source": [
        "len(np.unique(users_data.user_id))"
      ]
    },
    {
      "cell_type": "markdown",
      "metadata": {
        "id": "HmhJ2eamLu2C"
      },
      "source": [
        "# Check the data types"
      ]
    },
    {
      "cell_type": "code",
      "execution_count": null,
      "metadata": {
        "colab": {
          "base_uri": "https://localhost:8080/"
        },
        "id": "s2Hn2cCqmHHC",
        "outputId": "eaa3fcdf-d470-4954-93bd-ff3cdf57a7b0"
      },
      "outputs": [
        {
          "output_type": "stream",
          "name": "stdout",
          "text": [
            "<class 'pandas.core.frame.DataFrame'>\n",
            "Int64Index: 45209 entries, 0 to 45215\n",
            "Data columns (total 19 columns):\n",
            " #   Column               Non-Null Count  Dtype         \n",
            "---  ------               --------------  -----         \n",
            " 0   user_id              45209 non-null  object        \n",
            " 1   number_transactions  35210 non-null  float64       \n",
            " 2   total_amount_usd     35210 non-null  float64       \n",
            " 3   age                  45209 non-null  int64         \n",
            " 4   job                  44921 non-null  object        \n",
            " 5   marital              45209 non-null  object        \n",
            " 6   education            43352 non-null  object        \n",
            " 7   default              45209 non-null  bool          \n",
            " 8   housing              45209 non-null  bool          \n",
            " 9   loan                 45209 non-null  bool          \n",
            " 10  contact              32191 non-null  object        \n",
            " 11  duration             45209 non-null  int64         \n",
            " 12  campaign             45209 non-null  int64         \n",
            " 13  pdays                45209 non-null  int64         \n",
            " 14  previous             45209 non-null  int64         \n",
            " 15  poutcome             8252 non-null   object        \n",
            " 16  term_deposit         45209 non-null  bool          \n",
            " 17  date_joined          45179 non-null  datetime64[ns]\n",
            " 18  device               45115 non-null  object        \n",
            "dtypes: bool(4), datetime64[ns](1), float64(2), int64(5), object(7)\n",
            "memory usage: 5.7+ MB\n"
          ]
        }
      ],
      "source": [
        "users_data.info()"
      ]
    },
    {
      "cell_type": "code",
      "execution_count": null,
      "metadata": {
        "colab": {
          "base_uri": "https://localhost:8080/"
        },
        "id": "TycVD4ReTCQu",
        "outputId": "8cff1935-3391-487a-cdc1-3b9e6af7ad14"
      },
      "outputs": [
        {
          "output_type": "execute_result",
          "data": {
            "text/plain": [
              "{bool: ['default', 'housing', 'loan', 'term_deposit'], int64: ['age', 'duration', 'campaign', 'pdays', 'previous'], float64: ['number_transactions', 'total_amount_usd'], datetime64[ns]: ['date_joined'], object: ['user_id', 'job', 'marital', 'education', 'contact', 'poutcome', 'device']}"
            ]
          },
          "metadata": {},
          "execution_count": 26
        }
      ],
      "source": [
        "users_data.columns.to_series().groupby(users_data.dtypes).groups"
      ]
    },
    {
      "cell_type": "markdown",
      "metadata": {
        "id": "cYXscJrEG5bk"
      },
      "source": [
        "# Check for correlations"
      ]
    },
    {
      "cell_type": "code",
      "execution_count": null,
      "metadata": {
        "colab": {
          "base_uri": "https://localhost:8080/",
          "height": 390
        },
        "id": "1GIvD5jDG5bk",
        "outputId": "1b39e5a0-f63d-4842-db82-3dc644a51c43"
      },
      "outputs": [
        {
          "output_type": "execute_result",
          "data": {
            "text/plain": [
              "                     number_transactions  total_amount_usd       age  \\\n",
              "number_transactions             1.000000          0.163409  0.008813   \n",
              "total_amount_usd                0.163409          1.000000  0.095839   \n",
              "age                             0.008813          0.095839  1.000000   \n",
              "default                         0.138838          0.065390  0.017875   \n",
              "housing                         0.030429          0.066857  0.185552   \n",
              "loan                            0.075319          0.084526  0.015641   \n",
              "duration                        0.017220          0.022586  0.004645   \n",
              "campaign                        0.026431          0.017274  0.004767   \n",
              "pdays                           0.030751          0.006435  0.023745   \n",
              "previous                        0.023046          0.016952  0.001297   \n",
              "term_deposit                    0.053390          0.050785  0.025168   \n",
              "\n",
              "                      default   housing      loan  duration  campaign  \\\n",
              "number_transactions  0.138838  0.030429  0.075319  0.017220  0.026431   \n",
              "total_amount_usd     0.065390  0.066857  0.084526  0.022586  0.017274   \n",
              "age                  0.017875  0.185552  0.015641  0.004645  0.004767   \n",
              "default              1.000000  0.006020  0.077232  0.010017  0.016819   \n",
              "housing              0.006020  1.000000  0.041341  0.005041  0.023583   \n",
              "loan                 0.077232  0.041341  1.000000  0.012395  0.009972   \n",
              "duration             0.010017  0.005041  0.012395  1.000000  0.084551   \n",
              "campaign             0.016819  0.023583  0.009972  0.084551  1.000000   \n",
              "pdays                0.029982  0.124197  0.022762  0.001549  0.088636   \n",
              "previous             0.018331  0.037087  0.011048  0.001213  0.032860   \n",
              "term_deposit         0.022421  0.139161  0.068193  0.394549  0.073179   \n",
              "\n",
              "                        pdays  previous  term_deposit  \n",
              "number_transactions  0.030751  0.023046      0.053390  \n",
              "total_amount_usd     0.006435  0.016952      0.050785  \n",
              "age                  0.023745  0.001297      0.025168  \n",
              "default              0.029982  0.018331      0.022421  \n",
              "housing              0.124197  0.037087      0.139161  \n",
              "loan                 0.022762  0.011048      0.068193  \n",
              "duration             0.001549  0.001213      0.394549  \n",
              "campaign             0.088636  0.032860      0.073179  \n",
              "pdays                1.000000  0.454817      0.103616  \n",
              "previous             0.454817  1.000000      0.093232  \n",
              "term_deposit         0.103616  0.093232      1.000000  "
            ],
            "text/html": [
              "\n",
              "  <div id=\"df-12bc7ee4-b6fd-42c6-b65b-f565536feb14\">\n",
              "    <div class=\"colab-df-container\">\n",
              "      <div>\n",
              "<style scoped>\n",
              "    .dataframe tbody tr th:only-of-type {\n",
              "        vertical-align: middle;\n",
              "    }\n",
              "\n",
              "    .dataframe tbody tr th {\n",
              "        vertical-align: top;\n",
              "    }\n",
              "\n",
              "    .dataframe thead th {\n",
              "        text-align: right;\n",
              "    }\n",
              "</style>\n",
              "<table border=\"1\" class=\"dataframe\">\n",
              "  <thead>\n",
              "    <tr style=\"text-align: right;\">\n",
              "      <th></th>\n",
              "      <th>number_transactions</th>\n",
              "      <th>total_amount_usd</th>\n",
              "      <th>age</th>\n",
              "      <th>default</th>\n",
              "      <th>housing</th>\n",
              "      <th>loan</th>\n",
              "      <th>duration</th>\n",
              "      <th>campaign</th>\n",
              "      <th>pdays</th>\n",
              "      <th>previous</th>\n",
              "      <th>term_deposit</th>\n",
              "    </tr>\n",
              "  </thead>\n",
              "  <tbody>\n",
              "    <tr>\n",
              "      <th>number_transactions</th>\n",
              "      <td>1.000000</td>\n",
              "      <td>0.163409</td>\n",
              "      <td>0.008813</td>\n",
              "      <td>0.138838</td>\n",
              "      <td>0.030429</td>\n",
              "      <td>0.075319</td>\n",
              "      <td>0.017220</td>\n",
              "      <td>0.026431</td>\n",
              "      <td>0.030751</td>\n",
              "      <td>0.023046</td>\n",
              "      <td>0.053390</td>\n",
              "    </tr>\n",
              "    <tr>\n",
              "      <th>total_amount_usd</th>\n",
              "      <td>0.163409</td>\n",
              "      <td>1.000000</td>\n",
              "      <td>0.095839</td>\n",
              "      <td>0.065390</td>\n",
              "      <td>0.066857</td>\n",
              "      <td>0.084526</td>\n",
              "      <td>0.022586</td>\n",
              "      <td>0.017274</td>\n",
              "      <td>0.006435</td>\n",
              "      <td>0.016952</td>\n",
              "      <td>0.050785</td>\n",
              "    </tr>\n",
              "    <tr>\n",
              "      <th>age</th>\n",
              "      <td>0.008813</td>\n",
              "      <td>0.095839</td>\n",
              "      <td>1.000000</td>\n",
              "      <td>0.017875</td>\n",
              "      <td>0.185552</td>\n",
              "      <td>0.015641</td>\n",
              "      <td>0.004645</td>\n",
              "      <td>0.004767</td>\n",
              "      <td>0.023745</td>\n",
              "      <td>0.001297</td>\n",
              "      <td>0.025168</td>\n",
              "    </tr>\n",
              "    <tr>\n",
              "      <th>default</th>\n",
              "      <td>0.138838</td>\n",
              "      <td>0.065390</td>\n",
              "      <td>0.017875</td>\n",
              "      <td>1.000000</td>\n",
              "      <td>0.006020</td>\n",
              "      <td>0.077232</td>\n",
              "      <td>0.010017</td>\n",
              "      <td>0.016819</td>\n",
              "      <td>0.029982</td>\n",
              "      <td>0.018331</td>\n",
              "      <td>0.022421</td>\n",
              "    </tr>\n",
              "    <tr>\n",
              "      <th>housing</th>\n",
              "      <td>0.030429</td>\n",
              "      <td>0.066857</td>\n",
              "      <td>0.185552</td>\n",
              "      <td>0.006020</td>\n",
              "      <td>1.000000</td>\n",
              "      <td>0.041341</td>\n",
              "      <td>0.005041</td>\n",
              "      <td>0.023583</td>\n",
              "      <td>0.124197</td>\n",
              "      <td>0.037087</td>\n",
              "      <td>0.139161</td>\n",
              "    </tr>\n",
              "    <tr>\n",
              "      <th>loan</th>\n",
              "      <td>0.075319</td>\n",
              "      <td>0.084526</td>\n",
              "      <td>0.015641</td>\n",
              "      <td>0.077232</td>\n",
              "      <td>0.041341</td>\n",
              "      <td>1.000000</td>\n",
              "      <td>0.012395</td>\n",
              "      <td>0.009972</td>\n",
              "      <td>0.022762</td>\n",
              "      <td>0.011048</td>\n",
              "      <td>0.068193</td>\n",
              "    </tr>\n",
              "    <tr>\n",
              "      <th>duration</th>\n",
              "      <td>0.017220</td>\n",
              "      <td>0.022586</td>\n",
              "      <td>0.004645</td>\n",
              "      <td>0.010017</td>\n",
              "      <td>0.005041</td>\n",
              "      <td>0.012395</td>\n",
              "      <td>1.000000</td>\n",
              "      <td>0.084551</td>\n",
              "      <td>0.001549</td>\n",
              "      <td>0.001213</td>\n",
              "      <td>0.394549</td>\n",
              "    </tr>\n",
              "    <tr>\n",
              "      <th>campaign</th>\n",
              "      <td>0.026431</td>\n",
              "      <td>0.017274</td>\n",
              "      <td>0.004767</td>\n",
              "      <td>0.016819</td>\n",
              "      <td>0.023583</td>\n",
              "      <td>0.009972</td>\n",
              "      <td>0.084551</td>\n",
              "      <td>1.000000</td>\n",
              "      <td>0.088636</td>\n",
              "      <td>0.032860</td>\n",
              "      <td>0.073179</td>\n",
              "    </tr>\n",
              "    <tr>\n",
              "      <th>pdays</th>\n",
              "      <td>0.030751</td>\n",
              "      <td>0.006435</td>\n",
              "      <td>0.023745</td>\n",
              "      <td>0.029982</td>\n",
              "      <td>0.124197</td>\n",
              "      <td>0.022762</td>\n",
              "      <td>0.001549</td>\n",
              "      <td>0.088636</td>\n",
              "      <td>1.000000</td>\n",
              "      <td>0.454817</td>\n",
              "      <td>0.103616</td>\n",
              "    </tr>\n",
              "    <tr>\n",
              "      <th>previous</th>\n",
              "      <td>0.023046</td>\n",
              "      <td>0.016952</td>\n",
              "      <td>0.001297</td>\n",
              "      <td>0.018331</td>\n",
              "      <td>0.037087</td>\n",
              "      <td>0.011048</td>\n",
              "      <td>0.001213</td>\n",
              "      <td>0.032860</td>\n",
              "      <td>0.454817</td>\n",
              "      <td>1.000000</td>\n",
              "      <td>0.093232</td>\n",
              "    </tr>\n",
              "    <tr>\n",
              "      <th>term_deposit</th>\n",
              "      <td>0.053390</td>\n",
              "      <td>0.050785</td>\n",
              "      <td>0.025168</td>\n",
              "      <td>0.022421</td>\n",
              "      <td>0.139161</td>\n",
              "      <td>0.068193</td>\n",
              "      <td>0.394549</td>\n",
              "      <td>0.073179</td>\n",
              "      <td>0.103616</td>\n",
              "      <td>0.093232</td>\n",
              "      <td>1.000000</td>\n",
              "    </tr>\n",
              "  </tbody>\n",
              "</table>\n",
              "</div>\n",
              "      <button class=\"colab-df-convert\" onclick=\"convertToInteractive('df-12bc7ee4-b6fd-42c6-b65b-f565536feb14')\"\n",
              "              title=\"Convert this dataframe to an interactive table.\"\n",
              "              style=\"display:none;\">\n",
              "        \n",
              "  <svg xmlns=\"http://www.w3.org/2000/svg\" height=\"24px\"viewBox=\"0 0 24 24\"\n",
              "       width=\"24px\">\n",
              "    <path d=\"M0 0h24v24H0V0z\" fill=\"none\"/>\n",
              "    <path d=\"M18.56 5.44l.94 2.06.94-2.06 2.06-.94-2.06-.94-.94-2.06-.94 2.06-2.06.94zm-11 1L8.5 8.5l.94-2.06 2.06-.94-2.06-.94L8.5 2.5l-.94 2.06-2.06.94zm10 10l.94 2.06.94-2.06 2.06-.94-2.06-.94-.94-2.06-.94 2.06-2.06.94z\"/><path d=\"M17.41 7.96l-1.37-1.37c-.4-.4-.92-.59-1.43-.59-.52 0-1.04.2-1.43.59L10.3 9.45l-7.72 7.72c-.78.78-.78 2.05 0 2.83L4 21.41c.39.39.9.59 1.41.59.51 0 1.02-.2 1.41-.59l7.78-7.78 2.81-2.81c.8-.78.8-2.07 0-2.86zM5.41 20L4 18.59l7.72-7.72 1.47 1.35L5.41 20z\"/>\n",
              "  </svg>\n",
              "      </button>\n",
              "      \n",
              "  <style>\n",
              "    .colab-df-container {\n",
              "      display:flex;\n",
              "      flex-wrap:wrap;\n",
              "      gap: 12px;\n",
              "    }\n",
              "\n",
              "    .colab-df-convert {\n",
              "      background-color: #E8F0FE;\n",
              "      border: none;\n",
              "      border-radius: 50%;\n",
              "      cursor: pointer;\n",
              "      display: none;\n",
              "      fill: #1967D2;\n",
              "      height: 32px;\n",
              "      padding: 0 0 0 0;\n",
              "      width: 32px;\n",
              "    }\n",
              "\n",
              "    .colab-df-convert:hover {\n",
              "      background-color: #E2EBFA;\n",
              "      box-shadow: 0px 1px 2px rgba(60, 64, 67, 0.3), 0px 1px 3px 1px rgba(60, 64, 67, 0.15);\n",
              "      fill: #174EA6;\n",
              "    }\n",
              "\n",
              "    [theme=dark] .colab-df-convert {\n",
              "      background-color: #3B4455;\n",
              "      fill: #D2E3FC;\n",
              "    }\n",
              "\n",
              "    [theme=dark] .colab-df-convert:hover {\n",
              "      background-color: #434B5C;\n",
              "      box-shadow: 0px 1px 3px 1px rgba(0, 0, 0, 0.15);\n",
              "      filter: drop-shadow(0px 1px 2px rgba(0, 0, 0, 0.3));\n",
              "      fill: #FFFFFF;\n",
              "    }\n",
              "  </style>\n",
              "\n",
              "      <script>\n",
              "        const buttonEl =\n",
              "          document.querySelector('#df-12bc7ee4-b6fd-42c6-b65b-f565536feb14 button.colab-df-convert');\n",
              "        buttonEl.style.display =\n",
              "          google.colab.kernel.accessAllowed ? 'block' : 'none';\n",
              "\n",
              "        async function convertToInteractive(key) {\n",
              "          const element = document.querySelector('#df-12bc7ee4-b6fd-42c6-b65b-f565536feb14');\n",
              "          const dataTable =\n",
              "            await google.colab.kernel.invokeFunction('convertToInteractive',\n",
              "                                                     [key], {});\n",
              "          if (!dataTable) return;\n",
              "\n",
              "          const docLinkHtml = 'Like what you see? Visit the ' +\n",
              "            '<a target=\"_blank\" href=https://colab.research.google.com/notebooks/data_table.ipynb>data table notebook</a>'\n",
              "            + ' to learn more about interactive tables.';\n",
              "          element.innerHTML = '';\n",
              "          dataTable['output_type'] = 'display_data';\n",
              "          await google.colab.output.renderOutput(dataTable, element);\n",
              "          const docLink = document.createElement('div');\n",
              "          docLink.innerHTML = docLinkHtml;\n",
              "          element.appendChild(docLink);\n",
              "        }\n",
              "      </script>\n",
              "    </div>\n",
              "  </div>\n",
              "  "
            ]
          },
          "metadata": {},
          "execution_count": 27
        }
      ],
      "source": [
        "users_data.corr().abs()"
      ]
    },
    {
      "cell_type": "markdown",
      "metadata": {
        "id": "9jFF98MZLxcs"
      },
      "source": [
        "# Generate summary statistics for all of the data"
      ]
    },
    {
      "cell_type": "code",
      "execution_count": null,
      "metadata": {
        "colab": {
          "base_uri": "https://localhost:8080/",
          "height": 607
        },
        "id": "nmiXy4pnn5C5",
        "outputId": "6cdfce72-e4c7-4803-82c1-f1c49e5c029e"
      },
      "outputs": [
        {
          "output_type": "execute_result",
          "data": {
            "text/plain": [
              "                                     user_id  number_transactions  \\\n",
              "count                                  45209         35210.000000   \n",
              "unique                                 45209                  NaN   \n",
              "top     9231c446-cb16-4b2b-a7f7-ddfc8b25aaf6                  NaN   \n",
              "freq                                       1                  NaN   \n",
              "mean                                     NaN             3.977052   \n",
              "min                                      NaN             1.000000   \n",
              "25%                                      NaN             2.000000   \n",
              "50%                                      NaN             3.000000   \n",
              "75%                                      NaN             4.000000   \n",
              "max                                      NaN            20.000000   \n",
              "std                                      NaN             3.814329   \n",
              "\n",
              "        total_amount_usd           age          job  marital  education  \\\n",
              "count       35210.000000  45209.000000        44921    45209      43352   \n",
              "unique               NaN           NaN           11        3          3   \n",
              "top                  NaN           NaN  blue-collar  married  secondary   \n",
              "freq                 NaN           NaN         9731    27212      23202   \n",
              "mean         1369.417751     40.935853          NaN      NaN        NaN   \n",
              "min         -8019.000000     18.000000          NaN      NaN        NaN   \n",
              "25%            73.000000     33.000000          NaN      NaN        NaN   \n",
              "50%           451.000000     39.000000          NaN      NaN        NaN   \n",
              "75%          1438.000000     48.000000          NaN      NaN        NaN   \n",
              "max        102127.000000     95.000000          NaN      NaN        NaN   \n",
              "std          3063.412688     10.618653          NaN      NaN        NaN   \n",
              "\n",
              "       default housing   loan   contact      duration      campaign  \\\n",
              "count    45209   45209  45209     32191  45209.000000  45209.000000   \n",
              "unique       2       2      2         2           NaN           NaN   \n",
              "top      False    True  False  cellular           NaN           NaN   \n",
              "freq     44394   25128  37965     29285           NaN           NaN   \n",
              "mean       NaN     NaN    NaN       NaN    258.153067      2.763897   \n",
              "min        NaN     NaN    NaN       NaN      0.000000      1.000000   \n",
              "25%        NaN     NaN    NaN       NaN    103.000000      1.000000   \n",
              "50%        NaN     NaN    NaN       NaN    180.000000      2.000000   \n",
              "75%        NaN     NaN    NaN       NaN    319.000000      3.000000   \n",
              "max        NaN     NaN    NaN       NaN   4918.000000     63.000000   \n",
              "std        NaN     NaN    NaN       NaN    257.525446      3.098076   \n",
              "\n",
              "               pdays      previous poutcome term_deposit  \\\n",
              "count   45209.000000  45209.000000     8252        45209   \n",
              "unique           NaN           NaN        3            2   \n",
              "top              NaN           NaN  failure        False   \n",
              "freq             NaN           NaN     4901        39920   \n",
              "mean       40.199651      0.580349      NaN          NaN   \n",
              "min        -1.000000      0.000000      NaN          NaN   \n",
              "25%        -1.000000      0.000000      NaN          NaN   \n",
              "50%        -1.000000      0.000000      NaN          NaN   \n",
              "75%        -1.000000      0.000000      NaN          NaN   \n",
              "max       871.000000    275.000000      NaN          NaN   \n",
              "std       100.130586      2.303489      NaN          NaN   \n",
              "\n",
              "                          date_joined  device  \n",
              "count                           45179   45115  \n",
              "unique                            NaN       3  \n",
              "top                               NaN  mobile  \n",
              "freq                              NaN   27504  \n",
              "mean    1999-06-14 21:54:38.558622336     NaN  \n",
              "min               1988-01-01 00:00:00     NaN  \n",
              "25%               1993-09-18 00:00:00     NaN  \n",
              "50%               1999-06-11 00:00:00     NaN  \n",
              "75%               2005-03-18 00:00:00     NaN  \n",
              "max               2010-11-30 00:00:00     NaN  \n",
              "std                               NaN     NaN  "
            ],
            "text/html": [
              "\n",
              "  <div id=\"df-43cad065-cc27-4adc-95a2-f4acaad4dc96\">\n",
              "    <div class=\"colab-df-container\">\n",
              "      <div>\n",
              "<style scoped>\n",
              "    .dataframe tbody tr th:only-of-type {\n",
              "        vertical-align: middle;\n",
              "    }\n",
              "\n",
              "    .dataframe tbody tr th {\n",
              "        vertical-align: top;\n",
              "    }\n",
              "\n",
              "    .dataframe thead th {\n",
              "        text-align: right;\n",
              "    }\n",
              "</style>\n",
              "<table border=\"1\" class=\"dataframe\">\n",
              "  <thead>\n",
              "    <tr style=\"text-align: right;\">\n",
              "      <th></th>\n",
              "      <th>user_id</th>\n",
              "      <th>number_transactions</th>\n",
              "      <th>total_amount_usd</th>\n",
              "      <th>age</th>\n",
              "      <th>job</th>\n",
              "      <th>marital</th>\n",
              "      <th>education</th>\n",
              "      <th>default</th>\n",
              "      <th>housing</th>\n",
              "      <th>loan</th>\n",
              "      <th>contact</th>\n",
              "      <th>duration</th>\n",
              "      <th>campaign</th>\n",
              "      <th>pdays</th>\n",
              "      <th>previous</th>\n",
              "      <th>poutcome</th>\n",
              "      <th>term_deposit</th>\n",
              "      <th>date_joined</th>\n",
              "      <th>device</th>\n",
              "    </tr>\n",
              "  </thead>\n",
              "  <tbody>\n",
              "    <tr>\n",
              "      <th>count</th>\n",
              "      <td>45209</td>\n",
              "      <td>35210.000000</td>\n",
              "      <td>35210.000000</td>\n",
              "      <td>45209.000000</td>\n",
              "      <td>44921</td>\n",
              "      <td>45209</td>\n",
              "      <td>43352</td>\n",
              "      <td>45209</td>\n",
              "      <td>45209</td>\n",
              "      <td>45209</td>\n",
              "      <td>32191</td>\n",
              "      <td>45209.000000</td>\n",
              "      <td>45209.000000</td>\n",
              "      <td>45209.000000</td>\n",
              "      <td>45209.000000</td>\n",
              "      <td>8252</td>\n",
              "      <td>45209</td>\n",
              "      <td>45179</td>\n",
              "      <td>45115</td>\n",
              "    </tr>\n",
              "    <tr>\n",
              "      <th>unique</th>\n",
              "      <td>45209</td>\n",
              "      <td>NaN</td>\n",
              "      <td>NaN</td>\n",
              "      <td>NaN</td>\n",
              "      <td>11</td>\n",
              "      <td>3</td>\n",
              "      <td>3</td>\n",
              "      <td>2</td>\n",
              "      <td>2</td>\n",
              "      <td>2</td>\n",
              "      <td>2</td>\n",
              "      <td>NaN</td>\n",
              "      <td>NaN</td>\n",
              "      <td>NaN</td>\n",
              "      <td>NaN</td>\n",
              "      <td>3</td>\n",
              "      <td>2</td>\n",
              "      <td>NaN</td>\n",
              "      <td>3</td>\n",
              "    </tr>\n",
              "    <tr>\n",
              "      <th>top</th>\n",
              "      <td>9231c446-cb16-4b2b-a7f7-ddfc8b25aaf6</td>\n",
              "      <td>NaN</td>\n",
              "      <td>NaN</td>\n",
              "      <td>NaN</td>\n",
              "      <td>blue-collar</td>\n",
              "      <td>married</td>\n",
              "      <td>secondary</td>\n",
              "      <td>False</td>\n",
              "      <td>True</td>\n",
              "      <td>False</td>\n",
              "      <td>cellular</td>\n",
              "      <td>NaN</td>\n",
              "      <td>NaN</td>\n",
              "      <td>NaN</td>\n",
              "      <td>NaN</td>\n",
              "      <td>failure</td>\n",
              "      <td>False</td>\n",
              "      <td>NaN</td>\n",
              "      <td>mobile</td>\n",
              "    </tr>\n",
              "    <tr>\n",
              "      <th>freq</th>\n",
              "      <td>1</td>\n",
              "      <td>NaN</td>\n",
              "      <td>NaN</td>\n",
              "      <td>NaN</td>\n",
              "      <td>9731</td>\n",
              "      <td>27212</td>\n",
              "      <td>23202</td>\n",
              "      <td>44394</td>\n",
              "      <td>25128</td>\n",
              "      <td>37965</td>\n",
              "      <td>29285</td>\n",
              "      <td>NaN</td>\n",
              "      <td>NaN</td>\n",
              "      <td>NaN</td>\n",
              "      <td>NaN</td>\n",
              "      <td>4901</td>\n",
              "      <td>39920</td>\n",
              "      <td>NaN</td>\n",
              "      <td>27504</td>\n",
              "    </tr>\n",
              "    <tr>\n",
              "      <th>mean</th>\n",
              "      <td>NaN</td>\n",
              "      <td>3.977052</td>\n",
              "      <td>1369.417751</td>\n",
              "      <td>40.935853</td>\n",
              "      <td>NaN</td>\n",
              "      <td>NaN</td>\n",
              "      <td>NaN</td>\n",
              "      <td>NaN</td>\n",
              "      <td>NaN</td>\n",
              "      <td>NaN</td>\n",
              "      <td>NaN</td>\n",
              "      <td>258.153067</td>\n",
              "      <td>2.763897</td>\n",
              "      <td>40.199651</td>\n",
              "      <td>0.580349</td>\n",
              "      <td>NaN</td>\n",
              "      <td>NaN</td>\n",
              "      <td>1999-06-14 21:54:38.558622336</td>\n",
              "      <td>NaN</td>\n",
              "    </tr>\n",
              "    <tr>\n",
              "      <th>min</th>\n",
              "      <td>NaN</td>\n",
              "      <td>1.000000</td>\n",
              "      <td>-8019.000000</td>\n",
              "      <td>18.000000</td>\n",
              "      <td>NaN</td>\n",
              "      <td>NaN</td>\n",
              "      <td>NaN</td>\n",
              "      <td>NaN</td>\n",
              "      <td>NaN</td>\n",
              "      <td>NaN</td>\n",
              "      <td>NaN</td>\n",
              "      <td>0.000000</td>\n",
              "      <td>1.000000</td>\n",
              "      <td>-1.000000</td>\n",
              "      <td>0.000000</td>\n",
              "      <td>NaN</td>\n",
              "      <td>NaN</td>\n",
              "      <td>1988-01-01 00:00:00</td>\n",
              "      <td>NaN</td>\n",
              "    </tr>\n",
              "    <tr>\n",
              "      <th>25%</th>\n",
              "      <td>NaN</td>\n",
              "      <td>2.000000</td>\n",
              "      <td>73.000000</td>\n",
              "      <td>33.000000</td>\n",
              "      <td>NaN</td>\n",
              "      <td>NaN</td>\n",
              "      <td>NaN</td>\n",
              "      <td>NaN</td>\n",
              "      <td>NaN</td>\n",
              "      <td>NaN</td>\n",
              "      <td>NaN</td>\n",
              "      <td>103.000000</td>\n",
              "      <td>1.000000</td>\n",
              "      <td>-1.000000</td>\n",
              "      <td>0.000000</td>\n",
              "      <td>NaN</td>\n",
              "      <td>NaN</td>\n",
              "      <td>1993-09-18 00:00:00</td>\n",
              "      <td>NaN</td>\n",
              "    </tr>\n",
              "    <tr>\n",
              "      <th>50%</th>\n",
              "      <td>NaN</td>\n",
              "      <td>3.000000</td>\n",
              "      <td>451.000000</td>\n",
              "      <td>39.000000</td>\n",
              "      <td>NaN</td>\n",
              "      <td>NaN</td>\n",
              "      <td>NaN</td>\n",
              "      <td>NaN</td>\n",
              "      <td>NaN</td>\n",
              "      <td>NaN</td>\n",
              "      <td>NaN</td>\n",
              "      <td>180.000000</td>\n",
              "      <td>2.000000</td>\n",
              "      <td>-1.000000</td>\n",
              "      <td>0.000000</td>\n",
              "      <td>NaN</td>\n",
              "      <td>NaN</td>\n",
              "      <td>1999-06-11 00:00:00</td>\n",
              "      <td>NaN</td>\n",
              "    </tr>\n",
              "    <tr>\n",
              "      <th>75%</th>\n",
              "      <td>NaN</td>\n",
              "      <td>4.000000</td>\n",
              "      <td>1438.000000</td>\n",
              "      <td>48.000000</td>\n",
              "      <td>NaN</td>\n",
              "      <td>NaN</td>\n",
              "      <td>NaN</td>\n",
              "      <td>NaN</td>\n",
              "      <td>NaN</td>\n",
              "      <td>NaN</td>\n",
              "      <td>NaN</td>\n",
              "      <td>319.000000</td>\n",
              "      <td>3.000000</td>\n",
              "      <td>-1.000000</td>\n",
              "      <td>0.000000</td>\n",
              "      <td>NaN</td>\n",
              "      <td>NaN</td>\n",
              "      <td>2005-03-18 00:00:00</td>\n",
              "      <td>NaN</td>\n",
              "    </tr>\n",
              "    <tr>\n",
              "      <th>max</th>\n",
              "      <td>NaN</td>\n",
              "      <td>20.000000</td>\n",
              "      <td>102127.000000</td>\n",
              "      <td>95.000000</td>\n",
              "      <td>NaN</td>\n",
              "      <td>NaN</td>\n",
              "      <td>NaN</td>\n",
              "      <td>NaN</td>\n",
              "      <td>NaN</td>\n",
              "      <td>NaN</td>\n",
              "      <td>NaN</td>\n",
              "      <td>4918.000000</td>\n",
              "      <td>63.000000</td>\n",
              "      <td>871.000000</td>\n",
              "      <td>275.000000</td>\n",
              "      <td>NaN</td>\n",
              "      <td>NaN</td>\n",
              "      <td>2010-11-30 00:00:00</td>\n",
              "      <td>NaN</td>\n",
              "    </tr>\n",
              "    <tr>\n",
              "      <th>std</th>\n",
              "      <td>NaN</td>\n",
              "      <td>3.814329</td>\n",
              "      <td>3063.412688</td>\n",
              "      <td>10.618653</td>\n",
              "      <td>NaN</td>\n",
              "      <td>NaN</td>\n",
              "      <td>NaN</td>\n",
              "      <td>NaN</td>\n",
              "      <td>NaN</td>\n",
              "      <td>NaN</td>\n",
              "      <td>NaN</td>\n",
              "      <td>257.525446</td>\n",
              "      <td>3.098076</td>\n",
              "      <td>100.130586</td>\n",
              "      <td>2.303489</td>\n",
              "      <td>NaN</td>\n",
              "      <td>NaN</td>\n",
              "      <td>NaN</td>\n",
              "      <td>NaN</td>\n",
              "    </tr>\n",
              "  </tbody>\n",
              "</table>\n",
              "</div>\n",
              "      <button class=\"colab-df-convert\" onclick=\"convertToInteractive('df-43cad065-cc27-4adc-95a2-f4acaad4dc96')\"\n",
              "              title=\"Convert this dataframe to an interactive table.\"\n",
              "              style=\"display:none;\">\n",
              "        \n",
              "  <svg xmlns=\"http://www.w3.org/2000/svg\" height=\"24px\"viewBox=\"0 0 24 24\"\n",
              "       width=\"24px\">\n",
              "    <path d=\"M0 0h24v24H0V0z\" fill=\"none\"/>\n",
              "    <path d=\"M18.56 5.44l.94 2.06.94-2.06 2.06-.94-2.06-.94-.94-2.06-.94 2.06-2.06.94zm-11 1L8.5 8.5l.94-2.06 2.06-.94-2.06-.94L8.5 2.5l-.94 2.06-2.06.94zm10 10l.94 2.06.94-2.06 2.06-.94-2.06-.94-.94-2.06-.94 2.06-2.06.94z\"/><path d=\"M17.41 7.96l-1.37-1.37c-.4-.4-.92-.59-1.43-.59-.52 0-1.04.2-1.43.59L10.3 9.45l-7.72 7.72c-.78.78-.78 2.05 0 2.83L4 21.41c.39.39.9.59 1.41.59.51 0 1.02-.2 1.41-.59l7.78-7.78 2.81-2.81c.8-.78.8-2.07 0-2.86zM5.41 20L4 18.59l7.72-7.72 1.47 1.35L5.41 20z\"/>\n",
              "  </svg>\n",
              "      </button>\n",
              "      \n",
              "  <style>\n",
              "    .colab-df-container {\n",
              "      display:flex;\n",
              "      flex-wrap:wrap;\n",
              "      gap: 12px;\n",
              "    }\n",
              "\n",
              "    .colab-df-convert {\n",
              "      background-color: #E8F0FE;\n",
              "      border: none;\n",
              "      border-radius: 50%;\n",
              "      cursor: pointer;\n",
              "      display: none;\n",
              "      fill: #1967D2;\n",
              "      height: 32px;\n",
              "      padding: 0 0 0 0;\n",
              "      width: 32px;\n",
              "    }\n",
              "\n",
              "    .colab-df-convert:hover {\n",
              "      background-color: #E2EBFA;\n",
              "      box-shadow: 0px 1px 2px rgba(60, 64, 67, 0.3), 0px 1px 3px 1px rgba(60, 64, 67, 0.15);\n",
              "      fill: #174EA6;\n",
              "    }\n",
              "\n",
              "    [theme=dark] .colab-df-convert {\n",
              "      background-color: #3B4455;\n",
              "      fill: #D2E3FC;\n",
              "    }\n",
              "\n",
              "    [theme=dark] .colab-df-convert:hover {\n",
              "      background-color: #434B5C;\n",
              "      box-shadow: 0px 1px 3px 1px rgba(0, 0, 0, 0.15);\n",
              "      filter: drop-shadow(0px 1px 2px rgba(0, 0, 0, 0.3));\n",
              "      fill: #FFFFFF;\n",
              "    }\n",
              "  </style>\n",
              "\n",
              "      <script>\n",
              "        const buttonEl =\n",
              "          document.querySelector('#df-43cad065-cc27-4adc-95a2-f4acaad4dc96 button.colab-df-convert');\n",
              "        buttonEl.style.display =\n",
              "          google.colab.kernel.accessAllowed ? 'block' : 'none';\n",
              "\n",
              "        async function convertToInteractive(key) {\n",
              "          const element = document.querySelector('#df-43cad065-cc27-4adc-95a2-f4acaad4dc96');\n",
              "          const dataTable =\n",
              "            await google.colab.kernel.invokeFunction('convertToInteractive',\n",
              "                                                     [key], {});\n",
              "          if (!dataTable) return;\n",
              "\n",
              "          const docLinkHtml = 'Like what you see? Visit the ' +\n",
              "            '<a target=\"_blank\" href=https://colab.research.google.com/notebooks/data_table.ipynb>data table notebook</a>'\n",
              "            + ' to learn more about interactive tables.';\n",
              "          element.innerHTML = '';\n",
              "          dataTable['output_type'] = 'display_data';\n",
              "          await google.colab.output.renderOutput(dataTable, element);\n",
              "          const docLink = document.createElement('div');\n",
              "          docLink.innerHTML = docLinkHtml;\n",
              "          element.appendChild(docLink);\n",
              "        }\n",
              "      </script>\n",
              "    </div>\n",
              "  </div>\n",
              "  "
            ]
          },
          "metadata": {},
          "execution_count": 28
        }
      ],
      "source": [
        "users_data.describe(datetime_is_numeric = True, include = 'all')"
      ]
    },
    {
      "cell_type": "markdown",
      "metadata": {
        "id": "-tTQJOqZL2eC"
      },
      "source": [
        "# Generate summary statistics for numerical data only"
      ]
    },
    {
      "cell_type": "code",
      "execution_count": null,
      "metadata": {
        "colab": {
          "base_uri": "https://localhost:8080/",
          "height": 297
        },
        "id": "n1k9ccNKpLSz",
        "outputId": "dbc647d0-2cb6-4c36-cea2-51b47f291b6e"
      },
      "outputs": [
        {
          "output_type": "execute_result",
          "data": {
            "text/plain": [
              "       number_transactions  total_amount_usd           age      duration  \\\n",
              "count         35210.000000      35210.000000  45209.000000  45209.000000   \n",
              "mean              3.977052       1369.417751     40.935853    258.153067   \n",
              "std               3.814329       3063.412688     10.618653    257.525446   \n",
              "min               1.000000      -8019.000000     18.000000      0.000000   \n",
              "25%               2.000000         73.000000     33.000000    103.000000   \n",
              "50%               3.000000        451.000000     39.000000    180.000000   \n",
              "75%               4.000000       1438.000000     48.000000    319.000000   \n",
              "max              20.000000     102127.000000     95.000000   4918.000000   \n",
              "\n",
              "           campaign         pdays      previous  \n",
              "count  45209.000000  45209.000000  45209.000000  \n",
              "mean       2.763897     40.199651      0.580349  \n",
              "std        3.098076    100.130586      2.303489  \n",
              "min        1.000000     -1.000000      0.000000  \n",
              "25%        1.000000     -1.000000      0.000000  \n",
              "50%        2.000000     -1.000000      0.000000  \n",
              "75%        3.000000     -1.000000      0.000000  \n",
              "max       63.000000    871.000000    275.000000  "
            ],
            "text/html": [
              "\n",
              "  <div id=\"df-0e57c0cf-e38b-4ed4-9332-c7286feda67a\">\n",
              "    <div class=\"colab-df-container\">\n",
              "      <div>\n",
              "<style scoped>\n",
              "    .dataframe tbody tr th:only-of-type {\n",
              "        vertical-align: middle;\n",
              "    }\n",
              "\n",
              "    .dataframe tbody tr th {\n",
              "        vertical-align: top;\n",
              "    }\n",
              "\n",
              "    .dataframe thead th {\n",
              "        text-align: right;\n",
              "    }\n",
              "</style>\n",
              "<table border=\"1\" class=\"dataframe\">\n",
              "  <thead>\n",
              "    <tr style=\"text-align: right;\">\n",
              "      <th></th>\n",
              "      <th>number_transactions</th>\n",
              "      <th>total_amount_usd</th>\n",
              "      <th>age</th>\n",
              "      <th>duration</th>\n",
              "      <th>campaign</th>\n",
              "      <th>pdays</th>\n",
              "      <th>previous</th>\n",
              "    </tr>\n",
              "  </thead>\n",
              "  <tbody>\n",
              "    <tr>\n",
              "      <th>count</th>\n",
              "      <td>35210.000000</td>\n",
              "      <td>35210.000000</td>\n",
              "      <td>45209.000000</td>\n",
              "      <td>45209.000000</td>\n",
              "      <td>45209.000000</td>\n",
              "      <td>45209.000000</td>\n",
              "      <td>45209.000000</td>\n",
              "    </tr>\n",
              "    <tr>\n",
              "      <th>mean</th>\n",
              "      <td>3.977052</td>\n",
              "      <td>1369.417751</td>\n",
              "      <td>40.935853</td>\n",
              "      <td>258.153067</td>\n",
              "      <td>2.763897</td>\n",
              "      <td>40.199651</td>\n",
              "      <td>0.580349</td>\n",
              "    </tr>\n",
              "    <tr>\n",
              "      <th>std</th>\n",
              "      <td>3.814329</td>\n",
              "      <td>3063.412688</td>\n",
              "      <td>10.618653</td>\n",
              "      <td>257.525446</td>\n",
              "      <td>3.098076</td>\n",
              "      <td>100.130586</td>\n",
              "      <td>2.303489</td>\n",
              "    </tr>\n",
              "    <tr>\n",
              "      <th>min</th>\n",
              "      <td>1.000000</td>\n",
              "      <td>-8019.000000</td>\n",
              "      <td>18.000000</td>\n",
              "      <td>0.000000</td>\n",
              "      <td>1.000000</td>\n",
              "      <td>-1.000000</td>\n",
              "      <td>0.000000</td>\n",
              "    </tr>\n",
              "    <tr>\n",
              "      <th>25%</th>\n",
              "      <td>2.000000</td>\n",
              "      <td>73.000000</td>\n",
              "      <td>33.000000</td>\n",
              "      <td>103.000000</td>\n",
              "      <td>1.000000</td>\n",
              "      <td>-1.000000</td>\n",
              "      <td>0.000000</td>\n",
              "    </tr>\n",
              "    <tr>\n",
              "      <th>50%</th>\n",
              "      <td>3.000000</td>\n",
              "      <td>451.000000</td>\n",
              "      <td>39.000000</td>\n",
              "      <td>180.000000</td>\n",
              "      <td>2.000000</td>\n",
              "      <td>-1.000000</td>\n",
              "      <td>0.000000</td>\n",
              "    </tr>\n",
              "    <tr>\n",
              "      <th>75%</th>\n",
              "      <td>4.000000</td>\n",
              "      <td>1438.000000</td>\n",
              "      <td>48.000000</td>\n",
              "      <td>319.000000</td>\n",
              "      <td>3.000000</td>\n",
              "      <td>-1.000000</td>\n",
              "      <td>0.000000</td>\n",
              "    </tr>\n",
              "    <tr>\n",
              "      <th>max</th>\n",
              "      <td>20.000000</td>\n",
              "      <td>102127.000000</td>\n",
              "      <td>95.000000</td>\n",
              "      <td>4918.000000</td>\n",
              "      <td>63.000000</td>\n",
              "      <td>871.000000</td>\n",
              "      <td>275.000000</td>\n",
              "    </tr>\n",
              "  </tbody>\n",
              "</table>\n",
              "</div>\n",
              "      <button class=\"colab-df-convert\" onclick=\"convertToInteractive('df-0e57c0cf-e38b-4ed4-9332-c7286feda67a')\"\n",
              "              title=\"Convert this dataframe to an interactive table.\"\n",
              "              style=\"display:none;\">\n",
              "        \n",
              "  <svg xmlns=\"http://www.w3.org/2000/svg\" height=\"24px\"viewBox=\"0 0 24 24\"\n",
              "       width=\"24px\">\n",
              "    <path d=\"M0 0h24v24H0V0z\" fill=\"none\"/>\n",
              "    <path d=\"M18.56 5.44l.94 2.06.94-2.06 2.06-.94-2.06-.94-.94-2.06-.94 2.06-2.06.94zm-11 1L8.5 8.5l.94-2.06 2.06-.94-2.06-.94L8.5 2.5l-.94 2.06-2.06.94zm10 10l.94 2.06.94-2.06 2.06-.94-2.06-.94-.94-2.06-.94 2.06-2.06.94z\"/><path d=\"M17.41 7.96l-1.37-1.37c-.4-.4-.92-.59-1.43-.59-.52 0-1.04.2-1.43.59L10.3 9.45l-7.72 7.72c-.78.78-.78 2.05 0 2.83L4 21.41c.39.39.9.59 1.41.59.51 0 1.02-.2 1.41-.59l7.78-7.78 2.81-2.81c.8-.78.8-2.07 0-2.86zM5.41 20L4 18.59l7.72-7.72 1.47 1.35L5.41 20z\"/>\n",
              "  </svg>\n",
              "      </button>\n",
              "      \n",
              "  <style>\n",
              "    .colab-df-container {\n",
              "      display:flex;\n",
              "      flex-wrap:wrap;\n",
              "      gap: 12px;\n",
              "    }\n",
              "\n",
              "    .colab-df-convert {\n",
              "      background-color: #E8F0FE;\n",
              "      border: none;\n",
              "      border-radius: 50%;\n",
              "      cursor: pointer;\n",
              "      display: none;\n",
              "      fill: #1967D2;\n",
              "      height: 32px;\n",
              "      padding: 0 0 0 0;\n",
              "      width: 32px;\n",
              "    }\n",
              "\n",
              "    .colab-df-convert:hover {\n",
              "      background-color: #E2EBFA;\n",
              "      box-shadow: 0px 1px 2px rgba(60, 64, 67, 0.3), 0px 1px 3px 1px rgba(60, 64, 67, 0.15);\n",
              "      fill: #174EA6;\n",
              "    }\n",
              "\n",
              "    [theme=dark] .colab-df-convert {\n",
              "      background-color: #3B4455;\n",
              "      fill: #D2E3FC;\n",
              "    }\n",
              "\n",
              "    [theme=dark] .colab-df-convert:hover {\n",
              "      background-color: #434B5C;\n",
              "      box-shadow: 0px 1px 3px 1px rgba(0, 0, 0, 0.15);\n",
              "      filter: drop-shadow(0px 1px 2px rgba(0, 0, 0, 0.3));\n",
              "      fill: #FFFFFF;\n",
              "    }\n",
              "  </style>\n",
              "\n",
              "      <script>\n",
              "        const buttonEl =\n",
              "          document.querySelector('#df-0e57c0cf-e38b-4ed4-9332-c7286feda67a button.colab-df-convert');\n",
              "        buttonEl.style.display =\n",
              "          google.colab.kernel.accessAllowed ? 'block' : 'none';\n",
              "\n",
              "        async function convertToInteractive(key) {\n",
              "          const element = document.querySelector('#df-0e57c0cf-e38b-4ed4-9332-c7286feda67a');\n",
              "          const dataTable =\n",
              "            await google.colab.kernel.invokeFunction('convertToInteractive',\n",
              "                                                     [key], {});\n",
              "          if (!dataTable) return;\n",
              "\n",
              "          const docLinkHtml = 'Like what you see? Visit the ' +\n",
              "            '<a target=\"_blank\" href=https://colab.research.google.com/notebooks/data_table.ipynb>data table notebook</a>'\n",
              "            + ' to learn more about interactive tables.';\n",
              "          element.innerHTML = '';\n",
              "          dataTable['output_type'] = 'display_data';\n",
              "          await google.colab.output.renderOutput(dataTable, element);\n",
              "          const docLink = document.createElement('div');\n",
              "          docLink.innerHTML = docLinkHtml;\n",
              "          element.appendChild(docLink);\n",
              "        }\n",
              "      </script>\n",
              "    </div>\n",
              "  </div>\n",
              "  "
            ]
          },
          "metadata": {},
          "execution_count": 29
        }
      ],
      "source": [
        "users_data.describe()"
      ]
    },
    {
      "cell_type": "markdown",
      "metadata": {
        "id": "m5RObXuiIO8Y"
      },
      "source": [
        "# Generate modal values for all data"
      ]
    },
    {
      "cell_type": "code",
      "execution_count": null,
      "metadata": {
        "colab": {
          "base_uri": "https://localhost:8080/",
          "height": 192
        },
        "id": "VzkCiNx5Wg3C",
        "outputId": "245ee601-acd4-4f6f-dfad-155e491e0706"
      },
      "outputs": [
        {
          "output_type": "execute_result",
          "data": {
            "text/plain": [
              "   number_transactions  total_amount_usd   age          job  marital  \\\n",
              "0                  2.0               0.0  32.0  blue-collar  married   \n",
              "1                  NaN               NaN   NaN          NaN      NaN   \n",
              "\n",
              "   education default housing   loan   contact  duration  campaign  pdays  \\\n",
              "0  secondary   False    True  False  cellular     124.0       1.0   -1.0   \n",
              "1        NaN     NaN     NaN    NaN       NaN       NaN       NaN    NaN   \n",
              "\n",
              "   previous poutcome term_deposit date_joined  device  \n",
              "0       0.0  failure        False  1990-07-05  mobile  \n",
              "1       NaN      NaN          NaN  2007-12-07     NaN  "
            ],
            "text/html": [
              "\n",
              "  <div id=\"df-b04586a6-55e6-4525-8789-fe8c702d112d\">\n",
              "    <div class=\"colab-df-container\">\n",
              "      <div>\n",
              "<style scoped>\n",
              "    .dataframe tbody tr th:only-of-type {\n",
              "        vertical-align: middle;\n",
              "    }\n",
              "\n",
              "    .dataframe tbody tr th {\n",
              "        vertical-align: top;\n",
              "    }\n",
              "\n",
              "    .dataframe thead th {\n",
              "        text-align: right;\n",
              "    }\n",
              "</style>\n",
              "<table border=\"1\" class=\"dataframe\">\n",
              "  <thead>\n",
              "    <tr style=\"text-align: right;\">\n",
              "      <th></th>\n",
              "      <th>number_transactions</th>\n",
              "      <th>total_amount_usd</th>\n",
              "      <th>age</th>\n",
              "      <th>job</th>\n",
              "      <th>marital</th>\n",
              "      <th>education</th>\n",
              "      <th>default</th>\n",
              "      <th>housing</th>\n",
              "      <th>loan</th>\n",
              "      <th>contact</th>\n",
              "      <th>duration</th>\n",
              "      <th>campaign</th>\n",
              "      <th>pdays</th>\n",
              "      <th>previous</th>\n",
              "      <th>poutcome</th>\n",
              "      <th>term_deposit</th>\n",
              "      <th>date_joined</th>\n",
              "      <th>device</th>\n",
              "    </tr>\n",
              "  </thead>\n",
              "  <tbody>\n",
              "    <tr>\n",
              "      <th>0</th>\n",
              "      <td>2.0</td>\n",
              "      <td>0.0</td>\n",
              "      <td>32.0</td>\n",
              "      <td>blue-collar</td>\n",
              "      <td>married</td>\n",
              "      <td>secondary</td>\n",
              "      <td>False</td>\n",
              "      <td>True</td>\n",
              "      <td>False</td>\n",
              "      <td>cellular</td>\n",
              "      <td>124.0</td>\n",
              "      <td>1.0</td>\n",
              "      <td>-1.0</td>\n",
              "      <td>0.0</td>\n",
              "      <td>failure</td>\n",
              "      <td>False</td>\n",
              "      <td>1990-07-05</td>\n",
              "      <td>mobile</td>\n",
              "    </tr>\n",
              "    <tr>\n",
              "      <th>1</th>\n",
              "      <td>NaN</td>\n",
              "      <td>NaN</td>\n",
              "      <td>NaN</td>\n",
              "      <td>NaN</td>\n",
              "      <td>NaN</td>\n",
              "      <td>NaN</td>\n",
              "      <td>NaN</td>\n",
              "      <td>NaN</td>\n",
              "      <td>NaN</td>\n",
              "      <td>NaN</td>\n",
              "      <td>NaN</td>\n",
              "      <td>NaN</td>\n",
              "      <td>NaN</td>\n",
              "      <td>NaN</td>\n",
              "      <td>NaN</td>\n",
              "      <td>NaN</td>\n",
              "      <td>2007-12-07</td>\n",
              "      <td>NaN</td>\n",
              "    </tr>\n",
              "  </tbody>\n",
              "</table>\n",
              "</div>\n",
              "      <button class=\"colab-df-convert\" onclick=\"convertToInteractive('df-b04586a6-55e6-4525-8789-fe8c702d112d')\"\n",
              "              title=\"Convert this dataframe to an interactive table.\"\n",
              "              style=\"display:none;\">\n",
              "        \n",
              "  <svg xmlns=\"http://www.w3.org/2000/svg\" height=\"24px\"viewBox=\"0 0 24 24\"\n",
              "       width=\"24px\">\n",
              "    <path d=\"M0 0h24v24H0V0z\" fill=\"none\"/>\n",
              "    <path d=\"M18.56 5.44l.94 2.06.94-2.06 2.06-.94-2.06-.94-.94-2.06-.94 2.06-2.06.94zm-11 1L8.5 8.5l.94-2.06 2.06-.94-2.06-.94L8.5 2.5l-.94 2.06-2.06.94zm10 10l.94 2.06.94-2.06 2.06-.94-2.06-.94-.94-2.06-.94 2.06-2.06.94z\"/><path d=\"M17.41 7.96l-1.37-1.37c-.4-.4-.92-.59-1.43-.59-.52 0-1.04.2-1.43.59L10.3 9.45l-7.72 7.72c-.78.78-.78 2.05 0 2.83L4 21.41c.39.39.9.59 1.41.59.51 0 1.02-.2 1.41-.59l7.78-7.78 2.81-2.81c.8-.78.8-2.07 0-2.86zM5.41 20L4 18.59l7.72-7.72 1.47 1.35L5.41 20z\"/>\n",
              "  </svg>\n",
              "      </button>\n",
              "      \n",
              "  <style>\n",
              "    .colab-df-container {\n",
              "      display:flex;\n",
              "      flex-wrap:wrap;\n",
              "      gap: 12px;\n",
              "    }\n",
              "\n",
              "    .colab-df-convert {\n",
              "      background-color: #E8F0FE;\n",
              "      border: none;\n",
              "      border-radius: 50%;\n",
              "      cursor: pointer;\n",
              "      display: none;\n",
              "      fill: #1967D2;\n",
              "      height: 32px;\n",
              "      padding: 0 0 0 0;\n",
              "      width: 32px;\n",
              "    }\n",
              "\n",
              "    .colab-df-convert:hover {\n",
              "      background-color: #E2EBFA;\n",
              "      box-shadow: 0px 1px 2px rgba(60, 64, 67, 0.3), 0px 1px 3px 1px rgba(60, 64, 67, 0.15);\n",
              "      fill: #174EA6;\n",
              "    }\n",
              "\n",
              "    [theme=dark] .colab-df-convert {\n",
              "      background-color: #3B4455;\n",
              "      fill: #D2E3FC;\n",
              "    }\n",
              "\n",
              "    [theme=dark] .colab-df-convert:hover {\n",
              "      background-color: #434B5C;\n",
              "      box-shadow: 0px 1px 3px 1px rgba(0, 0, 0, 0.15);\n",
              "      filter: drop-shadow(0px 1px 2px rgba(0, 0, 0, 0.3));\n",
              "      fill: #FFFFFF;\n",
              "    }\n",
              "  </style>\n",
              "\n",
              "      <script>\n",
              "        const buttonEl =\n",
              "          document.querySelector('#df-b04586a6-55e6-4525-8789-fe8c702d112d button.colab-df-convert');\n",
              "        buttonEl.style.display =\n",
              "          google.colab.kernel.accessAllowed ? 'block' : 'none';\n",
              "\n",
              "        async function convertToInteractive(key) {\n",
              "          const element = document.querySelector('#df-b04586a6-55e6-4525-8789-fe8c702d112d');\n",
              "          const dataTable =\n",
              "            await google.colab.kernel.invokeFunction('convertToInteractive',\n",
              "                                                     [key], {});\n",
              "          if (!dataTable) return;\n",
              "\n",
              "          const docLinkHtml = 'Like what you see? Visit the ' +\n",
              "            '<a target=\"_blank\" href=https://colab.research.google.com/notebooks/data_table.ipynb>data table notebook</a>'\n",
              "            + ' to learn more about interactive tables.';\n",
              "          element.innerHTML = '';\n",
              "          dataTable['output_type'] = 'display_data';\n",
              "          await google.colab.output.renderOutput(dataTable, element);\n",
              "          const docLink = document.createElement('div');\n",
              "          docLink.innerHTML = docLinkHtml;\n",
              "          element.appendChild(docLink);\n",
              "        }\n",
              "      </script>\n",
              "    </div>\n",
              "  </div>\n",
              "  "
            ]
          },
          "metadata": {},
          "execution_count": 30
        }
      ],
      "source": [
        "# Drop user ID since it's unique.\n",
        "\n",
        "users_data.drop(['user_id'], axis = 1).mode()"
      ]
    },
    {
      "cell_type": "markdown",
      "metadata": {
        "id": "poHdJCbuG5bo"
      },
      "source": [
        "# Generate skewness and kurtosis measurements"
      ]
    },
    {
      "cell_type": "code",
      "execution_count": null,
      "metadata": {
        "colab": {
          "base_uri": "https://localhost:8080/"
        },
        "id": "GOx876OrG5bo",
        "outputId": "912b87ba-c316-4b24-9285-f06277f22c14"
      },
      "outputs": [
        {
          "output_type": "execute_result",
          "data": {
            "text/plain": [
              "number_transactions     2.704543\n",
              "total_amount_usd        8.596128\n",
              "age                     0.684861\n",
              "default                 7.245206\n",
              "housing                -0.224686\n",
              "loan                    1.852545\n",
              "duration                3.144556\n",
              "campaign                4.898555\n",
              "pdays                   2.615635\n",
              "previous               41.845672\n",
              "term_deposit            2.383403\n",
              "dtype: float64"
            ]
          },
          "metadata": {},
          "execution_count": 31
        }
      ],
      "source": [
        "users_data.skew()"
      ]
    },
    {
      "cell_type": "code",
      "execution_count": null,
      "metadata": {
        "colab": {
          "base_uri": "https://localhost:8080/"
        },
        "id": "rLuh0zUJG5bo",
        "outputId": "78dd486e-056d-4796-8b0f-deb89a7e9cd0"
      },
      "outputs": [
        {
          "output_type": "execute_result",
          "data": {
            "text/plain": [
              "number_transactions       6.659034\n",
              "total_amount_usd        150.790967\n",
              "age                       0.319760\n",
              "default                  50.495241\n",
              "housing                  -1.949602\n",
              "loan                      1.431987\n",
              "duration                 18.155941\n",
              "campaign                 39.248145\n",
              "pdays                     6.934713\n",
              "previous               4506.684640\n",
              "term_deposit              3.680770\n",
              "dtype: float64"
            ]
          },
          "metadata": {},
          "execution_count": 32
        }
      ],
      "source": [
        "users_data.kurt()"
      ]
    },
    {
      "cell_type": "markdown",
      "metadata": {
        "id": "00d-J3c3L7Vv"
      },
      "source": [
        "# Plot histograms for all numerical columns"
      ]
    },
    {
      "cell_type": "code",
      "execution_count": null,
      "metadata": {
        "id": "81kXqXk7KfDS"
      },
      "outputs": [],
      "source": [
        "users_data_for_hist = \\\n",
        "users_data.select_dtypes(exclude = ['bool'])"
      ]
    },
    {
      "cell_type": "code",
      "execution_count": null,
      "metadata": {
        "colab": {
          "base_uri": "https://localhost:8080/",
          "height": 607
        },
        "id": "J8hhGYqwp37U",
        "outputId": "d37e405e-5d26-46ed-865b-99307a39a504"
      },
      "outputs": [
        {
          "output_type": "display_data",
          "data": {
            "text/plain": [
              "<Figure size 1440x720 with 9 Axes>"
            ],
            "image/png": "[encoded data removed]"
          },
          "metadata": {
            "needs_background": "light"
          }
        }
      ],
      "source": [
        "users_data_for_hist.hist(figsize = (20, 10), alpha = 0.5,\n",
        "                         edgecolor = 'black', grid = False);"
      ]
    },
    {
      "cell_type": "markdown",
      "metadata": {
        "id": "A4xo00WNSrnd"
      },
      "source": [
        "# Generate a box plot for `age`"
      ]
    },
    {
      "cell_type": "code",
      "execution_count": null,
      "metadata": {
        "colab": {
          "base_uri": "https://localhost:8080/"
        },
        "id": "lwMU_JpmSy0e",
        "outputId": "f69b735b-f899-4f08-9f71-ccf986860546"
      },
      "outputs": [
        {
          "output_type": "execute_result",
          "data": {
            "text/plain": [
              "count    45209.000000\n",
              "mean        40.935853\n",
              "std         10.618653\n",
              "min         18.000000\n",
              "25%         33.000000\n",
              "50%         39.000000\n",
              "75%         48.000000\n",
              "max         95.000000\n",
              "Name: age, dtype: float64"
            ]
          },
          "metadata": {},
          "execution_count": 35
        }
      ],
      "source": [
        "users_data['age'].describe()"
      ]
    },
    {
      "cell_type": "code",
      "execution_count": null,
      "metadata": {
        "colab": {
          "base_uri": "https://localhost:8080/",
          "height": 171
        },
        "id": "YNUJZeIYwJE6",
        "outputId": "55f881b1-12a4-486d-f103-b1a5f3561807"
      },
      "outputs": [
        {
          "output_type": "display_data",
          "data": {
            "text/plain": [
              "<Figure size 432x144 with 1 Axes>"
            ],
            "image/png": "[encoded data removed]"
          },
          "metadata": {
            "needs_background": "light"
          }
        }
      ],
      "source": [
        "plt.figure(figsize = (6, 2))\n",
        "sns.boxplot(x = users_data['age'], linewidth = 0.9);"
      ]
    },
    {
      "cell_type": "markdown",
      "metadata": {
        "id": "YO8MqxWxTXKf"
      },
      "source": [
        "# Generate a violin plot for `age`"
      ]
    },
    {
      "cell_type": "code",
      "execution_count": null,
      "metadata": {
        "colab": {
          "base_uri": "https://localhost:8080/",
          "height": 279
        },
        "id": "zgfx9-NTwaLO",
        "outputId": "4a2a25e5-cad3-43a2-b82f-a4d3955d71b2"
      },
      "outputs": [
        {
          "output_type": "display_data",
          "data": {
            "text/plain": [
              "<Figure size 432x288 with 1 Axes>"
            ],
            "image/png": "[encoded data removed]"
          },
          "metadata": {
            "needs_background": "light"
          }
        }
      ],
      "source": [
        "sns.violinplot(x = users_data['age'], linewidth = 0.9);"
      ]
    },
    {
      "cell_type": "markdown",
      "metadata": {
        "id": "9MQ65ougTcPd"
      },
      "source": [
        "# Generate a box plot for `number_transactions`"
      ]
    },
    {
      "cell_type": "code",
      "execution_count": null,
      "metadata": {
        "colab": {
          "base_uri": "https://localhost:8080/"
        },
        "id": "yQJ9ym4eTnoZ",
        "outputId": "65d8f0ca-a9b6-4590-f7f9-6e5cde0b17cf"
      },
      "outputs": [
        {
          "output_type": "execute_result",
          "data": {
            "text/plain": [
              "count    35210.000000\n",
              "mean         3.977052\n",
              "std          3.814329\n",
              "min          1.000000\n",
              "25%          2.000000\n",
              "50%          3.000000\n",
              "75%          4.000000\n",
              "max         20.000000\n",
              "Name: number_transactions, dtype: float64"
            ]
          },
          "metadata": {},
          "execution_count": 38
        }
      ],
      "source": [
        "users_data['number_transactions'].describe()"
      ]
    },
    {
      "cell_type": "code",
      "execution_count": null,
      "metadata": {
        "colab": {
          "base_uri": "https://localhost:8080/",
          "height": 172
        },
        "id": "Q8G39zcfTuT-",
        "outputId": "abec5b42-039d-4f32-e583-3eb4ed4caf4a"
      },
      "outputs": [
        {
          "output_type": "display_data",
          "data": {
            "text/plain": [
              "<Figure size 432x144 with 1 Axes>"
            ],
            "image/png": "[encoded data removed]"
          },
          "metadata": {
            "needs_background": "light"
          }
        }
      ],
      "source": [
        "plt.figure(figsize = (6, 2))\n",
        "sns.boxplot(x = users_data['number_transactions'],\n",
        "            linewidth = 0.9);"
      ]
    },
    {
      "cell_type": "markdown",
      "metadata": {
        "id": "utXZijdyG5br"
      },
      "source": [
        "# Generate a violin plot for `number_transactions`"
      ]
    },
    {
      "cell_type": "code",
      "execution_count": null,
      "metadata": {
        "colab": {
          "base_uri": "https://localhost:8080/",
          "height": 280
        },
        "id": "L_7ZdfYWTzvF",
        "outputId": "d9e68ec2-9e79-4381-b921-6a25ae334257"
      },
      "outputs": [
        {
          "output_type": "display_data",
          "data": {
            "text/plain": [
              "<Figure size 432x288 with 1 Axes>"
            ],
            "image/png": "[encoded data removed]"
          },
          "metadata": {
            "needs_background": "light"
          }
        }
      ],
      "source": [
        "sns.violinplot(x = users_data['number_transactions'],\n",
        "               linewidth=0.9);"
      ]
    },
    {
      "cell_type": "markdown",
      "metadata": {
        "id": "4_42ofXzG5bs"
      },
      "source": [
        "# Generate scatter plots comparing `total_amount_usd` to `number_transactions`"
      ]
    },
    {
      "cell_type": "code",
      "execution_count": null,
      "metadata": {
        "colab": {
          "base_uri": "https://localhost:8080/",
          "height": 280
        },
        "id": "69LF98qNaZC0",
        "outputId": "14140b56-e1e8-4628-90ae-0a3356d3e4ee"
      },
      "outputs": [
        {
          "output_type": "display_data",
          "data": {
            "text/plain": [
              "<Figure size 432x288 with 1 Axes>"
            ],
            "image/png": "[encoded data removed]"
          },
          "metadata": {
            "needs_background": "light"
          }
        }
      ],
      "source": [
        "sns.scatterplot(data = users_data, x = 'total_amount_usd',\n",
        "                y = 'number_transactions');"
      ]
    },
    {
      "cell_type": "code",
      "execution_count": null,
      "metadata": {
        "colab": {
          "base_uri": "https://localhost:8080/",
          "height": 280
        },
        "id": "ULRp88yJuuOg",
        "outputId": "1bce0a4b-5be7-443f-a613-b96c8c8e7b25"
      },
      "outputs": [
        {
          "output_type": "display_data",
          "data": {
            "text/plain": [
              "<Figure size 432x288 with 1 Axes>"
            ],
            "image/png": "[encoded data removed]"
          },
          "metadata": {
            "needs_background": "light"
          }
        }
      ],
      "source": [
        "sns.scatterplot(data = users_data, x = 'total_amount_usd',\n",
        "                y = 'number_transactions', hue = 'education');"
      ]
    },
    {
      "cell_type": "markdown",
      "metadata": {
        "id": "fR_fhr7AG5bs"
      },
      "source": [
        "# Generate a line plot for `total_amount_usd`"
      ]
    },
    {
      "cell_type": "code",
      "execution_count": null,
      "metadata": {
        "colab": {
          "base_uri": "https://localhost:8080/",
          "height": 280
        },
        "id": "SaFOpc7sG5bt",
        "outputId": "aaa24c4e-9270-405f-f23f-10e5e5977012"
      },
      "outputs": [
        {
          "output_type": "display_data",
          "data": {
            "text/plain": [
              "<Figure size 432x288 with 1 Axes>"
            ],
            "image/png": "[encoded data removed]"
          },
          "metadata": {
            "needs_background": "light"
          }
        }
      ],
      "source": [
        "years = users_data['date_joined'].dt.year\n",
        "\n",
        "sns.lineplot(data = users_data, x = years,\n",
        "             y = 'total_amount_usd',\n",
        "             estimator = np.mean);"
      ]
    },
    {
      "cell_type": "markdown",
      "metadata": {
        "id": "ipDAVPnIMEOi"
      },
      "source": [
        "# Generate bar charts for `job`"
      ]
    },
    {
      "cell_type": "code",
      "execution_count": null,
      "metadata": {
        "colab": {
          "base_uri": "https://localhost:8080/"
        },
        "id": "SdYrrsK0MZ2Y",
        "outputId": "0ff391a0-dce6-4f9c-fd35-1144658ef698"
      },
      "outputs": [
        {
          "output_type": "execute_result",
          "data": {
            "text/plain": [
              "blue-collar      9731\n",
              "management       9457\n",
              "technician       7597\n",
              "admin.           5171\n",
              "services         4154\n",
              "retired          2264\n",
              "self-employed    1579\n",
              "entrepreneur     1487\n",
              "unemployed       1303\n",
              "housemaid        1240\n",
              "student           938\n",
              "NaN               288\n",
              "Name: job, dtype: int64"
            ]
          },
          "metadata": {},
          "execution_count": 44
        }
      ],
      "source": [
        "users_job_dist = \\\n",
        "users_data['job'].value_counts(dropna = False)\n",
        "\n",
        "users_job_dist"
      ]
    },
    {
      "cell_type": "code",
      "execution_count": null,
      "metadata": {
        "colab": {
          "base_uri": "https://localhost:8080/",
          "height": 342
        },
        "id": "Z-qiLn5hOras",
        "outputId": "784a441b-a236-4e22-dcbc-2b22425bbc5a"
      },
      "outputs": [
        {
          "output_type": "display_data",
          "data": {
            "text/plain": [
              "<Figure size 432x288 with 1 Axes>"
            ],
            "image/png": "[encoded data removed]"
          },
          "metadata": {
            "needs_background": "light"
          }
        }
      ],
      "source": [
        "# Vertical bar chart.\n",
        "\n",
        "users_job_dist.plot(kind = 'bar')\n",
        "plt.title('Distribution of Jobs');"
      ]
    },
    {
      "cell_type": "code",
      "execution_count": null,
      "metadata": {
        "colab": {
          "base_uri": "https://localhost:8080/",
          "height": 281
        },
        "id": "_tCfBw8uPBft",
        "outputId": "6af16fe4-4acc-4247-fe81-b186daa14b35"
      },
      "outputs": [
        {
          "output_type": "display_data",
          "data": {
            "text/plain": [
              "<Figure size 432x288 with 1 Axes>"
            ],
            "image/png": "[encoded data removed]"
          },
          "metadata": {
            "needs_background": "light"
          }
        }
      ],
      "source": [
        "# Horizontal bar chart\n",
        "\n",
        "users_job_dist.plot(kind = 'barh')\n",
        "plt.title('Distribution of Jobs');"
      ]
    },
    {
      "cell_type": "code",
      "execution_count": null,
      "metadata": {
        "colab": {
          "base_uri": "https://localhost:8080/",
          "height": 326
        },
        "id": "WweMLrneQrCZ",
        "outputId": "281b4fe0-a273-467c-a04f-9af009b9396b"
      },
      "outputs": [
        {
          "output_type": "display_data",
          "data": {
            "text/plain": [
              "<Figure size 432x288 with 1 Axes>"
            ],
            "image/png": "[encoded data removed]"
          },
          "metadata": {
            "needs_background": "light"
          }
        }
      ],
      "source": [
        "# Exclude missing values.\n",
        "\n",
        "users_data['job'].value_counts().plot(kind = 'bar');"
      ]
    },
    {
      "cell_type": "markdown",
      "metadata": {
        "id": "39FtYbpANyNV"
      },
      "source": [
        "# Generate a bar chart for `marital`"
      ]
    },
    {
      "cell_type": "code",
      "execution_count": null,
      "metadata": {
        "colab": {
          "base_uri": "https://localhost:8080/"
        },
        "id": "zL7waX08NtGu",
        "outputId": "3f5fbf3f-4043-475a-c0dc-3d6dc5416509"
      },
      "outputs": [
        {
          "output_type": "execute_result",
          "data": {
            "text/plain": [
              "married     27212\n",
              "single      12790\n",
              "divorced     5207\n",
              "Name: marital, dtype: int64"
            ]
          },
          "metadata": {},
          "execution_count": 48
        }
      ],
      "source": [
        "users_marital_dist = \\\n",
        "users_data['marital'].value_counts(dropna = False)\n",
        "\n",
        "users_marital_dist"
      ]
    },
    {
      "cell_type": "code",
      "execution_count": null,
      "metadata": {
        "colab": {
          "base_uri": "https://localhost:8080/",
          "height": 314
        },
        "id": "IxJxpIFBPp3V",
        "outputId": "341ba9a9-6739-4194-aed2-1365afb3a8ca"
      },
      "outputs": [
        {
          "output_type": "display_data",
          "data": {
            "text/plain": [
              "<Figure size 432x288 with 1 Axes>"
            ],
            "image/png": "[encoded data removed]"
          },
          "metadata": {
            "needs_background": "light"
          }
        }
      ],
      "source": [
        "users_marital_dist.plot(kind = 'bar')\n",
        "plt.title('Distribution of Marital Status');"
      ]
    },
    {
      "cell_type": "markdown",
      "metadata": {
        "id": "KUHbG4mpMbe9"
      },
      "source": [
        "# Generate a bar chart for `education`"
      ]
    },
    {
      "cell_type": "code",
      "execution_count": null,
      "metadata": {
        "colab": {
          "base_uri": "https://localhost:8080/"
        },
        "id": "__eWRLpHN9SA",
        "outputId": "96efb3f2-4538-474d-a6b0-24012890938c"
      },
      "outputs": [
        {
          "output_type": "execute_result",
          "data": {
            "text/plain": [
              "secondary    23202\n",
              "tertiary     13300\n",
              "primary       6850\n",
              "NaN           1857\n",
              "Name: education, dtype: int64"
            ]
          },
          "metadata": {},
          "execution_count": 50
        }
      ],
      "source": [
        "users_education_dist = \\\n",
        "users_data['education'].value_counts(dropna = False)\n",
        "\n",
        "users_education_dist"
      ]
    },
    {
      "cell_type": "code",
      "execution_count": null,
      "metadata": {
        "colab": {
          "base_uri": "https://localhost:8080/",
          "height": 323
        },
        "id": "W9s0k0m7P468",
        "outputId": "1255ae2e-ede8-4e8f-918f-b4861d908e7c"
      },
      "outputs": [
        {
          "output_type": "display_data",
          "data": {
            "text/plain": [
              "<Figure size 432x288 with 1 Axes>"
            ],
            "image/png": "[encoded data removed]"
          },
          "metadata": {
            "needs_background": "light"
          }
        }
      ],
      "source": [
        "users_education_dist.plot(kind = 'bar')\n",
        "plt.title('Distribution of Education');"
      ]
    },
    {
      "cell_type": "markdown",
      "metadata": {
        "id": "4myvtcEQOAun"
      },
      "source": [
        "# Generate a bar chart for `contact`"
      ]
    },
    {
      "cell_type": "code",
      "execution_count": null,
      "metadata": {
        "colab": {
          "base_uri": "https://localhost:8080/",
          "height": 321
        },
        "id": "d2Wc1VXJP-up",
        "outputId": "4b9d71f5-755e-45b5-9cc5-80dab03d1e07"
      },
      "outputs": [
        {
          "output_type": "display_data",
          "data": {
            "text/plain": [
              "<Figure size 432x288 with 1 Axes>"
            ],
            "image/png": "[encoded data removed]"
          },
          "metadata": {
            "needs_background": "light"
          }
        }
      ],
      "source": [
        "users_contact_dist = \\\n",
        "users_data['contact'].value_counts(dropna = False)\n",
        "\n",
        "users_contact_dist.plot(kind = 'bar')\n",
        "plt.title('Distribution of Contact');"
      ]
    },
    {
      "cell_type": "markdown",
      "metadata": {
        "id": "4DoFCsjOMGvS"
      },
      "source": [
        "# Generate a bar chart for `poutcome`"
      ]
    },
    {
      "cell_type": "code",
      "execution_count": null,
      "metadata": {
        "colab": {
          "base_uri": "https://localhost:8080/",
          "height": 311
        },
        "id": "1ZmS7AxPPfTk",
        "outputId": "d04f4297-3db0-4d40-e019-a7b1da9f06c5"
      },
      "outputs": [
        {
          "output_type": "display_data",
          "data": {
            "text/plain": [
              "<Figure size 432x288 with 1 Axes>"
            ],
            "image/png": "[encoded data removed]"
          },
          "metadata": {
            "needs_background": "light"
          }
        }
      ],
      "source": [
        "users_poutcome_dist = \\\n",
        "users_data['poutcome'].value_counts(dropna = False)\n",
        "\n",
        "users_poutcome_dist.plot(kind = 'bar')\n",
        "plt.title('Distribution of poutcome');"
      ]
    },
    {
      "cell_type": "markdown",
      "metadata": {
        "id": "6Ju6vFidG5bx"
      },
      "source": [
        "# Generate a bar chart for `default`"
      ]
    },
    {
      "cell_type": "code",
      "execution_count": null,
      "metadata": {
        "colab": {
          "base_uri": "https://localhost:8080/",
          "height": 297
        },
        "id": "LjByt-71G5bx",
        "outputId": "4fa3e345-927d-432a-e35b-beb867f2f8a7"
      },
      "outputs": [
        {
          "output_type": "display_data",
          "data": {
            "text/plain": [
              "<Figure size 432x288 with 1 Axes>"
            ],
            "image/png": "[encoded data removed]"
          },
          "metadata": {
            "needs_background": "light"
          }
        }
      ],
      "source": [
        "users_device_dist = \\\n",
        "users_data['default'].value_counts(dropna = False)\n",
        "\n",
        "users_device_dist.plot(kind = 'bar')\n",
        "plt.title('Distribution of Loan Default');"
      ]
    },
    {
      "cell_type": "markdown",
      "metadata": {
        "id": "OHgpT0XNL_SW"
      },
      "source": [
        "# Generate a bar chart for `device`"
      ]
    },
    {
      "cell_type": "code",
      "execution_count": null,
      "metadata": {
        "id": "Q9Ov5VSisJ9i"
      },
      "outputs": [],
      "source": [
        "users_device_dist = \\\n",
        "users_data['device'].value_counts(dropna = False)"
      ]
    },
    {
      "cell_type": "code",
      "execution_count": null,
      "metadata": {
        "colab": {
          "base_uri": "https://localhost:8080/",
          "height": 324
        },
        "id": "FSVEAif9rmHy",
        "outputId": "d09c898a-30be-48e3-873c-9d6c25b9dd58"
      },
      "outputs": [
        {
          "output_type": "display_data",
          "data": {
            "text/plain": [
              "<Figure size 432x288 with 1 Axes>"
            ],
            "image/png": "[encoded data removed]"
          },
          "metadata": {
            "needs_background": "light"
          }
        }
      ],
      "source": [
        "users_device_dist.plot(kind = 'bar',\n",
        "                       alpha = 0.5, edgecolor = 'black')\n",
        "plt.title('Distribution of the Devices',\n",
        "          size = 12, weight = 'bold')\n",
        "plt.xticks(rotation = 45, size = 11)\n",
        "plt.xlabel('Device Name', size = 10, weight = 'bold')\n",
        "plt.ylabel('Frequency', size = 10, weight = 'bold')\n",
        "plt.show();"
      ]
    },
    {
      "cell_type": "markdown",
      "metadata": {
        "id": "eYIvtIYURx-R"
      },
      "source": [
        "# Generate a heatmap for the feature correlations"
      ]
    },
    {
      "cell_type": "code",
      "execution_count": null,
      "metadata": {
        "colab": {
          "base_uri": "https://localhost:8080/",
          "height": 434
        },
        "id": "AVSLzu8TRvvP",
        "outputId": "e11e30f5-1d2f-426a-c9f1-1a30622d2aa4"
      },
      "outputs": [
        {
          "output_type": "execute_result",
          "data": {
            "text/plain": [
              "                     number_transactions  total_amount_usd       age  \\\n",
              "number_transactions             1.000000         -0.163409 -0.008813   \n",
              "total_amount_usd               -0.163409          1.000000  0.095839   \n",
              "age                            -0.008813          0.095839  1.000000   \n",
              "default                         0.138838         -0.065390 -0.017875   \n",
              "housing                         0.030429         -0.066857 -0.185552   \n",
              "loan                            0.075319         -0.084526 -0.015641   \n",
              "duration                       -0.017220          0.022586 -0.004645   \n",
              "campaign                        0.026431         -0.017274  0.004767   \n",
              "pdays                          -0.030751          0.006435 -0.023745   \n",
              "previous                       -0.023046          0.016952  0.001297   \n",
              "term_deposit                   -0.053390          0.050785  0.025168   \n",
              "\n",
              "                      default   housing      loan  duration  campaign  \\\n",
              "number_transactions  0.138838  0.030429  0.075319 -0.017220  0.026431   \n",
              "total_amount_usd    -0.065390 -0.066857 -0.084526  0.022586 -0.017274   \n",
              "age                 -0.017875 -0.185552 -0.015641 -0.004645  0.004767   \n",
              "default              1.000000 -0.006020  0.077232 -0.010017  0.016819   \n",
              "housing             -0.006020  1.000000  0.041341  0.005041 -0.023583   \n",
              "loan                 0.077232  0.041341  1.000000 -0.012395  0.009972   \n",
              "duration            -0.010017  0.005041 -0.012395  1.000000 -0.084551   \n",
              "campaign             0.016819 -0.023583  0.009972 -0.084551  1.000000   \n",
              "pdays               -0.029982  0.124197 -0.022762 -0.001549 -0.088636   \n",
              "previous            -0.018331  0.037087 -0.011048  0.001213 -0.032860   \n",
              "term_deposit        -0.022421 -0.139161 -0.068193  0.394549 -0.073179   \n",
              "\n",
              "                        pdays  previous  term_deposit  \n",
              "number_transactions -0.030751 -0.023046     -0.053390  \n",
              "total_amount_usd     0.006435  0.016952      0.050785  \n",
              "age                 -0.023745  0.001297      0.025168  \n",
              "default             -0.029982 -0.018331     -0.022421  \n",
              "housing              0.124197  0.037087     -0.139161  \n",
              "loan                -0.022762 -0.011048     -0.068193  \n",
              "duration            -0.001549  0.001213      0.394549  \n",
              "campaign            -0.088636 -0.032860     -0.073179  \n",
              "pdays                1.000000  0.454817      0.103616  \n",
              "previous             0.454817  1.000000      0.093232  \n",
              "term_deposit         0.103616  0.093232      1.000000  "
            ],
            "text/html": [
              "\n",
              "  <div id=\"df-d235bd1c-dd93-4f37-ae7a-647b45757af9\">\n",
              "    <div class=\"colab-df-container\">\n",
              "      <div>\n",
              "<style scoped>\n",
              "    .dataframe tbody tr th:only-of-type {\n",
              "        vertical-align: middle;\n",
              "    }\n",
              "\n",
              "    .dataframe tbody tr th {\n",
              "        vertical-align: top;\n",
              "    }\n",
              "\n",
              "    .dataframe thead th {\n",
              "        text-align: right;\n",
              "    }\n",
              "</style>\n",
              "<table border=\"1\" class=\"dataframe\">\n",
              "  <thead>\n",
              "    <tr style=\"text-align: right;\">\n",
              "      <th></th>\n",
              "      <th>number_transactions</th>\n",
              "      <th>total_amount_usd</th>\n",
              "      <th>age</th>\n",
              "      <th>default</th>\n",
              "      <th>housing</th>\n",
              "      <th>loan</th>\n",
              "      <th>duration</th>\n",
              "      <th>campaign</th>\n",
              "      <th>pdays</th>\n",
              "      <th>previous</th>\n",
              "      <th>term_deposit</th>\n",
              "    </tr>\n",
              "  </thead>\n",
              "  <tbody>\n",
              "    <tr>\n",
              "      <th>number_transactions</th>\n",
              "      <td>1.000000</td>\n",
              "      <td>-0.163409</td>\n",
              "      <td>-0.008813</td>\n",
              "      <td>0.138838</td>\n",
              "      <td>0.030429</td>\n",
              "      <td>0.075319</td>\n",
              "      <td>-0.017220</td>\n",
              "      <td>0.026431</td>\n",
              "      <td>-0.030751</td>\n",
              "      <td>-0.023046</td>\n",
              "      <td>-0.053390</td>\n",
              "    </tr>\n",
              "    <tr>\n",
              "      <th>total_amount_usd</th>\n",
              "      <td>-0.163409</td>\n",
              "      <td>1.000000</td>\n",
              "      <td>0.095839</td>\n",
              "      <td>-0.065390</td>\n",
              "      <td>-0.066857</td>\n",
              "      <td>-0.084526</td>\n",
              "      <td>0.022586</td>\n",
              "      <td>-0.017274</td>\n",
              "      <td>0.006435</td>\n",
              "      <td>0.016952</td>\n",
              "      <td>0.050785</td>\n",
              "    </tr>\n",
              "    <tr>\n",
              "      <th>age</th>\n",
              "      <td>-0.008813</td>\n",
              "      <td>0.095839</td>\n",
              "      <td>1.000000</td>\n",
              "      <td>-0.017875</td>\n",
              "      <td>-0.185552</td>\n",
              "      <td>-0.015641</td>\n",
              "      <td>-0.004645</td>\n",
              "      <td>0.004767</td>\n",
              "      <td>-0.023745</td>\n",
              "      <td>0.001297</td>\n",
              "      <td>0.025168</td>\n",
              "    </tr>\n",
              "    <tr>\n",
              "      <th>default</th>\n",
              "      <td>0.138838</td>\n",
              "      <td>-0.065390</td>\n",
              "      <td>-0.017875</td>\n",
              "      <td>1.000000</td>\n",
              "      <td>-0.006020</td>\n",
              "      <td>0.077232</td>\n",
              "      <td>-0.010017</td>\n",
              "      <td>0.016819</td>\n",
              "      <td>-0.029982</td>\n",
              "      <td>-0.018331</td>\n",
              "      <td>-0.022421</td>\n",
              "    </tr>\n",
              "    <tr>\n",
              "      <th>housing</th>\n",
              "      <td>0.030429</td>\n",
              "      <td>-0.066857</td>\n",
              "      <td>-0.185552</td>\n",
              "      <td>-0.006020</td>\n",
              "      <td>1.000000</td>\n",
              "      <td>0.041341</td>\n",
              "      <td>0.005041</td>\n",
              "      <td>-0.023583</td>\n",
              "      <td>0.124197</td>\n",
              "      <td>0.037087</td>\n",
              "      <td>-0.139161</td>\n",
              "    </tr>\n",
              "    <tr>\n",
              "      <th>loan</th>\n",
              "      <td>0.075319</td>\n",
              "      <td>-0.084526</td>\n",
              "      <td>-0.015641</td>\n",
              "      <td>0.077232</td>\n",
              "      <td>0.041341</td>\n",
              "      <td>1.000000</td>\n",
              "      <td>-0.012395</td>\n",
              "      <td>0.009972</td>\n",
              "      <td>-0.022762</td>\n",
              "      <td>-0.011048</td>\n",
              "      <td>-0.068193</td>\n",
              "    </tr>\n",
              "    <tr>\n",
              "      <th>duration</th>\n",
              "      <td>-0.017220</td>\n",
              "      <td>0.022586</td>\n",
              "      <td>-0.004645</td>\n",
              "      <td>-0.010017</td>\n",
              "      <td>0.005041</td>\n",
              "      <td>-0.012395</td>\n",
              "      <td>1.000000</td>\n",
              "      <td>-0.084551</td>\n",
              "      <td>-0.001549</td>\n",
              "      <td>0.001213</td>\n",
              "      <td>0.394549</td>\n",
              "    </tr>\n",
              "    <tr>\n",
              "      <th>campaign</th>\n",
              "      <td>0.026431</td>\n",
              "      <td>-0.017274</td>\n",
              "      <td>0.004767</td>\n",
              "      <td>0.016819</td>\n",
              "      <td>-0.023583</td>\n",
              "      <td>0.009972</td>\n",
              "      <td>-0.084551</td>\n",
              "      <td>1.000000</td>\n",
              "      <td>-0.088636</td>\n",
              "      <td>-0.032860</td>\n",
              "      <td>-0.073179</td>\n",
              "    </tr>\n",
              "    <tr>\n",
              "      <th>pdays</th>\n",
              "      <td>-0.030751</td>\n",
              "      <td>0.006435</td>\n",
              "      <td>-0.023745</td>\n",
              "      <td>-0.029982</td>\n",
              "      <td>0.124197</td>\n",
              "      <td>-0.022762</td>\n",
              "      <td>-0.001549</td>\n",
              "      <td>-0.088636</td>\n",
              "      <td>1.000000</td>\n",
              "      <td>0.454817</td>\n",
              "      <td>0.103616</td>\n",
              "    </tr>\n",
              "    <tr>\n",
              "      <th>previous</th>\n",
              "      <td>-0.023046</td>\n",
              "      <td>0.016952</td>\n",
              "      <td>0.001297</td>\n",
              "      <td>-0.018331</td>\n",
              "      <td>0.037087</td>\n",
              "      <td>-0.011048</td>\n",
              "      <td>0.001213</td>\n",
              "      <td>-0.032860</td>\n",
              "      <td>0.454817</td>\n",
              "      <td>1.000000</td>\n",
              "      <td>0.093232</td>\n",
              "    </tr>\n",
              "    <tr>\n",
              "      <th>term_deposit</th>\n",
              "      <td>-0.053390</td>\n",
              "      <td>0.050785</td>\n",
              "      <td>0.025168</td>\n",
              "      <td>-0.022421</td>\n",
              "      <td>-0.139161</td>\n",
              "      <td>-0.068193</td>\n",
              "      <td>0.394549</td>\n",
              "      <td>-0.073179</td>\n",
              "      <td>0.103616</td>\n",
              "      <td>0.093232</td>\n",
              "      <td>1.000000</td>\n",
              "    </tr>\n",
              "  </tbody>\n",
              "</table>\n",
              "</div>\n",
              "      <button class=\"colab-df-convert\" onclick=\"convertToInteractive('df-d235bd1c-dd93-4f37-ae7a-647b45757af9')\"\n",
              "              title=\"Convert this dataframe to an interactive table.\"\n",
              "              style=\"display:none;\">\n",
              "        \n",
              "  <svg xmlns=\"http://www.w3.org/2000/svg\" height=\"24px\"viewBox=\"0 0 24 24\"\n",
              "       width=\"24px\">\n",
              "    <path d=\"M0 0h24v24H0V0z\" fill=\"none\"/>\n",
              "    <path d=\"M18.56 5.44l.94 2.06.94-2.06 2.06-.94-2.06-.94-.94-2.06-.94 2.06-2.06.94zm-11 1L8.5 8.5l.94-2.06 2.06-.94-2.06-.94L8.5 2.5l-.94 2.06-2.06.94zm10 10l.94 2.06.94-2.06 2.06-.94-2.06-.94-.94-2.06-.94 2.06-2.06.94z\"/><path d=\"M17.41 7.96l-1.37-1.37c-.4-.4-.92-.59-1.43-.59-.52 0-1.04.2-1.43.59L10.3 9.45l-7.72 7.72c-.78.78-.78 2.05 0 2.83L4 21.41c.39.39.9.59 1.41.59.51 0 1.02-.2 1.41-.59l7.78-7.78 2.81-2.81c.8-.78.8-2.07 0-2.86zM5.41 20L4 18.59l7.72-7.72 1.47 1.35L5.41 20z\"/>\n",
              "  </svg>\n",
              "      </button>\n",
              "      \n",
              "  <style>\n",
              "    .colab-df-container {\n",
              "      display:flex;\n",
              "      flex-wrap:wrap;\n",
              "      gap: 12px;\n",
              "    }\n",
              "\n",
              "    .colab-df-convert {\n",
              "      background-color: #E8F0FE;\n",
              "      border: none;\n",
              "      border-radius: 50%;\n",
              "      cursor: pointer;\n",
              "      display: none;\n",
              "      fill: #1967D2;\n",
              "      height: 32px;\n",
              "      padding: 0 0 0 0;\n",
              "      width: 32px;\n",
              "    }\n",
              "\n",
              "    .colab-df-convert:hover {\n",
              "      background-color: #E2EBFA;\n",
              "      box-shadow: 0px 1px 2px rgba(60, 64, 67, 0.3), 0px 1px 3px 1px rgba(60, 64, 67, 0.15);\n",
              "      fill: #174EA6;\n",
              "    }\n",
              "\n",
              "    [theme=dark] .colab-df-convert {\n",
              "      background-color: #3B4455;\n",
              "      fill: #D2E3FC;\n",
              "    }\n",
              "\n",
              "    [theme=dark] .colab-df-convert:hover {\n",
              "      background-color: #434B5C;\n",
              "      box-shadow: 0px 1px 3px 1px rgba(0, 0, 0, 0.15);\n",
              "      filter: drop-shadow(0px 1px 2px rgba(0, 0, 0, 0.3));\n",
              "      fill: #FFFFFF;\n",
              "    }\n",
              "  </style>\n",
              "\n",
              "      <script>\n",
              "        const buttonEl =\n",
              "          document.querySelector('#df-d235bd1c-dd93-4f37-ae7a-647b45757af9 button.colab-df-convert');\n",
              "        buttonEl.style.display =\n",
              "          google.colab.kernel.accessAllowed ? 'block' : 'none';\n",
              "\n",
              "        async function convertToInteractive(key) {\n",
              "          const element = document.querySelector('#df-d235bd1c-dd93-4f37-ae7a-647b45757af9');\n",
              "          const dataTable =\n",
              "            await google.colab.kernel.invokeFunction('convertToInteractive',\n",
              "                                                     [key], {});\n",
              "          if (!dataTable) return;\n",
              "\n",
              "          const docLinkHtml = 'Like what you see? Visit the ' +\n",
              "            '<a target=\"_blank\" href=https://colab.research.google.com/notebooks/data_table.ipynb>data table notebook</a>'\n",
              "            + ' to learn more about interactive tables.';\n",
              "          element.innerHTML = '';\n",
              "          dataTable['output_type'] = 'display_data';\n",
              "          await google.colab.output.renderOutput(dataTable, element);\n",
              "          const docLink = document.createElement('div');\n",
              "          docLink.innerHTML = docLinkHtml;\n",
              "          element.appendChild(docLink);\n",
              "        }\n",
              "      </script>\n",
              "    </div>\n",
              "  </div>\n",
              "  "
            ]
          },
          "metadata": {},
          "execution_count": 57
        }
      ],
      "source": [
        "corr_matrix = users_data.corr()\n",
        "\n",
        "corr_matrix"
      ]
    },
    {
      "cell_type": "code",
      "execution_count": null,
      "metadata": {
        "colab": {
          "base_uri": "https://localhost:8080/",
          "height": 555
        },
        "id": "hjIq-tgDR1VD",
        "outputId": "7f6c3e17-1499-4149-9b18-9cd6cfb24df7"
      },
      "outputs": [
        {
          "output_type": "display_data",
          "data": {
            "text/plain": [
              "<Figure size 720x540 with 2 Axes>"
            ],
            "image/png": "[encoded data removed]"
          },
          "metadata": {
            "needs_background": "light"
          }
        }
      ],
      "source": [
        "fig = plt.figure(figsize = (10, 7.5))\n",
        "\n",
        "sns.heatmap(corr_matrix);"
      ]
    },
    {
      "cell_type": "markdown",
      "metadata": {
        "id": "FsTZFqdvG5bz"
      },
      "source": [
        "# Format the heatmap to make it easier to read"
      ]
    },
    {
      "cell_type": "code",
      "execution_count": null,
      "metadata": {
        "colab": {
          "base_uri": "https://localhost:8080/",
          "height": 577
        },
        "id": "qV4nReabZwRt",
        "outputId": "747f0b3a-36c6-4b20-bbd6-f355826e5c16"
      },
      "outputs": [
        {
          "output_type": "display_data",
          "data": {
            "text/plain": [
              "<Figure size 792x576 with 2 Axes>"
            ],
            "image/png": "[encoded data removed]"
          },
          "metadata": {
            "needs_background": "light"
          }
        }
      ],
      "source": [
        "fig = plt.figure(figsize = (11, 8))\n",
        "\n",
        "sns.heatmap(corr_matrix, \n",
        "            cmap = 'seismic', \n",
        "            linewidth = 0.75,\n",
        "            linecolor = 'black',\n",
        "            cbar = True,\n",
        "            vmin = -1, \n",
        "            vmax = 1,\n",
        "            annot = True,\n",
        "            annot_kws = {'size': 8, 'color': 'black'})\n",
        "\n",
        "plt.tick_params(labelsize = 10, rotation = 45)\n",
        "plt.title('Correlation Plot', size = 14);"
      ]
    },
    {
      "cell_type": "markdown",
      "metadata": {
        "id": "tiB1xUyg39k8"
      },
      "source": [
        "# Identify missing values"
      ]
    },
    {
      "cell_type": "code",
      "execution_count": null,
      "metadata": {
        "colab": {
          "base_uri": "https://localhost:8080/"
        },
        "id": "GZStnahGkkfr",
        "outputId": "c2f5535b-c694-4352-bd63-63a015abbcac"
      },
      "outputs": [
        {
          "output_type": "execute_result",
          "data": {
            "text/plain": [
              "user_id                    0\n",
              "number_transactions     9999\n",
              "total_amount_usd        9999\n",
              "age                        0\n",
              "job                      288\n",
              "marital                    0\n",
              "education               1857\n",
              "default                    0\n",
              "housing                    0\n",
              "loan                       0\n",
              "contact                13018\n",
              "duration                   0\n",
              "campaign                   0\n",
              "pdays                      0\n",
              "previous                   0\n",
              "poutcome               36957\n",
              "term_deposit               0\n",
              "date_joined               30\n",
              "device                    94\n",
              "dtype: int64"
            ]
          },
          "metadata": {},
          "execution_count": 60
        }
      ],
      "source": [
        "users_data.isnull().sum()"
      ]
    },
    {
      "cell_type": "markdown",
      "metadata": {
        "id": "ZnQZKSH34QO_"
      },
      "source": [
        "# Identify the percentage of missing values for each feature"
      ]
    },
    {
      "cell_type": "code",
      "execution_count": null,
      "metadata": {
        "colab": {
          "base_uri": "https://localhost:8080/"
        },
        "id": "WW7VeC34yj5R",
        "outputId": "18d3d5f5-4f2d-4f39-abec-46445c607a17"
      },
      "outputs": [
        {
          "output_type": "execute_result",
          "data": {
            "text/plain": [
              "user_id                0.000000\n",
              "number_transactions    0.221173\n",
              "total_amount_usd       0.221173\n",
              "age                    0.000000\n",
              "job                    0.006370\n",
              "marital                0.000000\n",
              "education              0.041076\n",
              "default                0.000000\n",
              "housing                0.000000\n",
              "loan                   0.000000\n",
              "contact                0.287952\n",
              "duration               0.000000\n",
              "campaign               0.000000\n",
              "pdays                  0.000000\n",
              "previous               0.000000\n",
              "poutcome               0.817470\n",
              "term_deposit           0.000000\n",
              "date_joined            0.000664\n",
              "device                 0.002079\n",
              "dtype: float64"
            ]
          },
          "metadata": {},
          "execution_count": 61
        }
      ],
      "source": [
        "percent_missing = users_data.isnull().mean() \n",
        "\n",
        "percent_missing"
      ]
    },
    {
      "cell_type": "markdown",
      "metadata": {
        "id": "th1hDbgbG5b1"
      },
      "source": [
        "# Generate a missing value report"
      ]
    },
    {
      "cell_type": "code",
      "execution_count": null,
      "metadata": {
        "id": "I3pzXu7i7asd"
      },
      "outputs": [],
      "source": [
        "def missing_value_pct_df(data):\n",
        "    \"\"\"Create a DataFrame to summarize missing values.\"\"\"\n",
        "  \n",
        "    percent_missing = data.isnull().mean() \n",
        "    missing_value_df = \\\n",
        "    pd.DataFrame(percent_missing).reset_index()\n",
        "    \n",
        "    missing_value_df = \\\n",
        "    missing_value_df.rename(columns = {'index': 'column_name',\n",
        "                                       0: 'percent_missing'})\n",
        "\n",
        "    # Multiply by 100 and round to 4 decimal places.\n",
        "    missing_value_df['percent_missing'] = \\\n",
        "    missing_value_df['percent_missing']. \\\n",
        "    apply(lambda x: round(x * 100, 2)) \n",
        "\n",
        "    missing_value_df = \\\n",
        "    missing_value_df.sort_values(by = ['percent_missing'],\n",
        "                                 ascending = False)\n",
        "\n",
        "    return missing_value_df"
      ]
    },
    {
      "cell_type": "code",
      "execution_count": null,
      "metadata": {
        "colab": {
          "base_uri": "https://localhost:8080/",
          "height": 638
        },
        "id": "HnAqJi_e0s7g",
        "outputId": "e74067b9-0090-495c-a0d6-c53b573ed477"
      },
      "outputs": [
        {
          "output_type": "execute_result",
          "data": {
            "text/plain": [
              "            column_name  percent_missing\n",
              "15             poutcome            81.75\n",
              "10              contact            28.80\n",
              "2      total_amount_usd            22.12\n",
              "1   number_transactions            22.12\n",
              "6             education             4.11\n",
              "4                   job             0.64\n",
              "18               device             0.21\n",
              "17          date_joined             0.07\n",
              "12             campaign             0.00\n",
              "16         term_deposit             0.00\n",
              "14             previous             0.00\n",
              "13                pdays             0.00\n",
              "0               user_id             0.00\n",
              "11             duration             0.00\n",
              "8               housing             0.00\n",
              "7               default             0.00\n",
              "5               marital             0.00\n",
              "3                   age             0.00\n",
              "9                  loan             0.00"
            ],
            "text/html": [
              "\n",
              "  <div id=\"df-e931b309-028d-47ee-a147-f1dea25aede6\">\n",
              "    <div class=\"colab-df-container\">\n",
              "      <div>\n",
              "<style scoped>\n",
              "    .dataframe tbody tr th:only-of-type {\n",
              "        vertical-align: middle;\n",
              "    }\n",
              "\n",
              "    .dataframe tbody tr th {\n",
              "        vertical-align: top;\n",
              "    }\n",
              "\n",
              "    .dataframe thead th {\n",
              "        text-align: right;\n",
              "    }\n",
              "</style>\n",
              "<table border=\"1\" class=\"dataframe\">\n",
              "  <thead>\n",
              "    <tr style=\"text-align: right;\">\n",
              "      <th></th>\n",
              "      <th>column_name</th>\n",
              "      <th>percent_missing</th>\n",
              "    </tr>\n",
              "  </thead>\n",
              "  <tbody>\n",
              "    <tr>\n",
              "      <th>15</th>\n",
              "      <td>poutcome</td>\n",
              "      <td>81.75</td>\n",
              "    </tr>\n",
              "    <tr>\n",
              "      <th>10</th>\n",
              "      <td>contact</td>\n",
              "      <td>28.80</td>\n",
              "    </tr>\n",
              "    <tr>\n",
              "      <th>2</th>\n",
              "      <td>total_amount_usd</td>\n",
              "      <td>22.12</td>\n",
              "    </tr>\n",
              "    <tr>\n",
              "      <th>1</th>\n",
              "      <td>number_transactions</td>\n",
              "      <td>22.12</td>\n",
              "    </tr>\n",
              "    <tr>\n",
              "      <th>6</th>\n",
              "      <td>education</td>\n",
              "      <td>4.11</td>\n",
              "    </tr>\n",
              "    <tr>\n",
              "      <th>4</th>\n",
              "      <td>job</td>\n",
              "      <td>0.64</td>\n",
              "    </tr>\n",
              "    <tr>\n",
              "      <th>18</th>\n",
              "      <td>device</td>\n",
              "      <td>0.21</td>\n",
              "    </tr>\n",
              "    <tr>\n",
              "      <th>17</th>\n",
              "      <td>date_joined</td>\n",
              "      <td>0.07</td>\n",
              "    </tr>\n",
              "    <tr>\n",
              "      <th>12</th>\n",
              "      <td>campaign</td>\n",
              "      <td>0.00</td>\n",
              "    </tr>\n",
              "    <tr>\n",
              "      <th>16</th>\n",
              "      <td>term_deposit</td>\n",
              "      <td>0.00</td>\n",
              "    </tr>\n",
              "    <tr>\n",
              "      <th>14</th>\n",
              "      <td>previous</td>\n",
              "      <td>0.00</td>\n",
              "    </tr>\n",
              "    <tr>\n",
              "      <th>13</th>\n",
              "      <td>pdays</td>\n",
              "      <td>0.00</td>\n",
              "    </tr>\n",
              "    <tr>\n",
              "      <th>0</th>\n",
              "      <td>user_id</td>\n",
              "      <td>0.00</td>\n",
              "    </tr>\n",
              "    <tr>\n",
              "      <th>11</th>\n",
              "      <td>duration</td>\n",
              "      <td>0.00</td>\n",
              "    </tr>\n",
              "    <tr>\n",
              "      <th>8</th>\n",
              "      <td>housing</td>\n",
              "      <td>0.00</td>\n",
              "    </tr>\n",
              "    <tr>\n",
              "      <th>7</th>\n",
              "      <td>default</td>\n",
              "      <td>0.00</td>\n",
              "    </tr>\n",
              "    <tr>\n",
              "      <th>5</th>\n",
              "      <td>marital</td>\n",
              "      <td>0.00</td>\n",
              "    </tr>\n",
              "    <tr>\n",
              "      <th>3</th>\n",
              "      <td>age</td>\n",
              "      <td>0.00</td>\n",
              "    </tr>\n",
              "    <tr>\n",
              "      <th>9</th>\n",
              "      <td>loan</td>\n",
              "      <td>0.00</td>\n",
              "    </tr>\n",
              "  </tbody>\n",
              "</table>\n",
              "</div>\n",
              "      <button class=\"colab-df-convert\" onclick=\"convertToInteractive('df-e931b309-028d-47ee-a147-f1dea25aede6')\"\n",
              "              title=\"Convert this dataframe to an interactive table.\"\n",
              "              style=\"display:none;\">\n",
              "        \n",
              "  <svg xmlns=\"http://www.w3.org/2000/svg\" height=\"24px\"viewBox=\"0 0 24 24\"\n",
              "       width=\"24px\">\n",
              "    <path d=\"M0 0h24v24H0V0z\" fill=\"none\"/>\n",
              "    <path d=\"M18.56 5.44l.94 2.06.94-2.06 2.06-.94-2.06-.94-.94-2.06-.94 2.06-2.06.94zm-11 1L8.5 8.5l.94-2.06 2.06-.94-2.06-.94L8.5 2.5l-.94 2.06-2.06.94zm10 10l.94 2.06.94-2.06 2.06-.94-2.06-.94-.94-2.06-.94 2.06-2.06.94z\"/><path d=\"M17.41 7.96l-1.37-1.37c-.4-.4-.92-.59-1.43-.59-.52 0-1.04.2-1.43.59L10.3 9.45l-7.72 7.72c-.78.78-.78 2.05 0 2.83L4 21.41c.39.39.9.59 1.41.59.51 0 1.02-.2 1.41-.59l7.78-7.78 2.81-2.81c.8-.78.8-2.07 0-2.86zM5.41 20L4 18.59l7.72-7.72 1.47 1.35L5.41 20z\"/>\n",
              "  </svg>\n",
              "      </button>\n",
              "      \n",
              "  <style>\n",
              "    .colab-df-container {\n",
              "      display:flex;\n",
              "      flex-wrap:wrap;\n",
              "      gap: 12px;\n",
              "    }\n",
              "\n",
              "    .colab-df-convert {\n",
              "      background-color: #E8F0FE;\n",
              "      border: none;\n",
              "      border-radius: 50%;\n",
              "      cursor: pointer;\n",
              "      display: none;\n",
              "      fill: #1967D2;\n",
              "      height: 32px;\n",
              "      padding: 0 0 0 0;\n",
              "      width: 32px;\n",
              "    }\n",
              "\n",
              "    .colab-df-convert:hover {\n",
              "      background-color: #E2EBFA;\n",
              "      box-shadow: 0px 1px 2px rgba(60, 64, 67, 0.3), 0px 1px 3px 1px rgba(60, 64, 67, 0.15);\n",
              "      fill: #174EA6;\n",
              "    }\n",
              "\n",
              "    [theme=dark] .colab-df-convert {\n",
              "      background-color: #3B4455;\n",
              "      fill: #D2E3FC;\n",
              "    }\n",
              "\n",
              "    [theme=dark] .colab-df-convert:hover {\n",
              "      background-color: #434B5C;\n",
              "      box-shadow: 0px 1px 3px 1px rgba(0, 0, 0, 0.15);\n",
              "      filter: drop-shadow(0px 1px 2px rgba(0, 0, 0, 0.3));\n",
              "      fill: #FFFFFF;\n",
              "    }\n",
              "  </style>\n",
              "\n",
              "      <script>\n",
              "        const buttonEl =\n",
              "          document.querySelector('#df-e931b309-028d-47ee-a147-f1dea25aede6 button.colab-df-convert');\n",
              "        buttonEl.style.display =\n",
              "          google.colab.kernel.accessAllowed ? 'block' : 'none';\n",
              "\n",
              "        async function convertToInteractive(key) {\n",
              "          const element = document.querySelector('#df-e931b309-028d-47ee-a147-f1dea25aede6');\n",
              "          const dataTable =\n",
              "            await google.colab.kernel.invokeFunction('convertToInteractive',\n",
              "                                                     [key], {});\n",
              "          if (!dataTable) return;\n",
              "\n",
              "          const docLinkHtml = 'Like what you see? Visit the ' +\n",
              "            '<a target=\"_blank\" href=https://colab.research.google.com/notebooks/data_table.ipynb>data table notebook</a>'\n",
              "            + ' to learn more about interactive tables.';\n",
              "          element.innerHTML = '';\n",
              "          dataTable['output_type'] = 'display_data';\n",
              "          await google.colab.output.renderOutput(dataTable, element);\n",
              "          const docLink = document.createElement('div');\n",
              "          docLink.innerHTML = docLinkHtml;\n",
              "          element.appendChild(docLink);\n",
              "        }\n",
              "      </script>\n",
              "    </div>\n",
              "  </div>\n",
              "  "
            ]
          },
          "metadata": {},
          "execution_count": 63
        }
      ],
      "source": [
        "missing_value_df = missing_value_pct_df(users_data)\n",
        "\n",
        "missing_value_df"
      ]
    },
    {
      "cell_type": "markdown",
      "metadata": {
        "id": "_JGdSDnC46mx"
      },
      "source": [
        "# Remove features with a high percentage of missing values"
      ]
    },
    {
      "cell_type": "code",
      "execution_count": null,
      "metadata": {
        "colab": {
          "base_uri": "https://localhost:8080/"
        },
        "id": "ncZQuVyk3iFk",
        "outputId": "f60fee63-da30-45f3-e702-9cc04b18355a"
      },
      "outputs": [
        {
          "output_type": "stream",
          "name": "stdout",
          "text": [
            "Number of features to drop: 1\n",
            "Features with missing values greater than 80%: ['poutcome']\n"
          ]
        }
      ],
      "source": [
        "# Threshold above which to drop feature.\n",
        "\n",
        "threshold = 80\n",
        "\n",
        "cols_to_drop = \\\n",
        "list(missing_value_df[missing_value_df['percent_missing'] \\\n",
        "                      > threshold]['column_name'])\n",
        "\n",
        "print('Number of features to drop:',\n",
        "      missing_value_df[ \\\n",
        "      missing_value_df['percent_missing'] > threshold].shape[0])\n",
        "\n",
        "print(f'Features with missing values greater than {threshold}%:',\n",
        "      cols_to_drop)"
      ]
    },
    {
      "cell_type": "code",
      "execution_count": null,
      "metadata": {
        "id": "yImTadSI5zE2"
      },
      "outputs": [],
      "source": [
        "users_data_cleaned = users_data.drop(cols_to_drop, axis = 1)"
      ]
    },
    {
      "cell_type": "code",
      "execution_count": null,
      "metadata": {
        "colab": {
          "base_uri": "https://localhost:8080/"
        },
        "id": "OvBl8w5u6uWN",
        "outputId": "ef448156-eb7c-41de-fd90-ba6c2eaac74e"
      },
      "outputs": [
        {
          "output_type": "stream",
          "name": "stdout",
          "text": [
            "Number of features with missing values: 7\n"
          ]
        }
      ],
      "source": [
        "# Confirm feature was dropped.\n",
        "\n",
        "missing_value_df = missing_value_pct_df(users_data_cleaned)\n",
        "\n",
        "missing_columns = \\\n",
        "list(missing_value_df[missing_value_df['percent_missing'] \\\n",
        "                      > 0]['column_name'])\n",
        "\n",
        "print('Number of features with missing values:',\n",
        "      len(missing_columns))"
      ]
    },
    {
      "cell_type": "markdown",
      "metadata": {
        "id": "X1znVhO68QBw"
      },
      "source": [
        "# Identify numerical data with missing values"
      ]
    },
    {
      "cell_type": "code",
      "execution_count": null,
      "metadata": {
        "colab": {
          "base_uri": "https://localhost:8080/"
        },
        "id": "cia5xlHDAMnd",
        "outputId": "80a458e4-f328-4539-d214-b0f2752c35be"
      },
      "outputs": [
        {
          "output_type": "stream",
          "name": "stdout",
          "text": [
            "Numerical features with missing values: ['number_transactions', 'total_amount_usd']\n"
          ]
        }
      ],
      "source": [
        "dtypes = ['int64', 'float64']\n",
        "\n",
        "numerical_columns = \\\n",
        "list(users_data_cleaned.select_dtypes(dtypes).columns)\n",
        "\n",
        "print('Numerical features with missing values:',\n",
        "      list(set(numerical_columns).intersection(missing_columns)))"
      ]
    },
    {
      "cell_type": "markdown",
      "metadata": {
        "id": "gh6qRTZ3mY1d"
      },
      "source": [
        "# Impute missing data values for `total_amount_usd`"
      ]
    },
    {
      "cell_type": "code",
      "execution_count": null,
      "metadata": {
        "colab": {
          "base_uri": "https://localhost:8080/"
        },
        "id": "LwEBt5jNn84D",
        "outputId": "b3cb9e6a-3286-4576-e288-f55f98cd94f9"
      },
      "outputs": [
        {
          "output_type": "execute_result",
          "data": {
            "text/plain": [
              "32393    6833cdc0-6790-415d-9646-b9543bebf7e6\n",
              "Name: user_id, dtype: object"
            ]
          },
          "metadata": {},
          "execution_count": 68
        }
      ],
      "source": [
        "# Find a sample user with missing value\n",
        "\n",
        "sample_user = \\\n",
        "users_data_cleaned[users_data_cleaned['total_amount_usd']. \\\n",
        "                   isnull()].sample(1).user_id\n",
        "\n",
        "sample_user"
      ]
    },
    {
      "cell_type": "code",
      "execution_count": null,
      "metadata": {
        "colab": {
          "base_uri": "https://localhost:8080/"
        },
        "id": "nBL3cp2nvYNH",
        "outputId": "c71360b6-01b4-43d6-af61-5e6277d7d3a1"
      },
      "outputs": [
        {
          "output_type": "stream",
          "name": "stdout",
          "text": [
            "Mean total_amount_usd: 1369.42\n"
          ]
        }
      ],
      "source": [
        "# Print mean of total_amount_usd.\n",
        "\n",
        "print('Mean total_amount_usd:',\n",
        "      round(users_data_cleaned['total_amount_usd'].mean(), 2))\n",
        "\n",
        "# Impute missing values for total_amount_usd with mean.\n",
        "\n",
        "users_data_cleaned['total_amount_usd']. \\\n",
        "fillna(round(users_data_cleaned['total_amount_usd'].mean(), 2), \n",
        "       inplace = True)"
      ]
    },
    {
      "cell_type": "code",
      "execution_count": null,
      "metadata": {
        "colab": {
          "base_uri": "https://localhost:8080/"
        },
        "id": "mCPrVUykx0SZ",
        "outputId": "28091954-0ccc-4b6d-da73-29d6fa3662f4"
      },
      "outputs": [
        {
          "output_type": "execute_result",
          "data": {
            "text/plain": [
              "32393    1369.42\n",
              "Name: total_amount_usd, dtype: float64"
            ]
          },
          "metadata": {},
          "execution_count": 70
        }
      ],
      "source": [
        "users_data_cleaned[users_data_cleaned. \\\n",
        "                   user_id.isin(sample_user)]['total_amount_usd']"
      ]
    },
    {
      "cell_type": "markdown",
      "metadata": {
        "id": "gP6S96I3BFFo"
      },
      "source": [
        "# Replace missing values for `number_transactions` with `0`"
      ]
    },
    {
      "cell_type": "code",
      "execution_count": null,
      "metadata": {
        "id": "81HDjNKGu7Ua"
      },
      "outputs": [],
      "source": [
        "users_data_cleaned['number_transactions']. \\\n",
        "fillna(0, inplace = True)"
      ]
    },
    {
      "cell_type": "code",
      "execution_count": null,
      "metadata": {
        "colab": {
          "base_uri": "https://localhost:8080/"
        },
        "id": "iB9V4rKYvZRN",
        "outputId": "47ce61e7-0901-403e-b57c-ee2de7ace836"
      },
      "outputs": [
        {
          "output_type": "execute_result",
          "data": {
            "text/plain": [
              "32393    0.0\n",
              "Name: number_transactions, dtype: float64"
            ]
          },
          "metadata": {},
          "execution_count": 72
        }
      ],
      "source": [
        "users_data_cleaned[users_data_cleaned. \\\n",
        "                   user_id.isin(sample_user)]['number_transactions']"
      ]
    },
    {
      "cell_type": "markdown",
      "metadata": {
        "id": "aRYA-OVjBeU7"
      },
      "source": [
        "# Identify categorical data with missing values"
      ]
    },
    {
      "cell_type": "code",
      "execution_count": null,
      "metadata": {
        "colab": {
          "base_uri": "https://localhost:8080/"
        },
        "id": "2BsoeDNiyaOm",
        "outputId": "df374a3f-c5a4-42c9-bea2-ce48108ce3fb"
      },
      "outputs": [
        {
          "output_type": "stream",
          "name": "stdout",
          "text": [
            "Categorical features with missing values: ['contact', 'job', 'education', 'device']\n"
          ]
        }
      ],
      "source": [
        "categorical_columns = \\\n",
        "list(users_data_cleaned.select_dtypes(['object']).columns)\n",
        "\n",
        "print('Categorical features with missing values:',\n",
        "      list(set(categorical_columns).intersection(missing_columns)))"
      ]
    },
    {
      "cell_type": "markdown",
      "metadata": {
        "id": "RWR7RIMlB81Y"
      },
      "source": [
        "# Replace categorical missing values with `'Unknown'`"
      ]
    },
    {
      "cell_type": "code",
      "execution_count": null,
      "metadata": {
        "id": "VUVIV2Cxs5JZ"
      },
      "outputs": [],
      "source": [
        "users_data_cleaned.device.fillna('Unknown', inplace = True)\n",
        "users_data_cleaned.education.fillna('Unknown', inplace = True)\n",
        "users_data_cleaned.contact.fillna('Unknown', inplace = True)\n",
        "users_data_cleaned.job.fillna('Unknown', inplace = True)"
      ]
    },
    {
      "cell_type": "code",
      "execution_count": null,
      "metadata": {
        "colab": {
          "base_uri": "https://localhost:8080/"
        },
        "id": "g_0vFc2fexy6",
        "outputId": "9a110c19-a9d0-4661-eda3-d355991a3d84"
      },
      "outputs": [
        {
          "output_type": "execute_result",
          "data": {
            "text/plain": [
              "mobile     27504\n",
              "desktop    12112\n",
              "tablet      5499\n",
              "Unknown       94\n",
              "Name: device, dtype: int64"
            ]
          },
          "metadata": {},
          "execution_count": 75
        }
      ],
      "source": [
        "users_data_cleaned.device.value_counts()"
      ]
    },
    {
      "cell_type": "markdown",
      "metadata": {
        "id": "vBIB40neCKP_"
      },
      "source": [
        "# Check if there are any other missing values"
      ]
    },
    {
      "cell_type": "code",
      "execution_count": null,
      "metadata": {
        "colab": {
          "base_uri": "https://localhost:8080/"
        },
        "id": "of62JuMwCPUf",
        "outputId": "56a25ea1-08c9-4cd2-82a5-fb55566099dd"
      },
      "outputs": [
        {
          "output_type": "stream",
          "name": "stdout",
          "text": [
            "Number of features with missing values: 1\n",
            "Features with missing values: ['date_joined']\n"
          ]
        }
      ],
      "source": [
        "missing_value_df = missing_value_pct_df(users_data_cleaned)\n",
        "missing_columns = \\\n",
        "list(missing_value_df[missing_value_df['percent_missing'] \\\n",
        "                      > 0]['column_name'])\n",
        "\n",
        "print('Number of features with missing values:', len(missing_columns))\n",
        "print('Features with missing values:', missing_columns)"
      ]
    },
    {
      "cell_type": "markdown",
      "metadata": {
        "id": "Q0TyEbMwDYWs"
      },
      "source": [
        "# Remove all rows where `date_joined` is missing"
      ]
    },
    {
      "cell_type": "code",
      "execution_count": null,
      "metadata": {
        "colab": {
          "base_uri": "https://localhost:8080/"
        },
        "id": "xhfe-HR1DbRh",
        "outputId": "4c1b1046-2e93-4908-e210-de190db3508c"
      },
      "outputs": [
        {
          "output_type": "stream",
          "name": "stdout",
          "text": [
            "Number of users with corrupted data: 30\n"
          ]
        }
      ],
      "source": [
        "print('Number of users with corrupted data:',\n",
        "      users_data_cleaned[users_data_cleaned['date_joined']. \\\n",
        "                         isnull()].shape[0])"
      ]
    },
    {
      "cell_type": "code",
      "execution_count": null,
      "metadata": {
        "id": "wGoMHAwBEQNx"
      },
      "outputs": [],
      "source": [
        "# Remove corrupted data.\n",
        "\n",
        "users_data_cleaned = \\\n",
        "users_data_cleaned[~users_data_cleaned['date_joined'].isnull()]"
      ]
    },
    {
      "cell_type": "code",
      "execution_count": null,
      "metadata": {
        "colab": {
          "base_uri": "https://localhost:8080/"
        },
        "id": "UzDh99F2EYOg",
        "outputId": "5bfb550e-ec26-41dd-e175-0a9483455eb5"
      },
      "outputs": [
        {
          "output_type": "stream",
          "name": "stdout",
          "text": [
            "Number of users with corrupted data: 0\n"
          ]
        }
      ],
      "source": [
        "# Check to see if any corrupted rows remain.\n",
        "\n",
        "print('Number of users with corrupted data:',\n",
        "      users_data_cleaned[users_data_cleaned['date_joined']. \\\n",
        "                         isnull()].shape[0])"
      ]
    },
    {
      "cell_type": "markdown",
      "metadata": {
        "id": "cO7IlwaHEgyz"
      },
      "source": [
        "# Perform one last check for missing values"
      ]
    },
    {
      "cell_type": "code",
      "execution_count": null,
      "metadata": {
        "colab": {
          "base_uri": "https://localhost:8080/"
        },
        "id": "FBq4xRqxEa6b",
        "outputId": "6891efcd-5298-4970-f460-487cfb45a99c"
      },
      "outputs": [
        {
          "output_type": "stream",
          "name": "stdout",
          "text": [
            "Number of features with missing values: 0\n"
          ]
        }
      ],
      "source": [
        "missing_value_df = missing_value_pct_df(users_data_cleaned)\n",
        "missing_columns = \\\n",
        "list(missing_value_df[missing_value_df['percent_missing'] \\\n",
        "                      > 0]['column_name'])\n",
        "\n",
        "print('Number of features with missing values:',\n",
        "      len(missing_columns))"
      ]
    },
    {
      "cell_type": "markdown",
      "metadata": {
        "id": "n9_nseFYG5b6"
      },
      "source": [
        "# View the distribution of `age`"
      ]
    },
    {
      "cell_type": "code",
      "execution_count": null,
      "metadata": {
        "colab": {
          "base_uri": "https://localhost:8080/",
          "height": 281
        },
        "id": "4ReU-EsdsCx_",
        "outputId": "ac0c2b79-57f6-4d13-8bbc-7162f06ea19d"
      },
      "outputs": [
        {
          "output_type": "display_data",
          "data": {
            "text/plain": [
              "<Figure size 432x288 with 1 Axes>"
            ],
            "image/png": "[encoded data removed]"
          },
          "metadata": {
            "needs_background": "light"
          }
        }
      ],
      "source": [
        "users_data_cleaned['age'].hist()\n",
        "plt.title('Original Distribution of Age');"
      ]
    },
    {
      "cell_type": "markdown",
      "metadata": {
        "id": "xb1HNom0eeYb"
      },
      "source": [
        "# Apply a log transformation to `age`"
      ]
    },
    {
      "cell_type": "code",
      "execution_count": null,
      "metadata": {
        "colab": {
          "base_uri": "https://localhost:8080/",
          "height": 281
        },
        "id": "xWDNfgkCeQmk",
        "outputId": "0ec9213e-6858-49da-d99a-b70eb8eb600f"
      },
      "outputs": [
        {
          "output_type": "display_data",
          "data": {
            "text/plain": [
              "<Figure size 432x288 with 1 Axes>"
            ],
            "image/png": "[encoded data removed]"
          },
          "metadata": {
            "needs_background": "light"
          }
        }
      ],
      "source": [
        "np.log(users_data_cleaned['age']).hist()\n",
        "plt.title('Log Transformation of Age');"
      ]
    },
    {
      "cell_type": "markdown",
      "metadata": {
        "id": "5vx4LvUvtCrl"
      },
      "source": [
        "# Apply a Box–Cox transformation to `age`"
      ]
    },
    {
      "cell_type": "code",
      "execution_count": null,
      "metadata": {
        "colab": {
          "base_uri": "https://localhost:8080/",
          "height": 281
        },
        "id": "SblgzO0itvE9",
        "outputId": "fac5aad9-04ea-4d97-eb45-8d232ca49159"
      },
      "outputs": [
        {
          "output_type": "display_data",
          "data": {
            "text/plain": [
              "<Figure size 432x288 with 1 Axes>"
            ],
            "image/png": "[encoded data removed]"
          },
          "metadata": {
            "needs_background": "light"
          }
        }
      ],
      "source": [
        "pd.Series(stats.boxcox(users_data_cleaned['age'])[0]).hist()\n",
        "plt.title('Box–Cox Transformation of Age');"
      ]
    },
    {
      "cell_type": "markdown",
      "metadata": {
        "id": "7H5R_FWGG5b8"
      },
      "source": [
        "# Identify categorical features"
      ]
    },
    {
      "cell_type": "code",
      "execution_count": null,
      "metadata": {
        "colab": {
          "base_uri": "https://localhost:8080/"
        },
        "id": "KpSjZGY3kzWj",
        "outputId": "12b51f2d-f148-44b3-e835-20b424b7dcca"
      },
      "outputs": [
        {
          "output_type": "stream",
          "name": "stdout",
          "text": [
            "The number of categorical features: 6\n",
            "The names of categorical features: ['user_id', 'job', 'marital', 'education', 'contact', 'device']\n"
          ]
        }
      ],
      "source": [
        "categorical_columns = \\\n",
        "list(users_data_cleaned.select_dtypes(['object']).columns)\n",
        "\n",
        "print('The number of categorical features:',\n",
        "      len(categorical_columns))\n",
        "print('The names of categorical features:',\n",
        "      categorical_columns)"
      ]
    },
    {
      "cell_type": "markdown",
      "metadata": {
        "id": "iEp20xxa8Rzw"
      },
      "source": [
        "# One-hot encode `job`"
      ]
    },
    {
      "cell_type": "code",
      "execution_count": null,
      "metadata": {
        "colab": {
          "base_uri": "https://localhost:8080/"
        },
        "id": "79C8J-6lxCG0",
        "outputId": "353bc8d8-ded7-49de-94fa-2933dfcb653a"
      },
      "outputs": [
        {
          "output_type": "execute_result",
          "data": {
            "text/plain": [
              "blue-collar      9725\n",
              "management       9453\n",
              "technician       7592\n",
              "admin.           5168\n",
              "services         4152\n",
              "retired          2262\n",
              "self-employed    1577\n",
              "entrepreneur     1485\n",
              "unemployed       1301\n",
              "housemaid        1239\n",
              "student           937\n",
              "Unknown           288\n",
              "Name: job, dtype: int64"
            ]
          },
          "metadata": {},
          "execution_count": 85
        }
      ],
      "source": [
        "users_data_cleaned.job.value_counts(dropna = True)"
      ]
    },
    {
      "cell_type": "code",
      "execution_count": null,
      "metadata": {
        "id": "x7Wl4Ghw8nQg"
      },
      "outputs": [],
      "source": [
        "# Create object for one-hot encoding.\n",
        "\n",
        "encoder = ce.OneHotEncoder(cols = 'job',\n",
        "                           return_df = True,\n",
        "                           use_cat_names = True)"
      ]
    },
    {
      "cell_type": "code",
      "execution_count": null,
      "metadata": {
        "colab": {
          "base_uri": "https://localhost:8080/",
          "height": 569
        },
        "id": "x5kkteUk8-yw",
        "outputId": "f9fd807c-d217-4491-c88c-d874e166ed5a"
      },
      "outputs": [
        {
          "output_type": "execute_result",
          "data": {
            "text/plain": [
              "                                user_id  number_transactions  \\\n",
              "0  9231c446-cb16-4b2b-a7f7-ddfc8b25aaf6                  3.0   \n",
              "1  bb92765a-08de-4963-b432-496524b39157                  0.0   \n",
              "2  573de577-49ef-42b9-83da-d3cfb817b5c1                  2.0   \n",
              "3  d6b66b9d-7c8f-4257-a682-e136f640b7e3                  0.0   \n",
              "4  fade0b20-7594-4d9a-84cd-c02f79b1b526                  1.0   \n",
              "\n",
              "   total_amount_usd  age  job_management  job_technician  job_entrepreneur  \\\n",
              "0           2143.00   58               1               0                 0   \n",
              "1           1369.42   44               0               1                 0   \n",
              "2              2.00   33               0               0                 1   \n",
              "3           1369.42   47               0               0                 0   \n",
              "4              1.00   33               0               0                 0   \n",
              "\n",
              "   job_blue-collar  job_Unknown  job_retired  ...  housing   loan  contact  \\\n",
              "0                0            0            0  ...     True  False  Unknown   \n",
              "1                0            0            0  ...     True  False  Unknown   \n",
              "2                0            0            0  ...     True   True  Unknown   \n",
              "3                1            0            0  ...     True  False  Unknown   \n",
              "4                0            1            0  ...    False  False  Unknown   \n",
              "\n",
              "   duration  campaign  pdays previous term_deposit  date_joined   device  \n",
              "0       261         1     -1        0        False   1998-08-23   mobile  \n",
              "1       151         1     -1        0        False   2008-07-15  desktop  \n",
              "2        76         1     -1        0        False   2002-06-04   mobile  \n",
              "3        92         1     -1        0        False   1995-06-29   tablet  \n",
              "4       198         1     -1        0        False   1995-08-01   mobile  \n",
              "\n",
              "[5 rows x 29 columns]"
            ],
            "text/html": [
              "\n",
              "  <div id=\"df-eff05699-f0c5-4892-a899-a49e34a4018c\">\n",
              "    <div class=\"colab-df-container\">\n",
              "      <div>\n",
              "<style scoped>\n",
              "    .dataframe tbody tr th:only-of-type {\n",
              "        vertical-align: middle;\n",
              "    }\n",
              "\n",
              "    .dataframe tbody tr th {\n",
              "        vertical-align: top;\n",
              "    }\n",
              "\n",
              "    .dataframe thead th {\n",
              "        text-align: right;\n",
              "    }\n",
              "</style>\n",
              "<table border=\"1\" class=\"dataframe\">\n",
              "  <thead>\n",
              "    <tr style=\"text-align: right;\">\n",
              "      <th></th>\n",
              "      <th>user_id</th>\n",
              "      <th>number_transactions</th>\n",
              "      <th>total_amount_usd</th>\n",
              "      <th>age</th>\n",
              "      <th>job_management</th>\n",
              "      <th>job_technician</th>\n",
              "      <th>job_entrepreneur</th>\n",
              "      <th>job_blue-collar</th>\n",
              "      <th>job_Unknown</th>\n",
              "      <th>job_retired</th>\n",
              "      <th>...</th>\n",
              "      <th>housing</th>\n",
              "      <th>loan</th>\n",
              "      <th>contact</th>\n",
              "      <th>duration</th>\n",
              "      <th>campaign</th>\n",
              "      <th>pdays</th>\n",
              "      <th>previous</th>\n",
              "      <th>term_deposit</th>\n",
              "      <th>date_joined</th>\n",
              "      <th>device</th>\n",
              "    </tr>\n",
              "  </thead>\n",
              "  <tbody>\n",
              "    <tr>\n",
              "      <th>0</th>\n",
              "      <td>9231c446-cb16-4b2b-a7f7-ddfc8b25aaf6</td>\n",
              "      <td>3.0</td>\n",
              "      <td>2143.00</td>\n",
              "      <td>58</td>\n",
              "      <td>1</td>\n",
              "      <td>0</td>\n",
              "      <td>0</td>\n",
              "      <td>0</td>\n",
              "      <td>0</td>\n",
              "      <td>0</td>\n",
              "      <td>...</td>\n",
              "      <td>True</td>\n",
              "      <td>False</td>\n",
              "      <td>Unknown</td>\n",
              "      <td>261</td>\n",
              "      <td>1</td>\n",
              "      <td>-1</td>\n",
              "      <td>0</td>\n",
              "      <td>False</td>\n",
              "      <td>1998-08-23</td>\n",
              "      <td>mobile</td>\n",
              "    </tr>\n",
              "    <tr>\n",
              "      <th>1</th>\n",
              "      <td>bb92765a-08de-4963-b432-496524b39157</td>\n",
              "      <td>0.0</td>\n",
              "      <td>1369.42</td>\n",
              "      <td>44</td>\n",
              "      <td>0</td>\n",
              "      <td>1</td>\n",
              "      <td>0</td>\n",
              "      <td>0</td>\n",
              "      <td>0</td>\n",
              "      <td>0</td>\n",
              "      <td>...</td>\n",
              "      <td>True</td>\n",
              "      <td>False</td>\n",
              "      <td>Unknown</td>\n",
              "      <td>151</td>\n",
              "      <td>1</td>\n",
              "      <td>-1</td>\n",
              "      <td>0</td>\n",
              "      <td>False</td>\n",
              "      <td>2008-07-15</td>\n",
              "      <td>desktop</td>\n",
              "    </tr>\n",
              "    <tr>\n",
              "      <th>2</th>\n",
              "      <td>573de577-49ef-42b9-83da-d3cfb817b5c1</td>\n",
              "      <td>2.0</td>\n",
              "      <td>2.00</td>\n",
              "      <td>33</td>\n",
              "      <td>0</td>\n",
              "      <td>0</td>\n",
              "      <td>1</td>\n",
              "      <td>0</td>\n",
              "      <td>0</td>\n",
              "      <td>0</td>\n",
              "      <td>...</td>\n",
              "      <td>True</td>\n",
              "      <td>True</td>\n",
              "      <td>Unknown</td>\n",
              "      <td>76</td>\n",
              "      <td>1</td>\n",
              "      <td>-1</td>\n",
              "      <td>0</td>\n",
              "      <td>False</td>\n",
              "      <td>2002-06-04</td>\n",
              "      <td>mobile</td>\n",
              "    </tr>\n",
              "    <tr>\n",
              "      <th>3</th>\n",
              "      <td>d6b66b9d-7c8f-4257-a682-e136f640b7e3</td>\n",
              "      <td>0.0</td>\n",
              "      <td>1369.42</td>\n",
              "      <td>47</td>\n",
              "      <td>0</td>\n",
              "      <td>0</td>\n",
              "      <td>0</td>\n",
              "      <td>1</td>\n",
              "      <td>0</td>\n",
              "      <td>0</td>\n",
              "      <td>...</td>\n",
              "      <td>True</td>\n",
              "      <td>False</td>\n",
              "      <td>Unknown</td>\n",
              "      <td>92</td>\n",
              "      <td>1</td>\n",
              "      <td>-1</td>\n",
              "      <td>0</td>\n",
              "      <td>False</td>\n",
              "      <td>1995-06-29</td>\n",
              "      <td>tablet</td>\n",
              "    </tr>\n",
              "    <tr>\n",
              "      <th>4</th>\n",
              "      <td>fade0b20-7594-4d9a-84cd-c02f79b1b526</td>\n",
              "      <td>1.0</td>\n",
              "      <td>1.00</td>\n",
              "      <td>33</td>\n",
              "      <td>0</td>\n",
              "      <td>0</td>\n",
              "      <td>0</td>\n",
              "      <td>0</td>\n",
              "      <td>1</td>\n",
              "      <td>0</td>\n",
              "      <td>...</td>\n",
              "      <td>False</td>\n",
              "      <td>False</td>\n",
              "      <td>Unknown</td>\n",
              "      <td>198</td>\n",
              "      <td>1</td>\n",
              "      <td>-1</td>\n",
              "      <td>0</td>\n",
              "      <td>False</td>\n",
              "      <td>1995-08-01</td>\n",
              "      <td>mobile</td>\n",
              "    </tr>\n",
              "  </tbody>\n",
              "</table>\n",
              "<p>5 rows × 29 columns</p>\n",
              "</div>\n",
              "      <button class=\"colab-df-convert\" onclick=\"convertToInteractive('df-eff05699-f0c5-4892-a899-a49e34a4018c')\"\n",
              "              title=\"Convert this dataframe to an interactive table.\"\n",
              "              style=\"display:none;\">\n",
              "        \n",
              "  <svg xmlns=\"http://www.w3.org/2000/svg\" height=\"24px\"viewBox=\"0 0 24 24\"\n",
              "       width=\"24px\">\n",
              "    <path d=\"M0 0h24v24H0V0z\" fill=\"none\"/>\n",
              "    <path d=\"M18.56 5.44l.94 2.06.94-2.06 2.06-.94-2.06-.94-.94-2.06-.94 2.06-2.06.94zm-11 1L8.5 8.5l.94-2.06 2.06-.94-2.06-.94L8.5 2.5l-.94 2.06-2.06.94zm10 10l.94 2.06.94-2.06 2.06-.94-2.06-.94-.94-2.06-.94 2.06-2.06.94z\"/><path d=\"M17.41 7.96l-1.37-1.37c-.4-.4-.92-.59-1.43-.59-.52 0-1.04.2-1.43.59L10.3 9.45l-7.72 7.72c-.78.78-.78 2.05 0 2.83L4 21.41c.39.39.9.59 1.41.59.51 0 1.02-.2 1.41-.59l7.78-7.78 2.81-2.81c.8-.78.8-2.07 0-2.86zM5.41 20L4 18.59l7.72-7.72 1.47 1.35L5.41 20z\"/>\n",
              "  </svg>\n",
              "      </button>\n",
              "      \n",
              "  <style>\n",
              "    .colab-df-container {\n",
              "      display:flex;\n",
              "      flex-wrap:wrap;\n",
              "      gap: 12px;\n",
              "    }\n",
              "\n",
              "    .colab-df-convert {\n",
              "      background-color: #E8F0FE;\n",
              "      border: none;\n",
              "      border-radius: 50%;\n",
              "      cursor: pointer;\n",
              "      display: none;\n",
              "      fill: #1967D2;\n",
              "      height: 32px;\n",
              "      padding: 0 0 0 0;\n",
              "      width: 32px;\n",
              "    }\n",
              "\n",
              "    .colab-df-convert:hover {\n",
              "      background-color: #E2EBFA;\n",
              "      box-shadow: 0px 1px 2px rgba(60, 64, 67, 0.3), 0px 1px 3px 1px rgba(60, 64, 67, 0.15);\n",
              "      fill: #174EA6;\n",
              "    }\n",
              "\n",
              "    [theme=dark] .colab-df-convert {\n",
              "      background-color: #3B4455;\n",
              "      fill: #D2E3FC;\n",
              "    }\n",
              "\n",
              "    [theme=dark] .colab-df-convert:hover {\n",
              "      background-color: #434B5C;\n",
              "      box-shadow: 0px 1px 3px 1px rgba(0, 0, 0, 0.15);\n",
              "      filter: drop-shadow(0px 1px 2px rgba(0, 0, 0, 0.3));\n",
              "      fill: #FFFFFF;\n",
              "    }\n",
              "  </style>\n",
              "\n",
              "      <script>\n",
              "        const buttonEl =\n",
              "          document.querySelector('#df-eff05699-f0c5-4892-a899-a49e34a4018c button.colab-df-convert');\n",
              "        buttonEl.style.display =\n",
              "          google.colab.kernel.accessAllowed ? 'block' : 'none';\n",
              "\n",
              "        async function convertToInteractive(key) {\n",
              "          const element = document.querySelector('#df-eff05699-f0c5-4892-a899-a49e34a4018c');\n",
              "          const dataTable =\n",
              "            await google.colab.kernel.invokeFunction('convertToInteractive',\n",
              "                                                     [key], {});\n",
              "          if (!dataTable) return;\n",
              "\n",
              "          const docLinkHtml = 'Like what you see? Visit the ' +\n",
              "            '<a target=\"_blank\" href=https://colab.research.google.com/notebooks/data_table.ipynb>data table notebook</a>'\n",
              "            + ' to learn more about interactive tables.';\n",
              "          element.innerHTML = '';\n",
              "          dataTable['output_type'] = 'display_data';\n",
              "          await google.colab.output.renderOutput(dataTable, element);\n",
              "          const docLink = document.createElement('div');\n",
              "          docLink.innerHTML = docLinkHtml;\n",
              "          element.appendChild(docLink);\n",
              "        }\n",
              "      </script>\n",
              "    </div>\n",
              "  </div>\n",
              "  "
            ]
          },
          "metadata": {},
          "execution_count": 87
        }
      ],
      "source": [
        "# Fit and transform data.\n",
        "\n",
        "users_data_encoded = encoder.fit_transform(users_data_cleaned)\n",
        "\n",
        "# Preview the data.\n",
        "\n",
        "users_data_encoded.head()"
      ]
    },
    {
      "cell_type": "code",
      "execution_count": null,
      "metadata": {
        "colab": {
          "base_uri": "https://localhost:8080/"
        },
        "id": "QYxvca6N9NkR",
        "scrolled": true,
        "outputId": "c07780d5-8ac0-4fc8-b05c-9be0e50e4dc6"
      },
      "outputs": [
        {
          "output_type": "execute_result",
          "data": {
            "text/plain": [
              "['user_id',\n",
              " 'number_transactions',\n",
              " 'total_amount_usd',\n",
              " 'age',\n",
              " 'job_management',\n",
              " 'job_technician',\n",
              " 'job_entrepreneur',\n",
              " 'job_blue-collar',\n",
              " 'job_Unknown',\n",
              " 'job_retired',\n",
              " 'job_admin.',\n",
              " 'job_services',\n",
              " 'job_self-employed',\n",
              " 'job_unemployed',\n",
              " 'job_housemaid',\n",
              " 'job_student',\n",
              " 'marital',\n",
              " 'education',\n",
              " 'default',\n",
              " 'housing',\n",
              " 'loan',\n",
              " 'contact',\n",
              " 'duration',\n",
              " 'campaign',\n",
              " 'pdays',\n",
              " 'previous',\n",
              " 'term_deposit',\n",
              " 'date_joined',\n",
              " 'device']"
            ]
          },
          "metadata": {},
          "execution_count": 88
        }
      ],
      "source": [
        "list(users_data_encoded)"
      ]
    },
    {
      "cell_type": "code",
      "execution_count": null,
      "metadata": {
        "colab": {
          "base_uri": "https://localhost:8080/"
        },
        "id": "09YMC3IG9gGS",
        "outputId": "8ec0d042-4ebf-4d57-e3e9-41303cb11041"
      },
      "outputs": [
        {
          "output_type": "stream",
          "name": "stdout",
          "text": [
            "Shape of data before encoding: (45179, 18)\n",
            "Shape of data after encoding: (45179, 29)\n"
          ]
        }
      ],
      "source": [
        "print('Shape of data before encoding:',\n",
        "      users_data_cleaned.shape)\n",
        "print('Shape of data after encoding:',\n",
        "      users_data_encoded.shape)"
      ]
    },
    {
      "cell_type": "markdown",
      "metadata": {
        "id": "_OIsHn6b4IgX"
      },
      "source": [
        "# Dummy encode `marital`"
      ]
    },
    {
      "cell_type": "code",
      "execution_count": null,
      "metadata": {
        "colab": {
          "base_uri": "https://localhost:8080/",
          "height": 419
        },
        "id": "eFGMhuhFoNkk",
        "scrolled": false,
        "outputId": "3ce480e8-6e83-4849-d91e-83984b389aa5"
      },
      "outputs": [
        {
          "output_type": "execute_result",
          "data": {
            "text/plain": [
              "       married  single\n",
              "0            1       0\n",
              "1            0       1\n",
              "2            1       0\n",
              "3            1       0\n",
              "4            0       1\n",
              "...        ...     ...\n",
              "45211        1       0\n",
              "45212        0       0\n",
              "45213        1       0\n",
              "45214        1       0\n",
              "45215        1       0\n",
              "\n",
              "[45179 rows x 2 columns]"
            ],
            "text/html": [
              "\n",
              "  <div id=\"df-053c1661-83f8-421a-a9e8-bcad9946a69c\">\n",
              "    <div class=\"colab-df-container\">\n",
              "      <div>\n",
              "<style scoped>\n",
              "    .dataframe tbody tr th:only-of-type {\n",
              "        vertical-align: middle;\n",
              "    }\n",
              "\n",
              "    .dataframe tbody tr th {\n",
              "        vertical-align: top;\n",
              "    }\n",
              "\n",
              "    .dataframe thead th {\n",
              "        text-align: right;\n",
              "    }\n",
              "</style>\n",
              "<table border=\"1\" class=\"dataframe\">\n",
              "  <thead>\n",
              "    <tr style=\"text-align: right;\">\n",
              "      <th></th>\n",
              "      <th>married</th>\n",
              "      <th>single</th>\n",
              "    </tr>\n",
              "  </thead>\n",
              "  <tbody>\n",
              "    <tr>\n",
              "      <th>0</th>\n",
              "      <td>1</td>\n",
              "      <td>0</td>\n",
              "    </tr>\n",
              "    <tr>\n",
              "      <th>1</th>\n",
              "      <td>0</td>\n",
              "      <td>1</td>\n",
              "    </tr>\n",
              "    <tr>\n",
              "      <th>2</th>\n",
              "      <td>1</td>\n",
              "      <td>0</td>\n",
              "    </tr>\n",
              "    <tr>\n",
              "      <th>3</th>\n",
              "      <td>1</td>\n",
              "      <td>0</td>\n",
              "    </tr>\n",
              "    <tr>\n",
              "      <th>4</th>\n",
              "      <td>0</td>\n",
              "      <td>1</td>\n",
              "    </tr>\n",
              "    <tr>\n",
              "      <th>...</th>\n",
              "      <td>...</td>\n",
              "      <td>...</td>\n",
              "    </tr>\n",
              "    <tr>\n",
              "      <th>45211</th>\n",
              "      <td>1</td>\n",
              "      <td>0</td>\n",
              "    </tr>\n",
              "    <tr>\n",
              "      <th>45212</th>\n",
              "      <td>0</td>\n",
              "      <td>0</td>\n",
              "    </tr>\n",
              "    <tr>\n",
              "      <th>45213</th>\n",
              "      <td>1</td>\n",
              "      <td>0</td>\n",
              "    </tr>\n",
              "    <tr>\n",
              "      <th>45214</th>\n",
              "      <td>1</td>\n",
              "      <td>0</td>\n",
              "    </tr>\n",
              "    <tr>\n",
              "      <th>45215</th>\n",
              "      <td>1</td>\n",
              "      <td>0</td>\n",
              "    </tr>\n",
              "  </tbody>\n",
              "</table>\n",
              "<p>45179 rows × 2 columns</p>\n",
              "</div>\n",
              "      <button class=\"colab-df-convert\" onclick=\"convertToInteractive('df-053c1661-83f8-421a-a9e8-bcad9946a69c')\"\n",
              "              title=\"Convert this dataframe to an interactive table.\"\n",
              "              style=\"display:none;\">\n",
              "        \n",
              "  <svg xmlns=\"http://www.w3.org/2000/svg\" height=\"24px\"viewBox=\"0 0 24 24\"\n",
              "       width=\"24px\">\n",
              "    <path d=\"M0 0h24v24H0V0z\" fill=\"none\"/>\n",
              "    <path d=\"M18.56 5.44l.94 2.06.94-2.06 2.06-.94-2.06-.94-.94-2.06-.94 2.06-2.06.94zm-11 1L8.5 8.5l.94-2.06 2.06-.94-2.06-.94L8.5 2.5l-.94 2.06-2.06.94zm10 10l.94 2.06.94-2.06 2.06-.94-2.06-.94-.94-2.06-.94 2.06-2.06.94z\"/><path d=\"M17.41 7.96l-1.37-1.37c-.4-.4-.92-.59-1.43-.59-.52 0-1.04.2-1.43.59L10.3 9.45l-7.72 7.72c-.78.78-.78 2.05 0 2.83L4 21.41c.39.39.9.59 1.41.59.51 0 1.02-.2 1.41-.59l7.78-7.78 2.81-2.81c.8-.78.8-2.07 0-2.86zM5.41 20L4 18.59l7.72-7.72 1.47 1.35L5.41 20z\"/>\n",
              "  </svg>\n",
              "      </button>\n",
              "      \n",
              "  <style>\n",
              "    .colab-df-container {\n",
              "      display:flex;\n",
              "      flex-wrap:wrap;\n",
              "      gap: 12px;\n",
              "    }\n",
              "\n",
              "    .colab-df-convert {\n",
              "      background-color: #E8F0FE;\n",
              "      border: none;\n",
              "      border-radius: 50%;\n",
              "      cursor: pointer;\n",
              "      display: none;\n",
              "      fill: #1967D2;\n",
              "      height: 32px;\n",
              "      padding: 0 0 0 0;\n",
              "      width: 32px;\n",
              "    }\n",
              "\n",
              "    .colab-df-convert:hover {\n",
              "      background-color: #E2EBFA;\n",
              "      box-shadow: 0px 1px 2px rgba(60, 64, 67, 0.3), 0px 1px 3px 1px rgba(60, 64, 67, 0.15);\n",
              "      fill: #174EA6;\n",
              "    }\n",
              "\n",
              "    [theme=dark] .colab-df-convert {\n",
              "      background-color: #3B4455;\n",
              "      fill: #D2E3FC;\n",
              "    }\n",
              "\n",
              "    [theme=dark] .colab-df-convert:hover {\n",
              "      background-color: #434B5C;\n",
              "      box-shadow: 0px 1px 3px 1px rgba(0, 0, 0, 0.15);\n",
              "      filter: drop-shadow(0px 1px 2px rgba(0, 0, 0, 0.3));\n",
              "      fill: #FFFFFF;\n",
              "    }\n",
              "  </style>\n",
              "\n",
              "      <script>\n",
              "        const buttonEl =\n",
              "          document.querySelector('#df-053c1661-83f8-421a-a9e8-bcad9946a69c button.colab-df-convert');\n",
              "        buttonEl.style.display =\n",
              "          google.colab.kernel.accessAllowed ? 'block' : 'none';\n",
              "\n",
              "        async function convertToInteractive(key) {\n",
              "          const element = document.querySelector('#df-053c1661-83f8-421a-a9e8-bcad9946a69c');\n",
              "          const dataTable =\n",
              "            await google.colab.kernel.invokeFunction('convertToInteractive',\n",
              "                                                     [key], {});\n",
              "          if (!dataTable) return;\n",
              "\n",
              "          const docLinkHtml = 'Like what you see? Visit the ' +\n",
              "            '<a target=\"_blank\" href=https://colab.research.google.com/notebooks/data_table.ipynb>data table notebook</a>'\n",
              "            + ' to learn more about interactive tables.';\n",
              "          element.innerHTML = '';\n",
              "          dataTable['output_type'] = 'display_data';\n",
              "          await google.colab.output.renderOutput(dataTable, element);\n",
              "          const docLink = document.createElement('div');\n",
              "          docLink.innerHTML = docLinkHtml;\n",
              "          element.appendChild(docLink);\n",
              "        }\n",
              "      </script>\n",
              "    </div>\n",
              "  </div>\n",
              "  "
            ]
          },
          "metadata": {},
          "execution_count": 90
        }
      ],
      "source": [
        "marital_encoded = \\\n",
        "pd.get_dummies(data = users_data_encoded['marital'],\n",
        "               drop_first = True)\n",
        "\n",
        "marital_encoded "
      ]
    },
    {
      "cell_type": "code",
      "execution_count": null,
      "metadata": {
        "colab": {
          "base_uri": "https://localhost:8080/",
          "height": 569
        },
        "id": "j_ykm8IB-89G",
        "outputId": "c468c4e3-3b73-4c1c-897e-abe5ea2ce784"
      },
      "outputs": [
        {
          "output_type": "execute_result",
          "data": {
            "text/plain": [
              "                                user_id  number_transactions  \\\n",
              "0  9231c446-cb16-4b2b-a7f7-ddfc8b25aaf6                  3.0   \n",
              "1  bb92765a-08de-4963-b432-496524b39157                  0.0   \n",
              "2  573de577-49ef-42b9-83da-d3cfb817b5c1                  2.0   \n",
              "3  d6b66b9d-7c8f-4257-a682-e136f640b7e3                  0.0   \n",
              "4  fade0b20-7594-4d9a-84cd-c02f79b1b526                  1.0   \n",
              "\n",
              "   total_amount_usd  age  job_management  job_technician  job_entrepreneur  \\\n",
              "0           2143.00   58               1               0                 0   \n",
              "1           1369.42   44               0               1                 0   \n",
              "2              2.00   33               0               0                 1   \n",
              "3           1369.42   47               0               0                 0   \n",
              "4              1.00   33               0               0                 0   \n",
              "\n",
              "   job_blue-collar  job_Unknown  job_retired  ...  contact  duration  \\\n",
              "0                0            0            0  ...  Unknown       261   \n",
              "1                0            0            0  ...  Unknown       151   \n",
              "2                0            0            0  ...  Unknown        76   \n",
              "3                1            0            0  ...  Unknown        92   \n",
              "4                0            1            0  ...  Unknown       198   \n",
              "\n",
              "   campaign  pdays  previous  term_deposit date_joined   device  married  \\\n",
              "0         1     -1         0         False  1998-08-23   mobile        1   \n",
              "1         1     -1         0         False  2008-07-15  desktop        0   \n",
              "2         1     -1         0         False  2002-06-04   mobile        1   \n",
              "3         1     -1         0         False  1995-06-29   tablet        1   \n",
              "4         1     -1         0         False  1995-08-01   mobile        0   \n",
              "\n",
              "   single  \n",
              "0       0  \n",
              "1       1  \n",
              "2       0  \n",
              "3       0  \n",
              "4       1  \n",
              "\n",
              "[5 rows x 30 columns]"
            ],
            "text/html": [
              "\n",
              "  <div id=\"df-cd84c00a-5a6b-4f5e-bc4a-d850be5ef2df\">\n",
              "    <div class=\"colab-df-container\">\n",
              "      <div>\n",
              "<style scoped>\n",
              "    .dataframe tbody tr th:only-of-type {\n",
              "        vertical-align: middle;\n",
              "    }\n",
              "\n",
              "    .dataframe tbody tr th {\n",
              "        vertical-align: top;\n",
              "    }\n",
              "\n",
              "    .dataframe thead th {\n",
              "        text-align: right;\n",
              "    }\n",
              "</style>\n",
              "<table border=\"1\" class=\"dataframe\">\n",
              "  <thead>\n",
              "    <tr style=\"text-align: right;\">\n",
              "      <th></th>\n",
              "      <th>user_id</th>\n",
              "      <th>number_transactions</th>\n",
              "      <th>total_amount_usd</th>\n",
              "      <th>age</th>\n",
              "      <th>job_management</th>\n",
              "      <th>job_technician</th>\n",
              "      <th>job_entrepreneur</th>\n",
              "      <th>job_blue-collar</th>\n",
              "      <th>job_Unknown</th>\n",
              "      <th>job_retired</th>\n",
              "      <th>...</th>\n",
              "      <th>contact</th>\n",
              "      <th>duration</th>\n",
              "      <th>campaign</th>\n",
              "      <th>pdays</th>\n",
              "      <th>previous</th>\n",
              "      <th>term_deposit</th>\n",
              "      <th>date_joined</th>\n",
              "      <th>device</th>\n",
              "      <th>married</th>\n",
              "      <th>single</th>\n",
              "    </tr>\n",
              "  </thead>\n",
              "  <tbody>\n",
              "    <tr>\n",
              "      <th>0</th>\n",
              "      <td>9231c446-cb16-4b2b-a7f7-ddfc8b25aaf6</td>\n",
              "      <td>3.0</td>\n",
              "      <td>2143.00</td>\n",
              "      <td>58</td>\n",
              "      <td>1</td>\n",
              "      <td>0</td>\n",
              "      <td>0</td>\n",
              "      <td>0</td>\n",
              "      <td>0</td>\n",
              "      <td>0</td>\n",
              "      <td>...</td>\n",
              "      <td>Unknown</td>\n",
              "      <td>261</td>\n",
              "      <td>1</td>\n",
              "      <td>-1</td>\n",
              "      <td>0</td>\n",
              "      <td>False</td>\n",
              "      <td>1998-08-23</td>\n",
              "      <td>mobile</td>\n",
              "      <td>1</td>\n",
              "      <td>0</td>\n",
              "    </tr>\n",
              "    <tr>\n",
              "      <th>1</th>\n",
              "      <td>bb92765a-08de-4963-b432-496524b39157</td>\n",
              "      <td>0.0</td>\n",
              "      <td>1369.42</td>\n",
              "      <td>44</td>\n",
              "      <td>0</td>\n",
              "      <td>1</td>\n",
              "      <td>0</td>\n",
              "      <td>0</td>\n",
              "      <td>0</td>\n",
              "      <td>0</td>\n",
              "      <td>...</td>\n",
              "      <td>Unknown</td>\n",
              "      <td>151</td>\n",
              "      <td>1</td>\n",
              "      <td>-1</td>\n",
              "      <td>0</td>\n",
              "      <td>False</td>\n",
              "      <td>2008-07-15</td>\n",
              "      <td>desktop</td>\n",
              "      <td>0</td>\n",
              "      <td>1</td>\n",
              "    </tr>\n",
              "    <tr>\n",
              "      <th>2</th>\n",
              "      <td>573de577-49ef-42b9-83da-d3cfb817b5c1</td>\n",
              "      <td>2.0</td>\n",
              "      <td>2.00</td>\n",
              "      <td>33</td>\n",
              "      <td>0</td>\n",
              "      <td>0</td>\n",
              "      <td>1</td>\n",
              "      <td>0</td>\n",
              "      <td>0</td>\n",
              "      <td>0</td>\n",
              "      <td>...</td>\n",
              "      <td>Unknown</td>\n",
              "      <td>76</td>\n",
              "      <td>1</td>\n",
              "      <td>-1</td>\n",
              "      <td>0</td>\n",
              "      <td>False</td>\n",
              "      <td>2002-06-04</td>\n",
              "      <td>mobile</td>\n",
              "      <td>1</td>\n",
              "      <td>0</td>\n",
              "    </tr>\n",
              "    <tr>\n",
              "      <th>3</th>\n",
              "      <td>d6b66b9d-7c8f-4257-a682-e136f640b7e3</td>\n",
              "      <td>0.0</td>\n",
              "      <td>1369.42</td>\n",
              "      <td>47</td>\n",
              "      <td>0</td>\n",
              "      <td>0</td>\n",
              "      <td>0</td>\n",
              "      <td>1</td>\n",
              "      <td>0</td>\n",
              "      <td>0</td>\n",
              "      <td>...</td>\n",
              "      <td>Unknown</td>\n",
              "      <td>92</td>\n",
              "      <td>1</td>\n",
              "      <td>-1</td>\n",
              "      <td>0</td>\n",
              "      <td>False</td>\n",
              "      <td>1995-06-29</td>\n",
              "      <td>tablet</td>\n",
              "      <td>1</td>\n",
              "      <td>0</td>\n",
              "    </tr>\n",
              "    <tr>\n",
              "      <th>4</th>\n",
              "      <td>fade0b20-7594-4d9a-84cd-c02f79b1b526</td>\n",
              "      <td>1.0</td>\n",
              "      <td>1.00</td>\n",
              "      <td>33</td>\n",
              "      <td>0</td>\n",
              "      <td>0</td>\n",
              "      <td>0</td>\n",
              "      <td>0</td>\n",
              "      <td>1</td>\n",
              "      <td>0</td>\n",
              "      <td>...</td>\n",
              "      <td>Unknown</td>\n",
              "      <td>198</td>\n",
              "      <td>1</td>\n",
              "      <td>-1</td>\n",
              "      <td>0</td>\n",
              "      <td>False</td>\n",
              "      <td>1995-08-01</td>\n",
              "      <td>mobile</td>\n",
              "      <td>0</td>\n",
              "      <td>1</td>\n",
              "    </tr>\n",
              "  </tbody>\n",
              "</table>\n",
              "<p>5 rows × 30 columns</p>\n",
              "</div>\n",
              "      <button class=\"colab-df-convert\" onclick=\"convertToInteractive('df-cd84c00a-5a6b-4f5e-bc4a-d850be5ef2df')\"\n",
              "              title=\"Convert this dataframe to an interactive table.\"\n",
              "              style=\"display:none;\">\n",
              "        \n",
              "  <svg xmlns=\"http://www.w3.org/2000/svg\" height=\"24px\"viewBox=\"0 0 24 24\"\n",
              "       width=\"24px\">\n",
              "    <path d=\"M0 0h24v24H0V0z\" fill=\"none\"/>\n",
              "    <path d=\"M18.56 5.44l.94 2.06.94-2.06 2.06-.94-2.06-.94-.94-2.06-.94 2.06-2.06.94zm-11 1L8.5 8.5l.94-2.06 2.06-.94-2.06-.94L8.5 2.5l-.94 2.06-2.06.94zm10 10l.94 2.06.94-2.06 2.06-.94-2.06-.94-.94-2.06-.94 2.06-2.06.94z\"/><path d=\"M17.41 7.96l-1.37-1.37c-.4-.4-.92-.59-1.43-.59-.52 0-1.04.2-1.43.59L10.3 9.45l-7.72 7.72c-.78.78-.78 2.05 0 2.83L4 21.41c.39.39.9.59 1.41.59.51 0 1.02-.2 1.41-.59l7.78-7.78 2.81-2.81c.8-.78.8-2.07 0-2.86zM5.41 20L4 18.59l7.72-7.72 1.47 1.35L5.41 20z\"/>\n",
              "  </svg>\n",
              "      </button>\n",
              "      \n",
              "  <style>\n",
              "    .colab-df-container {\n",
              "      display:flex;\n",
              "      flex-wrap:wrap;\n",
              "      gap: 12px;\n",
              "    }\n",
              "\n",
              "    .colab-df-convert {\n",
              "      background-color: #E8F0FE;\n",
              "      border: none;\n",
              "      border-radius: 50%;\n",
              "      cursor: pointer;\n",
              "      display: none;\n",
              "      fill: #1967D2;\n",
              "      height: 32px;\n",
              "      padding: 0 0 0 0;\n",
              "      width: 32px;\n",
              "    }\n",
              "\n",
              "    .colab-df-convert:hover {\n",
              "      background-color: #E2EBFA;\n",
              "      box-shadow: 0px 1px 2px rgba(60, 64, 67, 0.3), 0px 1px 3px 1px rgba(60, 64, 67, 0.15);\n",
              "      fill: #174EA6;\n",
              "    }\n",
              "\n",
              "    [theme=dark] .colab-df-convert {\n",
              "      background-color: #3B4455;\n",
              "      fill: #D2E3FC;\n",
              "    }\n",
              "\n",
              "    [theme=dark] .colab-df-convert:hover {\n",
              "      background-color: #434B5C;\n",
              "      box-shadow: 0px 1px 3px 1px rgba(0, 0, 0, 0.15);\n",
              "      filter: drop-shadow(0px 1px 2px rgba(0, 0, 0, 0.3));\n",
              "      fill: #FFFFFF;\n",
              "    }\n",
              "  </style>\n",
              "\n",
              "      <script>\n",
              "        const buttonEl =\n",
              "          document.querySelector('#df-cd84c00a-5a6b-4f5e-bc4a-d850be5ef2df button.colab-df-convert');\n",
              "        buttonEl.style.display =\n",
              "          google.colab.kernel.accessAllowed ? 'block' : 'none';\n",
              "\n",
              "        async function convertToInteractive(key) {\n",
              "          const element = document.querySelector('#df-cd84c00a-5a6b-4f5e-bc4a-d850be5ef2df');\n",
              "          const dataTable =\n",
              "            await google.colab.kernel.invokeFunction('convertToInteractive',\n",
              "                                                     [key], {});\n",
              "          if (!dataTable) return;\n",
              "\n",
              "          const docLinkHtml = 'Like what you see? Visit the ' +\n",
              "            '<a target=\"_blank\" href=https://colab.research.google.com/notebooks/data_table.ipynb>data table notebook</a>'\n",
              "            + ' to learn more about interactive tables.';\n",
              "          element.innerHTML = '';\n",
              "          dataTable['output_type'] = 'display_data';\n",
              "          await google.colab.output.renderOutput(dataTable, element);\n",
              "          const docLink = document.createElement('div');\n",
              "          docLink.innerHTML = docLinkHtml;\n",
              "          element.appendChild(docLink);\n",
              "        }\n",
              "      </script>\n",
              "    </div>\n",
              "  </div>\n",
              "  "
            ]
          },
          "metadata": {},
          "execution_count": 91
        }
      ],
      "source": [
        "# Concatenate the new encoded columns.\n",
        "\n",
        "users_data_encoded = \\\n",
        "pd.concat([users_data_encoded, marital_encoded], axis = 1)\n",
        "\n",
        "# Drop the original variable.\n",
        "\n",
        "users_data_encoded.drop(['marital'], axis = 1, inplace = True)\n",
        "\n",
        "# Preview the data\n",
        "\n",
        "users_data_encoded.head()"
      ]
    },
    {
      "cell_type": "code",
      "execution_count": null,
      "metadata": {
        "colab": {
          "base_uri": "https://localhost:8080/"
        },
        "id": "aY0fTgDDAEWQ",
        "outputId": "738ef841-e4f8-4310-cca5-e7bc898acc51"
      },
      "outputs": [
        {
          "output_type": "stream",
          "name": "stdout",
          "text": [
            "Shape of data after encoding: (45179, 30)\n"
          ]
        },
        {
          "output_type": "execute_result",
          "data": {
            "text/plain": [
              "['user_id',\n",
              " 'number_transactions',\n",
              " 'total_amount_usd',\n",
              " 'age',\n",
              " 'job_management',\n",
              " 'job_technician',\n",
              " 'job_entrepreneur',\n",
              " 'job_blue-collar',\n",
              " 'job_Unknown',\n",
              " 'job_retired',\n",
              " 'job_admin.',\n",
              " 'job_services',\n",
              " 'job_self-employed',\n",
              " 'job_unemployed',\n",
              " 'job_housemaid',\n",
              " 'job_student',\n",
              " 'education',\n",
              " 'default',\n",
              " 'housing',\n",
              " 'loan',\n",
              " 'contact',\n",
              " 'duration',\n",
              " 'campaign',\n",
              " 'pdays',\n",
              " 'previous',\n",
              " 'term_deposit',\n",
              " 'date_joined',\n",
              " 'device',\n",
              " 'married',\n",
              " 'single']"
            ]
          },
          "metadata": {},
          "execution_count": 92
        }
      ],
      "source": [
        "print('Shape of data after encoding:',\n",
        "      users_data_encoded.shape)\n",
        "\n",
        "list(users_data_encoded)"
      ]
    },
    {
      "cell_type": "markdown",
      "metadata": {
        "id": "ieUIUY24_MmQ"
      },
      "source": [
        "# One-hot encode the remaining categorical variables"
      ]
    },
    {
      "cell_type": "code",
      "execution_count": null,
      "metadata": {
        "id": "rAjoQ2NJAsWT"
      },
      "outputs": [],
      "source": [
        "cols = ['education', 'contact', 'device']\n",
        "\n",
        "encoder = ce.OneHotEncoder(cols = cols,\n",
        "                           return_df = True,\n",
        "                           use_cat_names = True)"
      ]
    },
    {
      "cell_type": "code",
      "execution_count": null,
      "metadata": {
        "colab": {
          "base_uri": "https://localhost:8080/",
          "height": 569
        },
        "id": "sq9duxcAAxJj",
        "outputId": "884a7a06-b4a3-4fa1-ed94-e848cac3925c"
      },
      "outputs": [
        {
          "output_type": "execute_result",
          "data": {
            "text/plain": [
              "                                user_id  number_transactions  \\\n",
              "0  9231c446-cb16-4b2b-a7f7-ddfc8b25aaf6                  3.0   \n",
              "1  bb92765a-08de-4963-b432-496524b39157                  0.0   \n",
              "2  573de577-49ef-42b9-83da-d3cfb817b5c1                  2.0   \n",
              "3  d6b66b9d-7c8f-4257-a682-e136f640b7e3                  0.0   \n",
              "4  fade0b20-7594-4d9a-84cd-c02f79b1b526                  1.0   \n",
              "\n",
              "   total_amount_usd  age  job_management  job_technician  job_entrepreneur  \\\n",
              "0           2143.00   58               1               0                 0   \n",
              "1           1369.42   44               0               1                 0   \n",
              "2              2.00   33               0               0                 1   \n",
              "3           1369.42   47               0               0                 0   \n",
              "4              1.00   33               0               0                 0   \n",
              "\n",
              "   job_blue-collar  job_Unknown  job_retired  ...  pdays  previous  \\\n",
              "0                0            0            0  ...     -1         0   \n",
              "1                0            0            0  ...     -1         0   \n",
              "2                0            0            0  ...     -1         0   \n",
              "3                1            0            0  ...     -1         0   \n",
              "4                0            1            0  ...     -1         0   \n",
              "\n",
              "   term_deposit  date_joined  device_mobile  device_desktop  device_tablet  \\\n",
              "0         False   1998-08-23              1               0              0   \n",
              "1         False   2008-07-15              0               1              0   \n",
              "2         False   2002-06-04              1               0              0   \n",
              "3         False   1995-06-29              0               0              1   \n",
              "4         False   1995-08-01              1               0              0   \n",
              "\n",
              "   device_Unknown  married  single  \n",
              "0               0        1       0  \n",
              "1               0        0       1  \n",
              "2               0        1       0  \n",
              "3               0        1       0  \n",
              "4               0        0       1  \n",
              "\n",
              "[5 rows x 38 columns]"
            ],
            "text/html": [
              "\n",
              "  <div id=\"df-b621a407-5d60-4090-8a4c-f3b1638265d7\">\n",
              "    <div class=\"colab-df-container\">\n",
              "      <div>\n",
              "<style scoped>\n",
              "    .dataframe tbody tr th:only-of-type {\n",
              "        vertical-align: middle;\n",
              "    }\n",
              "\n",
              "    .dataframe tbody tr th {\n",
              "        vertical-align: top;\n",
              "    }\n",
              "\n",
              "    .dataframe thead th {\n",
              "        text-align: right;\n",
              "    }\n",
              "</style>\n",
              "<table border=\"1\" class=\"dataframe\">\n",
              "  <thead>\n",
              "    <tr style=\"text-align: right;\">\n",
              "      <th></th>\n",
              "      <th>user_id</th>\n",
              "      <th>number_transactions</th>\n",
              "      <th>total_amount_usd</th>\n",
              "      <th>age</th>\n",
              "      <th>job_management</th>\n",
              "      <th>job_technician</th>\n",
              "      <th>job_entrepreneur</th>\n",
              "      <th>job_blue-collar</th>\n",
              "      <th>job_Unknown</th>\n",
              "      <th>job_retired</th>\n",
              "      <th>...</th>\n",
              "      <th>pdays</th>\n",
              "      <th>previous</th>\n",
              "      <th>term_deposit</th>\n",
              "      <th>date_joined</th>\n",
              "      <th>device_mobile</th>\n",
              "      <th>device_desktop</th>\n",
              "      <th>device_tablet</th>\n",
              "      <th>device_Unknown</th>\n",
              "      <th>married</th>\n",
              "      <th>single</th>\n",
              "    </tr>\n",
              "  </thead>\n",
              "  <tbody>\n",
              "    <tr>\n",
              "      <th>0</th>\n",
              "      <td>9231c446-cb16-4b2b-a7f7-ddfc8b25aaf6</td>\n",
              "      <td>3.0</td>\n",
              "      <td>2143.00</td>\n",
              "      <td>58</td>\n",
              "      <td>1</td>\n",
              "      <td>0</td>\n",
              "      <td>0</td>\n",
              "      <td>0</td>\n",
              "      <td>0</td>\n",
              "      <td>0</td>\n",
              "      <td>...</td>\n",
              "      <td>-1</td>\n",
              "      <td>0</td>\n",
              "      <td>False</td>\n",
              "      <td>1998-08-23</td>\n",
              "      <td>1</td>\n",
              "      <td>0</td>\n",
              "      <td>0</td>\n",
              "      <td>0</td>\n",
              "      <td>1</td>\n",
              "      <td>0</td>\n",
              "    </tr>\n",
              "    <tr>\n",
              "      <th>1</th>\n",
              "      <td>bb92765a-08de-4963-b432-496524b39157</td>\n",
              "      <td>0.0</td>\n",
              "      <td>1369.42</td>\n",
              "      <td>44</td>\n",
              "      <td>0</td>\n",
              "      <td>1</td>\n",
              "      <td>0</td>\n",
              "      <td>0</td>\n",
              "      <td>0</td>\n",
              "      <td>0</td>\n",
              "      <td>...</td>\n",
              "      <td>-1</td>\n",
              "      <td>0</td>\n",
              "      <td>False</td>\n",
              "      <td>2008-07-15</td>\n",
              "      <td>0</td>\n",
              "      <td>1</td>\n",
              "      <td>0</td>\n",
              "      <td>0</td>\n",
              "      <td>0</td>\n",
              "      <td>1</td>\n",
              "    </tr>\n",
              "    <tr>\n",
              "      <th>2</th>\n",
              "      <td>573de577-49ef-42b9-83da-d3cfb817b5c1</td>\n",
              "      <td>2.0</td>\n",
              "      <td>2.00</td>\n",
              "      <td>33</td>\n",
              "      <td>0</td>\n",
              "      <td>0</td>\n",
              "      <td>1</td>\n",
              "      <td>0</td>\n",
              "      <td>0</td>\n",
              "      <td>0</td>\n",
              "      <td>...</td>\n",
              "      <td>-1</td>\n",
              "      <td>0</td>\n",
              "      <td>False</td>\n",
              "      <td>2002-06-04</td>\n",
              "      <td>1</td>\n",
              "      <td>0</td>\n",
              "      <td>0</td>\n",
              "      <td>0</td>\n",
              "      <td>1</td>\n",
              "      <td>0</td>\n",
              "    </tr>\n",
              "    <tr>\n",
              "      <th>3</th>\n",
              "      <td>d6b66b9d-7c8f-4257-a682-e136f640b7e3</td>\n",
              "      <td>0.0</td>\n",
              "      <td>1369.42</td>\n",
              "      <td>47</td>\n",
              "      <td>0</td>\n",
              "      <td>0</td>\n",
              "      <td>0</td>\n",
              "      <td>1</td>\n",
              "      <td>0</td>\n",
              "      <td>0</td>\n",
              "      <td>...</td>\n",
              "      <td>-1</td>\n",
              "      <td>0</td>\n",
              "      <td>False</td>\n",
              "      <td>1995-06-29</td>\n",
              "      <td>0</td>\n",
              "      <td>0</td>\n",
              "      <td>1</td>\n",
              "      <td>0</td>\n",
              "      <td>1</td>\n",
              "      <td>0</td>\n",
              "    </tr>\n",
              "    <tr>\n",
              "      <th>4</th>\n",
              "      <td>fade0b20-7594-4d9a-84cd-c02f79b1b526</td>\n",
              "      <td>1.0</td>\n",
              "      <td>1.00</td>\n",
              "      <td>33</td>\n",
              "      <td>0</td>\n",
              "      <td>0</td>\n",
              "      <td>0</td>\n",
              "      <td>0</td>\n",
              "      <td>1</td>\n",
              "      <td>0</td>\n",
              "      <td>...</td>\n",
              "      <td>-1</td>\n",
              "      <td>0</td>\n",
              "      <td>False</td>\n",
              "      <td>1995-08-01</td>\n",
              "      <td>1</td>\n",
              "      <td>0</td>\n",
              "      <td>0</td>\n",
              "      <td>0</td>\n",
              "      <td>0</td>\n",
              "      <td>1</td>\n",
              "    </tr>\n",
              "  </tbody>\n",
              "</table>\n",
              "<p>5 rows × 38 columns</p>\n",
              "</div>\n",
              "      <button class=\"colab-df-convert\" onclick=\"convertToInteractive('df-b621a407-5d60-4090-8a4c-f3b1638265d7')\"\n",
              "              title=\"Convert this dataframe to an interactive table.\"\n",
              "              style=\"display:none;\">\n",
              "        \n",
              "  <svg xmlns=\"http://www.w3.org/2000/svg\" height=\"24px\"viewBox=\"0 0 24 24\"\n",
              "       width=\"24px\">\n",
              "    <path d=\"M0 0h24v24H0V0z\" fill=\"none\"/>\n",
              "    <path d=\"M18.56 5.44l.94 2.06.94-2.06 2.06-.94-2.06-.94-.94-2.06-.94 2.06-2.06.94zm-11 1L8.5 8.5l.94-2.06 2.06-.94-2.06-.94L8.5 2.5l-.94 2.06-2.06.94zm10 10l.94 2.06.94-2.06 2.06-.94-2.06-.94-.94-2.06-.94 2.06-2.06.94z\"/><path d=\"M17.41 7.96l-1.37-1.37c-.4-.4-.92-.59-1.43-.59-.52 0-1.04.2-1.43.59L10.3 9.45l-7.72 7.72c-.78.78-.78 2.05 0 2.83L4 21.41c.39.39.9.59 1.41.59.51 0 1.02-.2 1.41-.59l7.78-7.78 2.81-2.81c.8-.78.8-2.07 0-2.86zM5.41 20L4 18.59l7.72-7.72 1.47 1.35L5.41 20z\"/>\n",
              "  </svg>\n",
              "      </button>\n",
              "      \n",
              "  <style>\n",
              "    .colab-df-container {\n",
              "      display:flex;\n",
              "      flex-wrap:wrap;\n",
              "      gap: 12px;\n",
              "    }\n",
              "\n",
              "    .colab-df-convert {\n",
              "      background-color: #E8F0FE;\n",
              "      border: none;\n",
              "      border-radius: 50%;\n",
              "      cursor: pointer;\n",
              "      display: none;\n",
              "      fill: #1967D2;\n",
              "      height: 32px;\n",
              "      padding: 0 0 0 0;\n",
              "      width: 32px;\n",
              "    }\n",
              "\n",
              "    .colab-df-convert:hover {\n",
              "      background-color: #E2EBFA;\n",
              "      box-shadow: 0px 1px 2px rgba(60, 64, 67, 0.3), 0px 1px 3px 1px rgba(60, 64, 67, 0.15);\n",
              "      fill: #174EA6;\n",
              "    }\n",
              "\n",
              "    [theme=dark] .colab-df-convert {\n",
              "      background-color: #3B4455;\n",
              "      fill: #D2E3FC;\n",
              "    }\n",
              "\n",
              "    [theme=dark] .colab-df-convert:hover {\n",
              "      background-color: #434B5C;\n",
              "      box-shadow: 0px 1px 3px 1px rgba(0, 0, 0, 0.15);\n",
              "      filter: drop-shadow(0px 1px 2px rgba(0, 0, 0, 0.3));\n",
              "      fill: #FFFFFF;\n",
              "    }\n",
              "  </style>\n",
              "\n",
              "      <script>\n",
              "        const buttonEl =\n",
              "          document.querySelector('#df-b621a407-5d60-4090-8a4c-f3b1638265d7 button.colab-df-convert');\n",
              "        buttonEl.style.display =\n",
              "          google.colab.kernel.accessAllowed ? 'block' : 'none';\n",
              "\n",
              "        async function convertToInteractive(key) {\n",
              "          const element = document.querySelector('#df-b621a407-5d60-4090-8a4c-f3b1638265d7');\n",
              "          const dataTable =\n",
              "            await google.colab.kernel.invokeFunction('convertToInteractive',\n",
              "                                                     [key], {});\n",
              "          if (!dataTable) return;\n",
              "\n",
              "          const docLinkHtml = 'Like what you see? Visit the ' +\n",
              "            '<a target=\"_blank\" href=https://colab.research.google.com/notebooks/data_table.ipynb>data table notebook</a>'\n",
              "            + ' to learn more about interactive tables.';\n",
              "          element.innerHTML = '';\n",
              "          dataTable['output_type'] = 'display_data';\n",
              "          await google.colab.output.renderOutput(dataTable, element);\n",
              "          const docLink = document.createElement('div');\n",
              "          docLink.innerHTML = docLinkHtml;\n",
              "          element.appendChild(docLink);\n",
              "        }\n",
              "      </script>\n",
              "    </div>\n",
              "  </div>\n",
              "  "
            ]
          },
          "metadata": {},
          "execution_count": 94
        }
      ],
      "source": [
        "# Fit and transform data.\n",
        "\n",
        "users_data_encoded = encoder.fit_transform(users_data_encoded)\n",
        "\n",
        "# Preview the data.\n",
        "\n",
        "users_data_encoded.head()"
      ]
    },
    {
      "cell_type": "code",
      "execution_count": null,
      "metadata": {
        "colab": {
          "base_uri": "https://localhost:8080/"
        },
        "id": "NAZFKLk-DHTv",
        "outputId": "af07dceb-8d17-47b8-83f1-1da89f1cadd2"
      },
      "outputs": [
        {
          "output_type": "stream",
          "name": "stdout",
          "text": [
            "Shape of data after encoding: (45179, 38)\n"
          ]
        },
        {
          "output_type": "execute_result",
          "data": {
            "text/plain": [
              "['user_id',\n",
              " 'number_transactions',\n",
              " 'total_amount_usd',\n",
              " 'age',\n",
              " 'job_management',\n",
              " 'job_technician',\n",
              " 'job_entrepreneur',\n",
              " 'job_blue-collar',\n",
              " 'job_Unknown',\n",
              " 'job_retired',\n",
              " 'job_admin.',\n",
              " 'job_services',\n",
              " 'job_self-employed',\n",
              " 'job_unemployed',\n",
              " 'job_housemaid',\n",
              " 'job_student',\n",
              " 'education_tertiary',\n",
              " 'education_secondary',\n",
              " 'education_Unknown',\n",
              " 'education_primary',\n",
              " 'default',\n",
              " 'housing',\n",
              " 'loan',\n",
              " 'contact_Unknown',\n",
              " 'contact_cellular',\n",
              " 'contact_telephone',\n",
              " 'duration',\n",
              " 'campaign',\n",
              " 'pdays',\n",
              " 'previous',\n",
              " 'term_deposit',\n",
              " 'date_joined',\n",
              " 'device_mobile',\n",
              " 'device_desktop',\n",
              " 'device_tablet',\n",
              " 'device_Unknown',\n",
              " 'married',\n",
              " 'single']"
            ]
          },
          "metadata": {},
          "execution_count": 95
        }
      ],
      "source": [
        "print('Shape of data after encoding:',\n",
        "      users_data_encoded.shape)\n",
        "\n",
        "list(users_data_encoded)"
      ]
    },
    {
      "cell_type": "markdown",
      "metadata": {
        "id": "VUOz4SGBfAHV"
      },
      "source": [
        "# Discretize `age` into bins"
      ]
    },
    {
      "cell_type": "code",
      "execution_count": null,
      "metadata": {
        "colab": {
          "base_uri": "https://localhost:8080/"
        },
        "id": "kLZ0vlUwgxtB",
        "outputId": "d3abc070-5e39-46ba-be5a-0ab582434e3c"
      },
      "outputs": [
        {
          "output_type": "execute_result",
          "data": {
            "text/plain": [
              "count    45179.000000\n",
              "mean        40.935103\n",
              "std         10.618499\n",
              "min         18.000000\n",
              "25%         33.000000\n",
              "50%         39.000000\n",
              "75%         48.000000\n",
              "max         95.000000\n",
              "Name: age, dtype: float64"
            ]
          },
          "metadata": {},
          "execution_count": 96
        }
      ],
      "source": [
        "users_data_encoded.age.describe()"
      ]
    },
    {
      "cell_type": "code",
      "execution_count": null,
      "metadata": {
        "id": "bRAfTlIMk1Wa"
      },
      "outputs": [],
      "source": [
        "# Define age bins and labels.\n",
        "\n",
        "bins = [18, 25, 35, 45, 55, 65, 75, 110]\n",
        "labels = ['18–24', '25–34', '35–44',\n",
        "          '45–54', '55–64', '65–74', '75+']\n",
        "\n",
        "# Perform binning using bin list.\n",
        "\n",
        "users_data_encoded['age_group'] = \\\n",
        "pd.cut(users_data_encoded['age'], bins = bins,\n",
        "       labels = labels, right = False)\n",
        "\n",
        "# Map bins to integer values.\n",
        "users_data_encoded['age_group_encoded'] = \\\n",
        "users_data_encoded['age_group'].cat.codes"
      ]
    },
    {
      "cell_type": "code",
      "execution_count": null,
      "metadata": {
        "colab": {
          "base_uri": "https://localhost:8080/",
          "height": 359
        },
        "id": "6Xk0BHw8jemq",
        "outputId": "7bcaf7e8-07b4-4eb0-d38b-7de86d53c612"
      },
      "outputs": [
        {
          "output_type": "execute_result",
          "data": {
            "text/plain": [
              "       age_group_encoded age_group  age\n",
              "5034                   1     25–34   34\n",
              "21728                  3     45–54   48\n",
              "1367                   1     25–34   28\n",
              "22651                  3     45–54   46\n",
              "27186                  3     45–54   54\n",
              "6230                   2     35–44   42\n",
              "20839                  3     45–54   51\n",
              "7680                   2     35–44   35\n",
              "23089                  3     45–54   48\n",
              "3086                   2     35–44   42"
            ],
            "text/html": [
              "\n",
              "  <div id=\"df-8d58edbb-4cb8-44da-b217-b8be07273485\">\n",
              "    <div class=\"colab-df-container\">\n",
              "      <div>\n",
              "<style scoped>\n",
              "    .dataframe tbody tr th:only-of-type {\n",
              "        vertical-align: middle;\n",
              "    }\n",
              "\n",
              "    .dataframe tbody tr th {\n",
              "        vertical-align: top;\n",
              "    }\n",
              "\n",
              "    .dataframe thead th {\n",
              "        text-align: right;\n",
              "    }\n",
              "</style>\n",
              "<table border=\"1\" class=\"dataframe\">\n",
              "  <thead>\n",
              "    <tr style=\"text-align: right;\">\n",
              "      <th></th>\n",
              "      <th>age_group_encoded</th>\n",
              "      <th>age_group</th>\n",
              "      <th>age</th>\n",
              "    </tr>\n",
              "  </thead>\n",
              "  <tbody>\n",
              "    <tr>\n",
              "      <th>5034</th>\n",
              "      <td>1</td>\n",
              "      <td>25–34</td>\n",
              "      <td>34</td>\n",
              "    </tr>\n",
              "    <tr>\n",
              "      <th>21728</th>\n",
              "      <td>3</td>\n",
              "      <td>45–54</td>\n",
              "      <td>48</td>\n",
              "    </tr>\n",
              "    <tr>\n",
              "      <th>1367</th>\n",
              "      <td>1</td>\n",
              "      <td>25–34</td>\n",
              "      <td>28</td>\n",
              "    </tr>\n",
              "    <tr>\n",
              "      <th>22651</th>\n",
              "      <td>3</td>\n",
              "      <td>45–54</td>\n",
              "      <td>46</td>\n",
              "    </tr>\n",
              "    <tr>\n",
              "      <th>27186</th>\n",
              "      <td>3</td>\n",
              "      <td>45–54</td>\n",
              "      <td>54</td>\n",
              "    </tr>\n",
              "    <tr>\n",
              "      <th>6230</th>\n",
              "      <td>2</td>\n",
              "      <td>35–44</td>\n",
              "      <td>42</td>\n",
              "    </tr>\n",
              "    <tr>\n",
              "      <th>20839</th>\n",
              "      <td>3</td>\n",
              "      <td>45–54</td>\n",
              "      <td>51</td>\n",
              "    </tr>\n",
              "    <tr>\n",
              "      <th>7680</th>\n",
              "      <td>2</td>\n",
              "      <td>35–44</td>\n",
              "      <td>35</td>\n",
              "    </tr>\n",
              "    <tr>\n",
              "      <th>23089</th>\n",
              "      <td>3</td>\n",
              "      <td>45–54</td>\n",
              "      <td>48</td>\n",
              "    </tr>\n",
              "    <tr>\n",
              "      <th>3086</th>\n",
              "      <td>2</td>\n",
              "      <td>35–44</td>\n",
              "      <td>42</td>\n",
              "    </tr>\n",
              "  </tbody>\n",
              "</table>\n",
              "</div>\n",
              "      <button class=\"colab-df-convert\" onclick=\"convertToInteractive('df-8d58edbb-4cb8-44da-b217-b8be07273485')\"\n",
              "              title=\"Convert this dataframe to an interactive table.\"\n",
              "              style=\"display:none;\">\n",
              "        \n",
              "  <svg xmlns=\"http://www.w3.org/2000/svg\" height=\"24px\"viewBox=\"0 0 24 24\"\n",
              "       width=\"24px\">\n",
              "    <path d=\"M0 0h24v24H0V0z\" fill=\"none\"/>\n",
              "    <path d=\"M18.56 5.44l.94 2.06.94-2.06 2.06-.94-2.06-.94-.94-2.06-.94 2.06-2.06.94zm-11 1L8.5 8.5l.94-2.06 2.06-.94-2.06-.94L8.5 2.5l-.94 2.06-2.06.94zm10 10l.94 2.06.94-2.06 2.06-.94-2.06-.94-.94-2.06-.94 2.06-2.06.94z\"/><path d=\"M17.41 7.96l-1.37-1.37c-.4-.4-.92-.59-1.43-.59-.52 0-1.04.2-1.43.59L10.3 9.45l-7.72 7.72c-.78.78-.78 2.05 0 2.83L4 21.41c.39.39.9.59 1.41.59.51 0 1.02-.2 1.41-.59l7.78-7.78 2.81-2.81c.8-.78.8-2.07 0-2.86zM5.41 20L4 18.59l7.72-7.72 1.47 1.35L5.41 20z\"/>\n",
              "  </svg>\n",
              "      </button>\n",
              "      \n",
              "  <style>\n",
              "    .colab-df-container {\n",
              "      display:flex;\n",
              "      flex-wrap:wrap;\n",
              "      gap: 12px;\n",
              "    }\n",
              "\n",
              "    .colab-df-convert {\n",
              "      background-color: #E8F0FE;\n",
              "      border: none;\n",
              "      border-radius: 50%;\n",
              "      cursor: pointer;\n",
              "      display: none;\n",
              "      fill: #1967D2;\n",
              "      height: 32px;\n",
              "      padding: 0 0 0 0;\n",
              "      width: 32px;\n",
              "    }\n",
              "\n",
              "    .colab-df-convert:hover {\n",
              "      background-color: #E2EBFA;\n",
              "      box-shadow: 0px 1px 2px rgba(60, 64, 67, 0.3), 0px 1px 3px 1px rgba(60, 64, 67, 0.15);\n",
              "      fill: #174EA6;\n",
              "    }\n",
              "\n",
              "    [theme=dark] .colab-df-convert {\n",
              "      background-color: #3B4455;\n",
              "      fill: #D2E3FC;\n",
              "    }\n",
              "\n",
              "    [theme=dark] .colab-df-convert:hover {\n",
              "      background-color: #434B5C;\n",
              "      box-shadow: 0px 1px 3px 1px rgba(0, 0, 0, 0.15);\n",
              "      filter: drop-shadow(0px 1px 2px rgba(0, 0, 0, 0.3));\n",
              "      fill: #FFFFFF;\n",
              "    }\n",
              "  </style>\n",
              "\n",
              "      <script>\n",
              "        const buttonEl =\n",
              "          document.querySelector('#df-8d58edbb-4cb8-44da-b217-b8be07273485 button.colab-df-convert');\n",
              "        buttonEl.style.display =\n",
              "          google.colab.kernel.accessAllowed ? 'block' : 'none';\n",
              "\n",
              "        async function convertToInteractive(key) {\n",
              "          const element = document.querySelector('#df-8d58edbb-4cb8-44da-b217-b8be07273485');\n",
              "          const dataTable =\n",
              "            await google.colab.kernel.invokeFunction('convertToInteractive',\n",
              "                                                     [key], {});\n",
              "          if (!dataTable) return;\n",
              "\n",
              "          const docLinkHtml = 'Like what you see? Visit the ' +\n",
              "            '<a target=\"_blank\" href=https://colab.research.google.com/notebooks/data_table.ipynb>data table notebook</a>'\n",
              "            + ' to learn more about interactive tables.';\n",
              "          element.innerHTML = '';\n",
              "          dataTable['output_type'] = 'display_data';\n",
              "          await google.colab.output.renderOutput(dataTable, element);\n",
              "          const docLink = document.createElement('div');\n",
              "          docLink.innerHTML = docLinkHtml;\n",
              "          element.appendChild(docLink);\n",
              "        }\n",
              "      </script>\n",
              "    </div>\n",
              "  </div>\n",
              "  "
            ]
          },
          "metadata": {},
          "execution_count": 98
        }
      ],
      "source": [
        "# Verify correct binning.\n",
        "\n",
        "age_vars = ['age_group_encoded', 'age_group', 'age']\n",
        "\n",
        "users_data_encoded[age_vars].sample(10)"
      ]
    },
    {
      "cell_type": "markdown",
      "metadata": {
        "id": "CDR1e2wIG5b_"
      },
      "source": [
        "# Plot the new distribution of `age`"
      ]
    },
    {
      "cell_type": "code",
      "execution_count": null,
      "metadata": {
        "colab": {
          "base_uri": "https://localhost:8080/"
        },
        "id": "acwKTZ_5g6n6",
        "outputId": "2ac6f87d-17a2-4d08-ba51-5cecb3e57c84"
      },
      "outputs": [
        {
          "output_type": "execute_result",
          "data": {
            "text/plain": [
              "35–44    14524\n",
              "25–34    14194\n",
              "45–54     9951\n",
              "55–64     4892\n",
              "18–24      809\n",
              "65–74      510\n",
              "75+        299\n",
              "Name: age_group, dtype: int64"
            ]
          },
          "metadata": {},
          "execution_count": 99
        }
      ],
      "source": [
        "user_age_dist = users_data_encoded.age_group.value_counts()\n",
        "\n",
        "user_age_dist"
      ]
    },
    {
      "cell_type": "code",
      "execution_count": null,
      "metadata": {
        "colab": {
          "base_uri": "https://localhost:8080/",
          "height": 302
        },
        "id": "C9EWjbFEhD7V",
        "outputId": "dcfa74a9-80fa-45a6-9687-a8914a2ebe08"
      },
      "outputs": [
        {
          "output_type": "display_data",
          "data": {
            "text/plain": [
              "<Figure size 432x288 with 1 Axes>"
            ],
            "image/png": "[encoded data removed]"
          },
          "metadata": {
            "needs_background": "light"
          }
        }
      ],
      "source": [
        "user_age_dist.plot(kind = 'bar', edgecolor = 'black')\n",
        "plt.title('Distribution of Age Category');"
      ]
    },
    {
      "cell_type": "code",
      "execution_count": null,
      "metadata": {
        "colab": {
          "base_uri": "https://localhost:8080/",
          "height": 262
        },
        "id": "zw1EAGj6AlXG",
        "outputId": "3d45fa52-d948-402e-9cdf-158f912f50a1"
      },
      "outputs": [
        {
          "output_type": "display_data",
          "data": {
            "text/plain": [
              "<Figure size 432x288 with 1 Axes>"
            ],
            "image/png": "[encoded data removed]"
          },
          "metadata": {
            "needs_background": "light"
          }
        }
      ],
      "source": [
        "# Check against encoded values.\n",
        "\n",
        "users_data_encoded.age_group_encoded. \\\n",
        "value_counts().plot(kind = 'bar');"
      ]
    },
    {
      "cell_type": "markdown",
      "metadata": {
        "id": "aeFo8e-KG5b_"
      },
      "source": [
        "# Drop the `age` and `age_group` variables"
      ]
    },
    {
      "cell_type": "code",
      "execution_count": null,
      "metadata": {
        "colab": {
          "base_uri": "https://localhost:8080/"
        },
        "id": "H6Qql-UCngUl",
        "outputId": "66263c96-e8e5-48e5-81cc-1aaa25391706"
      },
      "outputs": [
        {
          "output_type": "execute_result",
          "data": {
            "text/plain": [
              "['user_id',\n",
              " 'number_transactions',\n",
              " 'total_amount_usd',\n",
              " 'job_management',\n",
              " 'job_technician',\n",
              " 'job_entrepreneur',\n",
              " 'job_blue-collar',\n",
              " 'job_Unknown',\n",
              " 'job_retired',\n",
              " 'job_admin.',\n",
              " 'job_services',\n",
              " 'job_self-employed',\n",
              " 'job_unemployed',\n",
              " 'job_housemaid',\n",
              " 'job_student',\n",
              " 'education_tertiary',\n",
              " 'education_secondary',\n",
              " 'education_Unknown',\n",
              " 'education_primary',\n",
              " 'default',\n",
              " 'housing',\n",
              " 'loan',\n",
              " 'contact_Unknown',\n",
              " 'contact_cellular',\n",
              " 'contact_telephone',\n",
              " 'duration',\n",
              " 'campaign',\n",
              " 'pdays',\n",
              " 'previous',\n",
              " 'term_deposit',\n",
              " 'date_joined',\n",
              " 'device_mobile',\n",
              " 'device_desktop',\n",
              " 'device_tablet',\n",
              " 'device_Unknown',\n",
              " 'married',\n",
              " 'single',\n",
              " 'age_group_encoded']"
            ]
          },
          "metadata": {},
          "execution_count": 102
        }
      ],
      "source": [
        "users_data_encoded.drop(['age', 'age_group'],\n",
        "                        axis = 1, inplace = True)\n",
        "\n",
        "list(users_data_encoded)"
      ]
    },
    {
      "cell_type": "markdown",
      "metadata": {
        "id": "PVKafgK9Dthz"
      },
      "source": [
        "# Create a `month_joined` variable from `date_joined`"
      ]
    },
    {
      "cell_type": "code",
      "execution_count": null,
      "metadata": {
        "id": "HdLp8sWvim9x"
      },
      "outputs": [],
      "source": [
        "users_data_encoded['month_joined'] = \\\n",
        "users_data_encoded.date_joined.dt.month"
      ]
    },
    {
      "cell_type": "code",
      "execution_count": null,
      "metadata": {
        "colab": {
          "base_uri": "https://localhost:8080/",
          "height": 281
        },
        "id": "gRQNeBX5jhLb",
        "outputId": "f3f65f30-40ac-42f8-ee43-d54d4f8f02f5"
      },
      "outputs": [
        {
          "output_type": "display_data",
          "data": {
            "text/plain": [
              "<Figure size 432x288 with 1 Axes>"
            ],
            "image/png": "[encoded data removed]"
          },
          "metadata": {
            "needs_background": "light"
          }
        }
      ],
      "source": [
        "# View the distribution of data.\n",
        "\n",
        "users_data_encoded['month_joined'].hist()\n",
        "plt.title('Distribution of Months the Users Joined');"
      ]
    },
    {
      "cell_type": "code",
      "execution_count": null,
      "metadata": {
        "colab": {
          "base_uri": "https://localhost:8080/"
        },
        "id": "lzwzjT_skPjp",
        "outputId": "560a3ceb-9e8b-4554-99f0-4ac92fd20d4f"
      },
      "outputs": [
        {
          "output_type": "execute_result",
          "data": {
            "text/plain": [
              "['user_id',\n",
              " 'number_transactions',\n",
              " 'total_amount_usd',\n",
              " 'job_management',\n",
              " 'job_technician',\n",
              " 'job_entrepreneur',\n",
              " 'job_blue-collar',\n",
              " 'job_Unknown',\n",
              " 'job_retired',\n",
              " 'job_admin.',\n",
              " 'job_services',\n",
              " 'job_self-employed',\n",
              " 'job_unemployed',\n",
              " 'job_housemaid',\n",
              " 'job_student',\n",
              " 'education_tertiary',\n",
              " 'education_secondary',\n",
              " 'education_Unknown',\n",
              " 'education_primary',\n",
              " 'default',\n",
              " 'housing',\n",
              " 'loan',\n",
              " 'contact_Unknown',\n",
              " 'contact_cellular',\n",
              " 'contact_telephone',\n",
              " 'duration',\n",
              " 'campaign',\n",
              " 'pdays',\n",
              " 'previous',\n",
              " 'term_deposit',\n",
              " 'device_mobile',\n",
              " 'device_desktop',\n",
              " 'device_tablet',\n",
              " 'device_Unknown',\n",
              " 'married',\n",
              " 'single',\n",
              " 'age_group_encoded',\n",
              " 'month_joined']"
            ]
          },
          "metadata": {},
          "execution_count": 105
        }
      ],
      "source": [
        "users_data_encoded.drop(['date_joined'],\n",
        "                        axis = 1, inplace = True)\n",
        "\n",
        "list(users_data_encoded)"
      ]
    },
    {
      "cell_type": "markdown",
      "metadata": {
        "id": "ROkl2rP2Usyt"
      },
      "source": [
        "# Remove features with low variance"
      ]
    },
    {
      "cell_type": "code",
      "execution_count": null,
      "metadata": {
        "colab": {
          "base_uri": "https://localhost:8080/"
        },
        "id": "-44R0c4WdBGS",
        "outputId": "646c6f7f-1847-4647-b75b-84157623b8e9"
      },
      "outputs": [
        {
          "output_type": "execute_result",
          "data": {
            "text/plain": [
              "number_transactions       3.749994\n",
              "total_amount_usd       2704.291321\n",
              "job_management            0.406767\n",
              "job_technician            0.373908\n",
              "job_entrepreneur          0.178296\n",
              "job_blue-collar           0.411004\n",
              "job_Unknown               0.079587\n",
              "job_retired               0.218087\n",
              "job_admin.                0.318287\n",
              "job_services              0.288889\n",
              "job_self-employed         0.183543\n",
              "job_unemployed            0.167236\n",
              "job_housemaid             0.163318\n",
              "job_student               0.142513\n",
              "education_tertiary        0.455691\n",
              "education_secondary       0.499832\n",
              "education_Unknown         0.198480\n",
              "education_primary         0.358591\n",
              "default                   0.133095\n",
              "housing                   0.496878\n",
              "loan                      0.366802\n",
              "contact_Unknown           0.452851\n",
              "contact_cellular          0.477695\n",
              "contact_telephone         0.245250\n",
              "duration                257.281109\n",
              "campaign                  3.097836\n",
              "pdays                   100.134967\n",
              "previous                  2.303009\n",
              "term_deposit              0.321399\n",
              "device_mobile             0.488133\n",
              "device_desktop            0.442900\n",
              "device_tablet             0.326884\n",
              "device_Unknown            0.045567\n",
              "married                   0.489504\n",
              "single                    0.450412\n",
              "age_group_encoded         1.106811\n",
              "month_joined              3.428374\n",
              "dtype: float64"
            ]
          },
          "metadata": {},
          "execution_count": 106
        }
      ],
      "source": [
        "users_data_encoded.std()"
      ]
    },
    {
      "cell_type": "code",
      "execution_count": null,
      "metadata": {
        "colab": {
          "base_uri": "https://localhost:8080/"
        },
        "id": "KFB2W8g1h2xg",
        "outputId": "b70af4e9-d60a-4a05-f8a4-2fd9d3c9eacd"
      },
      "outputs": [
        {
          "output_type": "stream",
          "name": "stdout",
          "text": [
            "Features with low standard deviation: ['job_Unknown', 'device_Unknown']\n"
          ]
        }
      ],
      "source": [
        "# Define standard deviation threshold.\n",
        "\n",
        "threshold = 0.1\n",
        "\n",
        "# Identify features below threshold.\n",
        "\n",
        "cols_to_drop = \\\n",
        "list(users_data_encoded.std()[users_data_encoded.std() \\\n",
        "                              < threshold].index.values)\n",
        "\n",
        "print('Features with low standard deviation:',\n",
        "      cols_to_drop)"
      ]
    },
    {
      "cell_type": "code",
      "execution_count": null,
      "metadata": {
        "colab": {
          "base_uri": "https://localhost:8080/"
        },
        "id": "oG3uOURxgy_L",
        "outputId": "27e49e1a-aeba-4eb8-8954-6f939cdc28cc"
      },
      "outputs": [
        {
          "output_type": "execute_result",
          "data": {
            "text/plain": [
              "['user_id',\n",
              " 'number_transactions',\n",
              " 'total_amount_usd',\n",
              " 'job_management',\n",
              " 'job_technician',\n",
              " 'job_entrepreneur',\n",
              " 'job_blue-collar',\n",
              " 'job_retired',\n",
              " 'job_admin.',\n",
              " 'job_services',\n",
              " 'job_self-employed',\n",
              " 'job_unemployed',\n",
              " 'job_housemaid',\n",
              " 'job_student',\n",
              " 'education_tertiary',\n",
              " 'education_secondary',\n",
              " 'education_Unknown',\n",
              " 'education_primary',\n",
              " 'default',\n",
              " 'housing',\n",
              " 'loan',\n",
              " 'contact_Unknown',\n",
              " 'contact_cellular',\n",
              " 'contact_telephone',\n",
              " 'duration',\n",
              " 'campaign',\n",
              " 'pdays',\n",
              " 'previous',\n",
              " 'term_deposit',\n",
              " 'device_mobile',\n",
              " 'device_desktop',\n",
              " 'device_tablet',\n",
              " 'married',\n",
              " 'single',\n",
              " 'age_group_encoded',\n",
              " 'month_joined']"
            ]
          },
          "metadata": {},
          "execution_count": 108
        }
      ],
      "source": [
        "# Drop features below threshold.\n",
        "\n",
        "users_data_interim = users_data_encoded.drop(cols_to_drop,\n",
        "                                             axis = 1)\n",
        "\n",
        "list(users_data_interim)"
      ]
    },
    {
      "cell_type": "markdown",
      "metadata": {
        "id": "2SJ8f324wW8q"
      },
      "source": [
        "# Drop highly correlated features"
      ]
    },
    {
      "cell_type": "code",
      "execution_count": null,
      "metadata": {
        "colab": {
          "base_uri": "https://localhost:8080/"
        },
        "id": "cKvyyVBVy3le",
        "outputId": "dfb6c25a-5f2b-4b71-9373-040312efa554"
      },
      "outputs": [
        {
          "output_type": "execute_result",
          "data": {
            "text/plain": [
              "[('contact_Unknown', 'contact_cellular', 0.86),\n",
              " ('device_mobile', 'device_desktop', 0.75),\n",
              " ('married', 'single', 0.77)]"
            ]
          },
          "metadata": {},
          "execution_count": 109
        }
      ],
      "source": [
        "# Define correlation threshold.\n",
        "\n",
        "threshold = 0.75\n",
        "\n",
        "corr_matrix = users_data_encoded.corr().abs()\n",
        "high_corr_var = np.where(corr_matrix >= threshold)\n",
        "high_corr_var = [(corr_matrix.index[x],\n",
        "                  corr_matrix.columns[y],\n",
        "                  round(corr_matrix.iloc[x, y], 2))\n",
        "                  for x, y in zip(*high_corr_var)\n",
        "                  if x != y and x < y]\n",
        "\n",
        "\n",
        "high_corr_var"
      ]
    },
    {
      "cell_type": "code",
      "execution_count": null,
      "metadata": {
        "colab": {
          "base_uri": "https://localhost:8080/",
          "height": 142
        },
        "id": "3ea_naxK2qs0",
        "outputId": "db714c4f-7d57-401f-b384-5d27504de198"
      },
      "outputs": [
        {
          "output_type": "execute_result",
          "data": {
            "text/plain": [
              "      drop_feature      corr_feature  corr_values\n",
              "0  contact_Unknown  contact_cellular         0.86\n",
              "1          married            single         0.77\n",
              "2    device_mobile    device_desktop         0.75"
            ],
            "text/html": [
              "\n",
              "  <div id=\"df-8a4ce685-6c7e-428e-80b3-fd4f872b1b90\">\n",
              "    <div class=\"colab-df-container\">\n",
              "      <div>\n",
              "<style scoped>\n",
              "    .dataframe tbody tr th:only-of-type {\n",
              "        vertical-align: middle;\n",
              "    }\n",
              "\n",
              "    .dataframe tbody tr th {\n",
              "        vertical-align: top;\n",
              "    }\n",
              "\n",
              "    .dataframe thead th {\n",
              "        text-align: right;\n",
              "    }\n",
              "</style>\n",
              "<table border=\"1\" class=\"dataframe\">\n",
              "  <thead>\n",
              "    <tr style=\"text-align: right;\">\n",
              "      <th></th>\n",
              "      <th>drop_feature</th>\n",
              "      <th>corr_feature</th>\n",
              "      <th>corr_values</th>\n",
              "    </tr>\n",
              "  </thead>\n",
              "  <tbody>\n",
              "    <tr>\n",
              "      <th>0</th>\n",
              "      <td>contact_Unknown</td>\n",
              "      <td>contact_cellular</td>\n",
              "      <td>0.86</td>\n",
              "    </tr>\n",
              "    <tr>\n",
              "      <th>1</th>\n",
              "      <td>married</td>\n",
              "      <td>single</td>\n",
              "      <td>0.77</td>\n",
              "    </tr>\n",
              "    <tr>\n",
              "      <th>2</th>\n",
              "      <td>device_mobile</td>\n",
              "      <td>device_desktop</td>\n",
              "      <td>0.75</td>\n",
              "    </tr>\n",
              "  </tbody>\n",
              "</table>\n",
              "</div>\n",
              "      <button class=\"colab-df-convert\" onclick=\"convertToInteractive('df-8a4ce685-6c7e-428e-80b3-fd4f872b1b90')\"\n",
              "              title=\"Convert this dataframe to an interactive table.\"\n",
              "              style=\"display:none;\">\n",
              "        \n",
              "  <svg xmlns=\"http://www.w3.org/2000/svg\" height=\"24px\"viewBox=\"0 0 24 24\"\n",
              "       width=\"24px\">\n",
              "    <path d=\"M0 0h24v24H0V0z\" fill=\"none\"/>\n",
              "    <path d=\"M18.56 5.44l.94 2.06.94-2.06 2.06-.94-2.06-.94-.94-2.06-.94 2.06-2.06.94zm-11 1L8.5 8.5l.94-2.06 2.06-.94-2.06-.94L8.5 2.5l-.94 2.06-2.06.94zm10 10l.94 2.06.94-2.06 2.06-.94-2.06-.94-.94-2.06-.94 2.06-2.06.94z\"/><path d=\"M17.41 7.96l-1.37-1.37c-.4-.4-.92-.59-1.43-.59-.52 0-1.04.2-1.43.59L10.3 9.45l-7.72 7.72c-.78.78-.78 2.05 0 2.83L4 21.41c.39.39.9.59 1.41.59.51 0 1.02-.2 1.41-.59l7.78-7.78 2.81-2.81c.8-.78.8-2.07 0-2.86zM5.41 20L4 18.59l7.72-7.72 1.47 1.35L5.41 20z\"/>\n",
              "  </svg>\n",
              "      </button>\n",
              "      \n",
              "  <style>\n",
              "    .colab-df-container {\n",
              "      display:flex;\n",
              "      flex-wrap:wrap;\n",
              "      gap: 12px;\n",
              "    }\n",
              "\n",
              "    .colab-df-convert {\n",
              "      background-color: #E8F0FE;\n",
              "      border: none;\n",
              "      border-radius: 50%;\n",
              "      cursor: pointer;\n",
              "      display: none;\n",
              "      fill: #1967D2;\n",
              "      height: 32px;\n",
              "      padding: 0 0 0 0;\n",
              "      width: 32px;\n",
              "    }\n",
              "\n",
              "    .colab-df-convert:hover {\n",
              "      background-color: #E2EBFA;\n",
              "      box-shadow: 0px 1px 2px rgba(60, 64, 67, 0.3), 0px 1px 3px 1px rgba(60, 64, 67, 0.15);\n",
              "      fill: #174EA6;\n",
              "    }\n",
              "\n",
              "    [theme=dark] .colab-df-convert {\n",
              "      background-color: #3B4455;\n",
              "      fill: #D2E3FC;\n",
              "    }\n",
              "\n",
              "    [theme=dark] .colab-df-convert:hover {\n",
              "      background-color: #434B5C;\n",
              "      box-shadow: 0px 1px 3px 1px rgba(0, 0, 0, 0.15);\n",
              "      filter: drop-shadow(0px 1px 2px rgba(0, 0, 0, 0.3));\n",
              "      fill: #FFFFFF;\n",
              "    }\n",
              "  </style>\n",
              "\n",
              "      <script>\n",
              "        const buttonEl =\n",
              "          document.querySelector('#df-8a4ce685-6c7e-428e-80b3-fd4f872b1b90 button.colab-df-convert');\n",
              "        buttonEl.style.display =\n",
              "          google.colab.kernel.accessAllowed ? 'block' : 'none';\n",
              "\n",
              "        async function convertToInteractive(key) {\n",
              "          const element = document.querySelector('#df-8a4ce685-6c7e-428e-80b3-fd4f872b1b90');\n",
              "          const dataTable =\n",
              "            await google.colab.kernel.invokeFunction('convertToInteractive',\n",
              "                                                     [key], {});\n",
              "          if (!dataTable) return;\n",
              "\n",
              "          const docLinkHtml = 'Like what you see? Visit the ' +\n",
              "            '<a target=\"_blank\" href=https://colab.research.google.com/notebooks/data_table.ipynb>data table notebook</a>'\n",
              "            + ' to learn more about interactive tables.';\n",
              "          element.innerHTML = '';\n",
              "          dataTable['output_type'] = 'display_data';\n",
              "          await google.colab.output.renderOutput(dataTable, element);\n",
              "          const docLink = document.createElement('div');\n",
              "          docLink.innerHTML = docLinkHtml;\n",
              "          element.appendChild(docLink);\n",
              "        }\n",
              "      </script>\n",
              "    </div>\n",
              "  </div>\n",
              "  "
            ]
          },
          "metadata": {},
          "execution_count": 110
        }
      ],
      "source": [
        "# Tidy up the output.\n",
        "\n",
        "record_collinear = pd.DataFrame(high_corr_var). \\\n",
        "rename(columns = {0: 'drop_feature',\n",
        "                  1: 'corr_feature',\n",
        "                  2: 'corr_values'})\n",
        "\n",
        "record_collinear = record_collinear. \\\n",
        "sort_values(by = 'corr_values', ascending = False)\n",
        "\n",
        "record_collinear = record_collinear.reset_index(drop = True)\n",
        "\n",
        "record_collinear "
      ]
    },
    {
      "cell_type": "code",
      "execution_count": null,
      "metadata": {
        "colab": {
          "base_uri": "https://localhost:8080/"
        },
        "id": "lHsbgE-n31KC",
        "outputId": "7397fcc9-403d-428f-ed4f-723a62c489d6"
      },
      "outputs": [
        {
          "output_type": "stream",
          "name": "stdout",
          "text": [
            "['contact_Unknown', 'married', 'device_mobile']\n"
          ]
        }
      ],
      "source": [
        "cols_to_drop = list(record_collinear['drop_feature'])\n",
        "print(cols_to_drop)"
      ]
    },
    {
      "cell_type": "code",
      "execution_count": null,
      "metadata": {
        "colab": {
          "base_uri": "https://localhost:8080/"
        },
        "id": "8vRaDJpF4Gkv",
        "outputId": "b0250627-8db4-4dde-f85a-ecb768d5565c"
      },
      "outputs": [
        {
          "output_type": "execute_result",
          "data": {
            "text/plain": [
              "['user_id',\n",
              " 'number_transactions',\n",
              " 'total_amount_usd',\n",
              " 'job_management',\n",
              " 'job_technician',\n",
              " 'job_entrepreneur',\n",
              " 'job_blue-collar',\n",
              " 'job_retired',\n",
              " 'job_admin.',\n",
              " 'job_services',\n",
              " 'job_self-employed',\n",
              " 'job_unemployed',\n",
              " 'job_housemaid',\n",
              " 'job_student',\n",
              " 'education_tertiary',\n",
              " 'education_secondary',\n",
              " 'education_Unknown',\n",
              " 'education_primary',\n",
              " 'default',\n",
              " 'housing',\n",
              " 'loan',\n",
              " 'contact_cellular',\n",
              " 'contact_telephone',\n",
              " 'duration',\n",
              " 'campaign',\n",
              " 'pdays',\n",
              " 'previous',\n",
              " 'term_deposit',\n",
              " 'device_desktop',\n",
              " 'device_tablet',\n",
              " 'single',\n",
              " 'age_group_encoded',\n",
              " 'month_joined']"
            ]
          },
          "metadata": {},
          "execution_count": 112
        }
      ],
      "source": [
        "users_data_final = users_data_interim.drop(cols_to_drop,\n",
        "                                           axis = 1)\n",
        "\n",
        "list(users_data_final)"
      ]
    },
    {
      "cell_type": "markdown",
      "metadata": {
        "id": "cAfOKld0G5cB"
      },
      "source": [
        "# Filter by demographics data"
      ]
    },
    {
      "cell_type": "code",
      "execution_count": null,
      "metadata": {
        "colab": {
          "base_uri": "https://localhost:8080/",
          "height": 223
        },
        "id": "WKYS7UNdG5cB",
        "outputId": "31766101-71e8-4e87-a25d-20528240e4cb"
      },
      "outputs": [
        {
          "output_type": "execute_result",
          "data": {
            "text/plain": [
              "   job_management  job_technician  job_entrepreneur  job_blue-collar  \\\n",
              "0               1               0                 0                0   \n",
              "1               0               1                 0                0   \n",
              "2               0               0                 1                0   \n",
              "\n",
              "   job_retired  job_admin.  job_services  job_self-employed  job_unemployed  \\\n",
              "0            0           0             0                  0               0   \n",
              "1            0           0             0                  0               0   \n",
              "2            0           0             0                  0               0   \n",
              "\n",
              "   job_housemaid  job_student  education_tertiary  education_secondary  \\\n",
              "0              0            0                   1                    0   \n",
              "1              0            0                   0                    1   \n",
              "2              0            0                   0                    1   \n",
              "\n",
              "   education_Unknown  education_primary  single  age_group_encoded  \n",
              "0                  0                  0       0                  4  \n",
              "1                  0                  0       1                  2  \n",
              "2                  0                  0       0                  1  "
            ],
            "text/html": [
              "\n",
              "  <div id=\"df-760c5c23-e5ef-4066-adb9-1c400f852cb0\">\n",
              "    <div class=\"colab-df-container\">\n",
              "      <div>\n",
              "<style scoped>\n",
              "    .dataframe tbody tr th:only-of-type {\n",
              "        vertical-align: middle;\n",
              "    }\n",
              "\n",
              "    .dataframe tbody tr th {\n",
              "        vertical-align: top;\n",
              "    }\n",
              "\n",
              "    .dataframe thead th {\n",
              "        text-align: right;\n",
              "    }\n",
              "</style>\n",
              "<table border=\"1\" class=\"dataframe\">\n",
              "  <thead>\n",
              "    <tr style=\"text-align: right;\">\n",
              "      <th></th>\n",
              "      <th>job_management</th>\n",
              "      <th>job_technician</th>\n",
              "      <th>job_entrepreneur</th>\n",
              "      <th>job_blue-collar</th>\n",
              "      <th>job_retired</th>\n",
              "      <th>job_admin.</th>\n",
              "      <th>job_services</th>\n",
              "      <th>job_self-employed</th>\n",
              "      <th>job_unemployed</th>\n",
              "      <th>job_housemaid</th>\n",
              "      <th>job_student</th>\n",
              "      <th>education_tertiary</th>\n",
              "      <th>education_secondary</th>\n",
              "      <th>education_Unknown</th>\n",
              "      <th>education_primary</th>\n",
              "      <th>single</th>\n",
              "      <th>age_group_encoded</th>\n",
              "    </tr>\n",
              "  </thead>\n",
              "  <tbody>\n",
              "    <tr>\n",
              "      <th>0</th>\n",
              "      <td>1</td>\n",
              "      <td>0</td>\n",
              "      <td>0</td>\n",
              "      <td>0</td>\n",
              "      <td>0</td>\n",
              "      <td>0</td>\n",
              "      <td>0</td>\n",
              "      <td>0</td>\n",
              "      <td>0</td>\n",
              "      <td>0</td>\n",
              "      <td>0</td>\n",
              "      <td>1</td>\n",
              "      <td>0</td>\n",
              "      <td>0</td>\n",
              "      <td>0</td>\n",
              "      <td>0</td>\n",
              "      <td>4</td>\n",
              "    </tr>\n",
              "    <tr>\n",
              "      <th>1</th>\n",
              "      <td>0</td>\n",
              "      <td>1</td>\n",
              "      <td>0</td>\n",
              "      <td>0</td>\n",
              "      <td>0</td>\n",
              "      <td>0</td>\n",
              "      <td>0</td>\n",
              "      <td>0</td>\n",
              "      <td>0</td>\n",
              "      <td>0</td>\n",
              "      <td>0</td>\n",
              "      <td>0</td>\n",
              "      <td>1</td>\n",
              "      <td>0</td>\n",
              "      <td>0</td>\n",
              "      <td>1</td>\n",
              "      <td>2</td>\n",
              "    </tr>\n",
              "    <tr>\n",
              "      <th>2</th>\n",
              "      <td>0</td>\n",
              "      <td>0</td>\n",
              "      <td>1</td>\n",
              "      <td>0</td>\n",
              "      <td>0</td>\n",
              "      <td>0</td>\n",
              "      <td>0</td>\n",
              "      <td>0</td>\n",
              "      <td>0</td>\n",
              "      <td>0</td>\n",
              "      <td>0</td>\n",
              "      <td>0</td>\n",
              "      <td>1</td>\n",
              "      <td>0</td>\n",
              "      <td>0</td>\n",
              "      <td>0</td>\n",
              "      <td>1</td>\n",
              "    </tr>\n",
              "  </tbody>\n",
              "</table>\n",
              "</div>\n",
              "      <button class=\"colab-df-convert\" onclick=\"convertToInteractive('df-760c5c23-e5ef-4066-adb9-1c400f852cb0')\"\n",
              "              title=\"Convert this dataframe to an interactive table.\"\n",
              "              style=\"display:none;\">\n",
              "        \n",
              "  <svg xmlns=\"http://www.w3.org/2000/svg\" height=\"24px\"viewBox=\"0 0 24 24\"\n",
              "       width=\"24px\">\n",
              "    <path d=\"M0 0h24v24H0V0z\" fill=\"none\"/>\n",
              "    <path d=\"M18.56 5.44l.94 2.06.94-2.06 2.06-.94-2.06-.94-.94-2.06-.94 2.06-2.06.94zm-11 1L8.5 8.5l.94-2.06 2.06-.94-2.06-.94L8.5 2.5l-.94 2.06-2.06.94zm10 10l.94 2.06.94-2.06 2.06-.94-2.06-.94-.94-2.06-.94 2.06-2.06.94z\"/><path d=\"M17.41 7.96l-1.37-1.37c-.4-.4-.92-.59-1.43-.59-.52 0-1.04.2-1.43.59L10.3 9.45l-7.72 7.72c-.78.78-.78 2.05 0 2.83L4 21.41c.39.39.9.59 1.41.59.51 0 1.02-.2 1.41-.59l7.78-7.78 2.81-2.81c.8-.78.8-2.07 0-2.86zM5.41 20L4 18.59l7.72-7.72 1.47 1.35L5.41 20z\"/>\n",
              "  </svg>\n",
              "      </button>\n",
              "      \n",
              "  <style>\n",
              "    .colab-df-container {\n",
              "      display:flex;\n",
              "      flex-wrap:wrap;\n",
              "      gap: 12px;\n",
              "    }\n",
              "\n",
              "    .colab-df-convert {\n",
              "      background-color: #E8F0FE;\n",
              "      border: none;\n",
              "      border-radius: 50%;\n",
              "      cursor: pointer;\n",
              "      display: none;\n",
              "      fill: #1967D2;\n",
              "      height: 32px;\n",
              "      padding: 0 0 0 0;\n",
              "      width: 32px;\n",
              "    }\n",
              "\n",
              "    .colab-df-convert:hover {\n",
              "      background-color: #E2EBFA;\n",
              "      box-shadow: 0px 1px 2px rgba(60, 64, 67, 0.3), 0px 1px 3px 1px rgba(60, 64, 67, 0.15);\n",
              "      fill: #174EA6;\n",
              "    }\n",
              "\n",
              "    [theme=dark] .colab-df-convert {\n",
              "      background-color: #3B4455;\n",
              "      fill: #D2E3FC;\n",
              "    }\n",
              "\n",
              "    [theme=dark] .colab-df-convert:hover {\n",
              "      background-color: #434B5C;\n",
              "      box-shadow: 0px 1px 3px 1px rgba(0, 0, 0, 0.15);\n",
              "      filter: drop-shadow(0px 1px 2px rgba(0, 0, 0, 0.3));\n",
              "      fill: #FFFFFF;\n",
              "    }\n",
              "  </style>\n",
              "\n",
              "      <script>\n",
              "        const buttonEl =\n",
              "          document.querySelector('#df-760c5c23-e5ef-4066-adb9-1c400f852cb0 button.colab-df-convert');\n",
              "        buttonEl.style.display =\n",
              "          google.colab.kernel.accessAllowed ? 'block' : 'none';\n",
              "\n",
              "        async function convertToInteractive(key) {\n",
              "          const element = document.querySelector('#df-760c5c23-e5ef-4066-adb9-1c400f852cb0');\n",
              "          const dataTable =\n",
              "            await google.colab.kernel.invokeFunction('convertToInteractive',\n",
              "                                                     [key], {});\n",
              "          if (!dataTable) return;\n",
              "\n",
              "          const docLinkHtml = 'Like what you see? Visit the ' +\n",
              "            '<a target=\"_blank\" href=https://colab.research.google.com/notebooks/data_table.ipynb>data table notebook</a>'\n",
              "            + ' to learn more about interactive tables.';\n",
              "          element.innerHTML = '';\n",
              "          dataTable['output_type'] = 'display_data';\n",
              "          await google.colab.output.renderOutput(dataTable, element);\n",
              "          const docLink = document.createElement('div');\n",
              "          docLink.innerHTML = docLinkHtml;\n",
              "          element.appendChild(docLink);\n",
              "        }\n",
              "      </script>\n",
              "    </div>\n",
              "  </div>\n",
              "  "
            ]
          },
          "metadata": {},
          "execution_count": 113
        }
      ],
      "source": [
        "users_data_demographics = \\\n",
        "users_data_final.filter(regex = 'education|job|age|single')\n",
        "\n",
        "users_data_demographics.head(n = 3)"
      ]
    },
    {
      "cell_type": "markdown",
      "metadata": {
        "id": "oXWCcagaG5cB"
      },
      "source": [
        "# Standardize the demographics data"
      ]
    },
    {
      "cell_type": "code",
      "execution_count": null,
      "metadata": {
        "colab": {
          "base_uri": "https://localhost:8080/",
          "height": 378
        },
        "id": "SSvyjXCbG5cB",
        "outputId": "8f346d64-f5ae-40dc-b3b2-23b64bcf9923"
      },
      "outputs": [
        {
          "output_type": "execute_result",
          "data": {
            "text/plain": [
              "       job_management  job_technician  job_entrepreneur  job_blue-collar  \\\n",
              "count    45179.000000    45179.000000      45179.000000     45179.000000   \n",
              "mean         0.209234        0.168043          0.032869         0.215255   \n",
              "std          0.406767        0.373908          0.178296         0.411004   \n",
              "min          0.000000        0.000000          0.000000         0.000000   \n",
              "25%          0.000000        0.000000          0.000000         0.000000   \n",
              "50%          0.000000        0.000000          0.000000         0.000000   \n",
              "75%          0.000000        0.000000          0.000000         0.000000   \n",
              "max          1.000000        1.000000          1.000000         1.000000   \n",
              "\n",
              "        job_retired    job_admin.  job_services  job_self-employed  \\\n",
              "count  45179.000000  45179.000000  45179.000000       45179.000000   \n",
              "mean       0.050068      0.114389      0.091901           0.034906   \n",
              "std        0.218087      0.318287      0.288889           0.183543   \n",
              "min        0.000000      0.000000      0.000000           0.000000   \n",
              "25%        0.000000      0.000000      0.000000           0.000000   \n",
              "50%        0.000000      0.000000      0.000000           0.000000   \n",
              "75%        0.000000      0.000000      0.000000           0.000000   \n",
              "max        1.000000      1.000000      1.000000           1.000000   \n",
              "\n",
              "       job_unemployed  job_housemaid   job_student  education_tertiary  \\\n",
              "count    45179.000000   45179.000000  45179.000000        45179.000000   \n",
              "mean         0.028797       0.027424      0.020740            0.294207   \n",
              "std          0.167236       0.163318      0.142513            0.455691   \n",
              "min          0.000000       0.000000      0.000000            0.000000   \n",
              "25%          0.000000       0.000000      0.000000            0.000000   \n",
              "50%          0.000000       0.000000      0.000000            0.000000   \n",
              "75%          0.000000       0.000000      0.000000            1.000000   \n",
              "max          1.000000       1.000000      1.000000            1.000000   \n",
              "\n",
              "       education_secondary  education_Unknown  education_primary  \\\n",
              "count         45179.000000       45179.000000       45179.000000   \n",
              "mean              0.513159           0.041081           0.151553   \n",
              "std               0.499832           0.198480           0.358591   \n",
              "min               0.000000           0.000000           0.000000   \n",
              "25%               0.000000           0.000000           0.000000   \n",
              "50%               1.000000           0.000000           0.000000   \n",
              "75%               1.000000           0.000000           0.000000   \n",
              "max               1.000000           1.000000           1.000000   \n",
              "\n",
              "             single  age_group_encoded  \n",
              "count  45179.000000       45179.000000  \n",
              "mean       0.282897           2.147170  \n",
              "std        0.450412           1.106811  \n",
              "min        0.000000           0.000000  \n",
              "25%        0.000000           1.000000  \n",
              "50%        0.000000           2.000000  \n",
              "75%        1.000000           3.000000  \n",
              "max        1.000000           6.000000  "
            ],
            "text/html": [
              "\n",
              "  <div id=\"df-ad0dae57-7a28-4ef5-acac-644133195e04\">\n",
              "    <div class=\"colab-df-container\">\n",
              "      <div>\n",
              "<style scoped>\n",
              "    .dataframe tbody tr th:only-of-type {\n",
              "        vertical-align: middle;\n",
              "    }\n",
              "\n",
              "    .dataframe tbody tr th {\n",
              "        vertical-align: top;\n",
              "    }\n",
              "\n",
              "    .dataframe thead th {\n",
              "        text-align: right;\n",
              "    }\n",
              "</style>\n",
              "<table border=\"1\" class=\"dataframe\">\n",
              "  <thead>\n",
              "    <tr style=\"text-align: right;\">\n",
              "      <th></th>\n",
              "      <th>job_management</th>\n",
              "      <th>job_technician</th>\n",
              "      <th>job_entrepreneur</th>\n",
              "      <th>job_blue-collar</th>\n",
              "      <th>job_retired</th>\n",
              "      <th>job_admin.</th>\n",
              "      <th>job_services</th>\n",
              "      <th>job_self-employed</th>\n",
              "      <th>job_unemployed</th>\n",
              "      <th>job_housemaid</th>\n",
              "      <th>job_student</th>\n",
              "      <th>education_tertiary</th>\n",
              "      <th>education_secondary</th>\n",
              "      <th>education_Unknown</th>\n",
              "      <th>education_primary</th>\n",
              "      <th>single</th>\n",
              "      <th>age_group_encoded</th>\n",
              "    </tr>\n",
              "  </thead>\n",
              "  <tbody>\n",
              "    <tr>\n",
              "      <th>count</th>\n",
              "      <td>45179.000000</td>\n",
              "      <td>45179.000000</td>\n",
              "      <td>45179.000000</td>\n",
              "      <td>45179.000000</td>\n",
              "      <td>45179.000000</td>\n",
              "      <td>45179.000000</td>\n",
              "      <td>45179.000000</td>\n",
              "      <td>45179.000000</td>\n",
              "      <td>45179.000000</td>\n",
              "      <td>45179.000000</td>\n",
              "      <td>45179.000000</td>\n",
              "      <td>45179.000000</td>\n",
              "      <td>45179.000000</td>\n",
              "      <td>45179.000000</td>\n",
              "      <td>45179.000000</td>\n",
              "      <td>45179.000000</td>\n",
              "      <td>45179.000000</td>\n",
              "    </tr>\n",
              "    <tr>\n",
              "      <th>mean</th>\n",
              "      <td>0.209234</td>\n",
              "      <td>0.168043</td>\n",
              "      <td>0.032869</td>\n",
              "      <td>0.215255</td>\n",
              "      <td>0.050068</td>\n",
              "      <td>0.114389</td>\n",
              "      <td>0.091901</td>\n",
              "      <td>0.034906</td>\n",
              "      <td>0.028797</td>\n",
              "      <td>0.027424</td>\n",
              "      <td>0.020740</td>\n",
              "      <td>0.294207</td>\n",
              "      <td>0.513159</td>\n",
              "      <td>0.041081</td>\n",
              "      <td>0.151553</td>\n",
              "      <td>0.282897</td>\n",
              "      <td>2.147170</td>\n",
              "    </tr>\n",
              "    <tr>\n",
              "      <th>std</th>\n",
              "      <td>0.406767</td>\n",
              "      <td>0.373908</td>\n",
              "      <td>0.178296</td>\n",
              "      <td>0.411004</td>\n",
              "      <td>0.218087</td>\n",
              "      <td>0.318287</td>\n",
              "      <td>0.288889</td>\n",
              "      <td>0.183543</td>\n",
              "      <td>0.167236</td>\n",
              "      <td>0.163318</td>\n",
              "      <td>0.142513</td>\n",
              "      <td>0.455691</td>\n",
              "      <td>0.499832</td>\n",
              "      <td>0.198480</td>\n",
              "      <td>0.358591</td>\n",
              "      <td>0.450412</td>\n",
              "      <td>1.106811</td>\n",
              "    </tr>\n",
              "    <tr>\n",
              "      <th>min</th>\n",
              "      <td>0.000000</td>\n",
              "      <td>0.000000</td>\n",
              "      <td>0.000000</td>\n",
              "      <td>0.000000</td>\n",
              "      <td>0.000000</td>\n",
              "      <td>0.000000</td>\n",
              "      <td>0.000000</td>\n",
              "      <td>0.000000</td>\n",
              "      <td>0.000000</td>\n",
              "      <td>0.000000</td>\n",
              "      <td>0.000000</td>\n",
              "      <td>0.000000</td>\n",
              "      <td>0.000000</td>\n",
              "      <td>0.000000</td>\n",
              "      <td>0.000000</td>\n",
              "      <td>0.000000</td>\n",
              "      <td>0.000000</td>\n",
              "    </tr>\n",
              "    <tr>\n",
              "      <th>25%</th>\n",
              "      <td>0.000000</td>\n",
              "      <td>0.000000</td>\n",
              "      <td>0.000000</td>\n",
              "      <td>0.000000</td>\n",
              "      <td>0.000000</td>\n",
              "      <td>0.000000</td>\n",
              "      <td>0.000000</td>\n",
              "      <td>0.000000</td>\n",
              "      <td>0.000000</td>\n",
              "      <td>0.000000</td>\n",
              "      <td>0.000000</td>\n",
              "      <td>0.000000</td>\n",
              "      <td>0.000000</td>\n",
              "      <td>0.000000</td>\n",
              "      <td>0.000000</td>\n",
              "      <td>0.000000</td>\n",
              "      <td>1.000000</td>\n",
              "    </tr>\n",
              "    <tr>\n",
              "      <th>50%</th>\n",
              "      <td>0.000000</td>\n",
              "      <td>0.000000</td>\n",
              "      <td>0.000000</td>\n",
              "      <td>0.000000</td>\n",
              "      <td>0.000000</td>\n",
              "      <td>0.000000</td>\n",
              "      <td>0.000000</td>\n",
              "      <td>0.000000</td>\n",
              "      <td>0.000000</td>\n",
              "      <td>0.000000</td>\n",
              "      <td>0.000000</td>\n",
              "      <td>0.000000</td>\n",
              "      <td>1.000000</td>\n",
              "      <td>0.000000</td>\n",
              "      <td>0.000000</td>\n",
              "      <td>0.000000</td>\n",
              "      <td>2.000000</td>\n",
              "    </tr>\n",
              "    <tr>\n",
              "      <th>75%</th>\n",
              "      <td>0.000000</td>\n",
              "      <td>0.000000</td>\n",
              "      <td>0.000000</td>\n",
              "      <td>0.000000</td>\n",
              "      <td>0.000000</td>\n",
              "      <td>0.000000</td>\n",
              "      <td>0.000000</td>\n",
              "      <td>0.000000</td>\n",
              "      <td>0.000000</td>\n",
              "      <td>0.000000</td>\n",
              "      <td>0.000000</td>\n",
              "      <td>1.000000</td>\n",
              "      <td>1.000000</td>\n",
              "      <td>0.000000</td>\n",
              "      <td>0.000000</td>\n",
              "      <td>1.000000</td>\n",
              "      <td>3.000000</td>\n",
              "    </tr>\n",
              "    <tr>\n",
              "      <th>max</th>\n",
              "      <td>1.000000</td>\n",
              "      <td>1.000000</td>\n",
              "      <td>1.000000</td>\n",
              "      <td>1.000000</td>\n",
              "      <td>1.000000</td>\n",
              "      <td>1.000000</td>\n",
              "      <td>1.000000</td>\n",
              "      <td>1.000000</td>\n",
              "      <td>1.000000</td>\n",
              "      <td>1.000000</td>\n",
              "      <td>1.000000</td>\n",
              "      <td>1.000000</td>\n",
              "      <td>1.000000</td>\n",
              "      <td>1.000000</td>\n",
              "      <td>1.000000</td>\n",
              "      <td>1.000000</td>\n",
              "      <td>6.000000</td>\n",
              "    </tr>\n",
              "  </tbody>\n",
              "</table>\n",
              "</div>\n",
              "      <button class=\"colab-df-convert\" onclick=\"convertToInteractive('df-ad0dae57-7a28-4ef5-acac-644133195e04')\"\n",
              "              title=\"Convert this dataframe to an interactive table.\"\n",
              "              style=\"display:none;\">\n",
              "        \n",
              "  <svg xmlns=\"http://www.w3.org/2000/svg\" height=\"24px\"viewBox=\"0 0 24 24\"\n",
              "       width=\"24px\">\n",
              "    <path d=\"M0 0h24v24H0V0z\" fill=\"none\"/>\n",
              "    <path d=\"M18.56 5.44l.94 2.06.94-2.06 2.06-.94-2.06-.94-.94-2.06-.94 2.06-2.06.94zm-11 1L8.5 8.5l.94-2.06 2.06-.94-2.06-.94L8.5 2.5l-.94 2.06-2.06.94zm10 10l.94 2.06.94-2.06 2.06-.94-2.06-.94-.94-2.06-.94 2.06-2.06.94z\"/><path d=\"M17.41 7.96l-1.37-1.37c-.4-.4-.92-.59-1.43-.59-.52 0-1.04.2-1.43.59L10.3 9.45l-7.72 7.72c-.78.78-.78 2.05 0 2.83L4 21.41c.39.39.9.59 1.41.59.51 0 1.02-.2 1.41-.59l7.78-7.78 2.81-2.81c.8-.78.8-2.07 0-2.86zM5.41 20L4 18.59l7.72-7.72 1.47 1.35L5.41 20z\"/>\n",
              "  </svg>\n",
              "      </button>\n",
              "      \n",
              "  <style>\n",
              "    .colab-df-container {\n",
              "      display:flex;\n",
              "      flex-wrap:wrap;\n",
              "      gap: 12px;\n",
              "    }\n",
              "\n",
              "    .colab-df-convert {\n",
              "      background-color: #E8F0FE;\n",
              "      border: none;\n",
              "      border-radius: 50%;\n",
              "      cursor: pointer;\n",
              "      display: none;\n",
              "      fill: #1967D2;\n",
              "      height: 32px;\n",
              "      padding: 0 0 0 0;\n",
              "      width: 32px;\n",
              "    }\n",
              "\n",
              "    .colab-df-convert:hover {\n",
              "      background-color: #E2EBFA;\n",
              "      box-shadow: 0px 1px 2px rgba(60, 64, 67, 0.3), 0px 1px 3px 1px rgba(60, 64, 67, 0.15);\n",
              "      fill: #174EA6;\n",
              "    }\n",
              "\n",
              "    [theme=dark] .colab-df-convert {\n",
              "      background-color: #3B4455;\n",
              "      fill: #D2E3FC;\n",
              "    }\n",
              "\n",
              "    [theme=dark] .colab-df-convert:hover {\n",
              "      background-color: #434B5C;\n",
              "      box-shadow: 0px 1px 3px 1px rgba(0, 0, 0, 0.15);\n",
              "      filter: drop-shadow(0px 1px 2px rgba(0, 0, 0, 0.3));\n",
              "      fill: #FFFFFF;\n",
              "    }\n",
              "  </style>\n",
              "\n",
              "      <script>\n",
              "        const buttonEl =\n",
              "          document.querySelector('#df-ad0dae57-7a28-4ef5-acac-644133195e04 button.colab-df-convert');\n",
              "        buttonEl.style.display =\n",
              "          google.colab.kernel.accessAllowed ? 'block' : 'none';\n",
              "\n",
              "        async function convertToInteractive(key) {\n",
              "          const element = document.querySelector('#df-ad0dae57-7a28-4ef5-acac-644133195e04');\n",
              "          const dataTable =\n",
              "            await google.colab.kernel.invokeFunction('convertToInteractive',\n",
              "                                                     [key], {});\n",
              "          if (!dataTable) return;\n",
              "\n",
              "          const docLinkHtml = 'Like what you see? Visit the ' +\n",
              "            '<a target=\"_blank\" href=https://colab.research.google.com/notebooks/data_table.ipynb>data table notebook</a>'\n",
              "            + ' to learn more about interactive tables.';\n",
              "          element.innerHTML = '';\n",
              "          dataTable['output_type'] = 'display_data';\n",
              "          await google.colab.output.renderOutput(dataTable, element);\n",
              "          const docLink = document.createElement('div');\n",
              "          docLink.innerHTML = docLinkHtml;\n",
              "          element.appendChild(docLink);\n",
              "        }\n",
              "      </script>\n",
              "    </div>\n",
              "  </div>\n",
              "  "
            ]
          },
          "metadata": {},
          "execution_count": 114
        }
      ],
      "source": [
        "users_data_demographics.describe()"
      ]
    },
    {
      "cell_type": "code",
      "execution_count": null,
      "metadata": {
        "colab": {
          "base_uri": "https://localhost:8080/"
        },
        "id": "q9C6EiY4G5cB",
        "outputId": "e15f19ef-6c63-411e-df92-9127b77f70cf"
      },
      "outputs": [
        {
          "output_type": "stream",
          "name": "stdout",
          "text": [
            "New standard deviation:  1.0\n",
            "New mean:                0\n"
          ]
        }
      ],
      "source": [
        "scaler = StandardScaler()\n",
        "        \n",
        "scaler.fit(users_data_demographics)\n",
        "users_data_scaled = scaler.transform(users_data_demographics)\n",
        "\n",
        "print('New standard deviation: ', users_data_scaled.std())\n",
        "print('New mean:               ', round(users_data_scaled.mean()))"
      ]
    },
    {
      "cell_type": "markdown",
      "metadata": {
        "id": "gyenhXsXG5cC"
      },
      "source": [
        "# Perform PCA to reduce the dimensionality of the demographics dataset"
      ]
    },
    {
      "cell_type": "code",
      "execution_count": null,
      "metadata": {
        "id": "pg6k2_22G5cC"
      },
      "outputs": [],
      "source": [
        "pca = PCA(n_components = 2, random_state = 1)\n",
        "\n",
        "pca.fit(users_data_scaled)\n",
        "\n",
        "reduced = pca.transform(users_data_scaled)"
      ]
    },
    {
      "cell_type": "code",
      "execution_count": null,
      "metadata": {
        "colab": {
          "base_uri": "https://localhost:8080/",
          "height": 419
        },
        "id": "0eCYONooG5cC",
        "outputId": "0baf9c0c-5565-4927-e0f3-004dac8f4874"
      },
      "outputs": [
        {
          "output_type": "execute_result",
          "data": {
            "text/plain": [
              "           PCA1      PCA2\n",
              "0      2.557545  1.079613\n",
              "1     -0.820505 -1.750581\n",
              "2     -0.576607 -0.551404\n",
              "3     -0.541647  1.593626\n",
              "4      0.385598 -0.614768\n",
              "...         ...       ...\n",
              "45174  1.160485  0.073978\n",
              "45175 -0.660738  4.371075\n",
              "45176 -1.327676  2.367745\n",
              "45177 -1.575612  1.040206\n",
              "45178 -0.632467 -0.134990\n",
              "\n",
              "[45179 rows x 2 columns]"
            ],
            "text/html": [
              "\n",
              "  <div id=\"df-6a42a917-01b6-40d0-b7a0-ecbefcc2a7c2\">\n",
              "    <div class=\"colab-df-container\">\n",
              "      <div>\n",
              "<style scoped>\n",
              "    .dataframe tbody tr th:only-of-type {\n",
              "        vertical-align: middle;\n",
              "    }\n",
              "\n",
              "    .dataframe tbody tr th {\n",
              "        vertical-align: top;\n",
              "    }\n",
              "\n",
              "    .dataframe thead th {\n",
              "        text-align: right;\n",
              "    }\n",
              "</style>\n",
              "<table border=\"1\" class=\"dataframe\">\n",
              "  <thead>\n",
              "    <tr style=\"text-align: right;\">\n",
              "      <th></th>\n",
              "      <th>PCA1</th>\n",
              "      <th>PCA2</th>\n",
              "    </tr>\n",
              "  </thead>\n",
              "  <tbody>\n",
              "    <tr>\n",
              "      <th>0</th>\n",
              "      <td>2.557545</td>\n",
              "      <td>1.079613</td>\n",
              "    </tr>\n",
              "    <tr>\n",
              "      <th>1</th>\n",
              "      <td>-0.820505</td>\n",
              "      <td>-1.750581</td>\n",
              "    </tr>\n",
              "    <tr>\n",
              "      <th>2</th>\n",
              "      <td>-0.576607</td>\n",
              "      <td>-0.551404</td>\n",
              "    </tr>\n",
              "    <tr>\n",
              "      <th>3</th>\n",
              "      <td>-0.541647</td>\n",
              "      <td>1.593626</td>\n",
              "    </tr>\n",
              "    <tr>\n",
              "      <th>4</th>\n",
              "      <td>0.385598</td>\n",
              "      <td>-0.614768</td>\n",
              "    </tr>\n",
              "    <tr>\n",
              "      <th>...</th>\n",
              "      <td>...</td>\n",
              "      <td>...</td>\n",
              "    </tr>\n",
              "    <tr>\n",
              "      <th>45174</th>\n",
              "      <td>1.160485</td>\n",
              "      <td>0.073978</td>\n",
              "    </tr>\n",
              "    <tr>\n",
              "      <th>45175</th>\n",
              "      <td>-0.660738</td>\n",
              "      <td>4.371075</td>\n",
              "    </tr>\n",
              "    <tr>\n",
              "      <th>45176</th>\n",
              "      <td>-1.327676</td>\n",
              "      <td>2.367745</td>\n",
              "    </tr>\n",
              "    <tr>\n",
              "      <th>45177</th>\n",
              "      <td>-1.575612</td>\n",
              "      <td>1.040206</td>\n",
              "    </tr>\n",
              "    <tr>\n",
              "      <th>45178</th>\n",
              "      <td>-0.632467</td>\n",
              "      <td>-0.134990</td>\n",
              "    </tr>\n",
              "  </tbody>\n",
              "</table>\n",
              "<p>45179 rows × 2 columns</p>\n",
              "</div>\n",
              "      <button class=\"colab-df-convert\" onclick=\"convertToInteractive('df-6a42a917-01b6-40d0-b7a0-ecbefcc2a7c2')\"\n",
              "              title=\"Convert this dataframe to an interactive table.\"\n",
              "              style=\"display:none;\">\n",
              "        \n",
              "  <svg xmlns=\"http://www.w3.org/2000/svg\" height=\"24px\"viewBox=\"0 0 24 24\"\n",
              "       width=\"24px\">\n",
              "    <path d=\"M0 0h24v24H0V0z\" fill=\"none\"/>\n",
              "    <path d=\"M18.56 5.44l.94 2.06.94-2.06 2.06-.94-2.06-.94-.94-2.06-.94 2.06-2.06.94zm-11 1L8.5 8.5l.94-2.06 2.06-.94-2.06-.94L8.5 2.5l-.94 2.06-2.06.94zm10 10l.94 2.06.94-2.06 2.06-.94-2.06-.94-.94-2.06-.94 2.06-2.06.94z\"/><path d=\"M17.41 7.96l-1.37-1.37c-.4-.4-.92-.59-1.43-.59-.52 0-1.04.2-1.43.59L10.3 9.45l-7.72 7.72c-.78.78-.78 2.05 0 2.83L4 21.41c.39.39.9.59 1.41.59.51 0 1.02-.2 1.41-.59l7.78-7.78 2.81-2.81c.8-.78.8-2.07 0-2.86zM5.41 20L4 18.59l7.72-7.72 1.47 1.35L5.41 20z\"/>\n",
              "  </svg>\n",
              "      </button>\n",
              "      \n",
              "  <style>\n",
              "    .colab-df-container {\n",
              "      display:flex;\n",
              "      flex-wrap:wrap;\n",
              "      gap: 12px;\n",
              "    }\n",
              "\n",
              "    .colab-df-convert {\n",
              "      background-color: #E8F0FE;\n",
              "      border: none;\n",
              "      border-radius: 50%;\n",
              "      cursor: pointer;\n",
              "      display: none;\n",
              "      fill: #1967D2;\n",
              "      height: 32px;\n",
              "      padding: 0 0 0 0;\n",
              "      width: 32px;\n",
              "    }\n",
              "\n",
              "    .colab-df-convert:hover {\n",
              "      background-color: #E2EBFA;\n",
              "      box-shadow: 0px 1px 2px rgba(60, 64, 67, 0.3), 0px 1px 3px 1px rgba(60, 64, 67, 0.15);\n",
              "      fill: #174EA6;\n",
              "    }\n",
              "\n",
              "    [theme=dark] .colab-df-convert {\n",
              "      background-color: #3B4455;\n",
              "      fill: #D2E3FC;\n",
              "    }\n",
              "\n",
              "    [theme=dark] .colab-df-convert:hover {\n",
              "      background-color: #434B5C;\n",
              "      box-shadow: 0px 1px 3px 1px rgba(0, 0, 0, 0.15);\n",
              "      filter: drop-shadow(0px 1px 2px rgba(0, 0, 0, 0.3));\n",
              "      fill: #FFFFFF;\n",
              "    }\n",
              "  </style>\n",
              "\n",
              "      <script>\n",
              "        const buttonEl =\n",
              "          document.querySelector('#df-6a42a917-01b6-40d0-b7a0-ecbefcc2a7c2 button.colab-df-convert');\n",
              "        buttonEl.style.display =\n",
              "          google.colab.kernel.accessAllowed ? 'block' : 'none';\n",
              "\n",
              "        async function convertToInteractive(key) {\n",
              "          const element = document.querySelector('#df-6a42a917-01b6-40d0-b7a0-ecbefcc2a7c2');\n",
              "          const dataTable =\n",
              "            await google.colab.kernel.invokeFunction('convertToInteractive',\n",
              "                                                     [key], {});\n",
              "          if (!dataTable) return;\n",
              "\n",
              "          const docLinkHtml = 'Like what you see? Visit the ' +\n",
              "            '<a target=\"_blank\" href=https://colab.research.google.com/notebooks/data_table.ipynb>data table notebook</a>'\n",
              "            + ' to learn more about interactive tables.';\n",
              "          element.innerHTML = '';\n",
              "          dataTable['output_type'] = 'display_data';\n",
              "          await google.colab.output.renderOutput(dataTable, element);\n",
              "          const docLink = document.createElement('div');\n",
              "          docLink.innerHTML = docLinkHtml;\n",
              "          element.appendChild(docLink);\n",
              "        }\n",
              "      </script>\n",
              "    </div>\n",
              "  </div>\n",
              "  "
            ]
          },
          "metadata": {},
          "execution_count": 117
        }
      ],
      "source": [
        "reduced_df = pd.DataFrame(reduced, columns = ['PCA1', 'PCA2'])\n",
        "\n",
        "reduced_df"
      ]
    },
    {
      "cell_type": "markdown",
      "metadata": {
        "id": "jVdBTm5gwYAC"
      },
      "source": [
        "# Load the final dataset"
      ]
    },
    {
      "cell_type": "code",
      "execution_count": null,
      "metadata": {
        "colab": {
          "base_uri": "https://localhost:8080/"
        },
        "id": "c85xetn4iW96",
        "outputId": "3738d209-15d2-4397-83c1-8cdc2ce9c8c2"
      },
      "outputs": [
        {
          "output_type": "stream",
          "name": "stdout",
          "text": [
            "<class 'pandas.core.frame.DataFrame'>\n",
            "Int64Index: 45179 entries, 0 to 45215\n",
            "Data columns (total 33 columns):\n",
            " #   Column               Non-Null Count  Dtype  \n",
            "---  ------               --------------  -----  \n",
            " 0   user_id              45179 non-null  object \n",
            " 1   number_transactions  45179 non-null  float64\n",
            " 2   total_amount_usd     45179 non-null  float64\n",
            " 3   job_management       45179 non-null  int64  \n",
            " 4   job_technician       45179 non-null  int64  \n",
            " 5   job_entrepreneur     45179 non-null  int64  \n",
            " 6   job_blue-collar      45179 non-null  int64  \n",
            " 7   job_retired          45179 non-null  int64  \n",
            " 8   job_admin.           45179 non-null  int64  \n",
            " 9   job_services         45179 non-null  int64  \n",
            " 10  job_self-employed    45179 non-null  int64  \n",
            " 11  job_unemployed       45179 non-null  int64  \n",
            " 12  job_housemaid        45179 non-null  int64  \n",
            " 13  job_student          45179 non-null  int64  \n",
            " 14  education_tertiary   45179 non-null  int64  \n",
            " 15  education_secondary  45179 non-null  int64  \n",
            " 16  education_Unknown    45179 non-null  int64  \n",
            " 17  education_primary    45179 non-null  int64  \n",
            " 18  default              45179 non-null  bool   \n",
            " 19  housing              45179 non-null  bool   \n",
            " 20  loan                 45179 non-null  bool   \n",
            " 21  contact_cellular     45179 non-null  int64  \n",
            " 22  contact_telephone    45179 non-null  int64  \n",
            " 23  duration             45179 non-null  int64  \n",
            " 24  campaign             45179 non-null  int64  \n",
            " 25  pdays                45179 non-null  int64  \n",
            " 26  previous             45179 non-null  int64  \n",
            " 27  term_deposit         45179 non-null  bool   \n",
            " 28  device_desktop       45179 non-null  int64  \n",
            " 29  device_tablet        45179 non-null  int64  \n",
            " 30  single               45179 non-null  uint8  \n",
            " 31  age_group_encoded    45179 non-null  int8   \n",
            " 32  month_joined         45179 non-null  int64  \n",
            "dtypes: bool(4), float64(2), int64(24), int8(1), object(1), uint8(1)\n",
            "memory usage: 9.9+ MB\n"
          ]
        }
      ],
      "source": [
        "users_data_final.info()"
      ]
    },
    {
      "cell_type": "code",
      "execution_count": null,
      "metadata": {
        "id": "oQk_6ScJzPZ0"
      },
      "outputs": [],
      "source": [
        "users_data_final.to_pickle('users_data_final.pickle')"
      ]
    },
    {
      "cell_type": "markdown",
      "metadata": {
        "id": "4ka3Cl2dG5cC"
      },
      "source": [
        "# Load the demographics dataset with PCA applied"
      ]
    },
    {
      "cell_type": "code",
      "execution_count": null,
      "metadata": {
        "id": "fp5Ng2ywG5cC"
      },
      "outputs": [],
      "source": [
        "reduced_df.to_pickle('users_data_demo_pca.pickle')"
      ]
    }
  ],
  "metadata": {
    "colab": {
      "provenance": [],
      "include_colab_link": true
    },
    "kernelspec": {
      "display_name": "Python 3",
      "language": "python",
      "name": "python3"
    },
    "language_info": {
      "codemirror_mode": {
        "name": "ipython",
        "version": 3
      },
      "file_extension": ".py",
      "mimetype": "text/x-python",
      "name": "python",
      "nbconvert_exporter": "python",
      "pygments_lexer": "ipython3",
      "version": "3.8.5"
    }
  },
  "nbformat": 4,
  "nbformat_minor": 0
}