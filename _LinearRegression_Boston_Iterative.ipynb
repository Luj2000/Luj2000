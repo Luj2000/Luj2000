{
  "cells": [
    {
      "cell_type": "markdown",
      "metadata": {
        "id": "view-in-github",
        "colab_type": "text"
      },
      "source": [
        "<a href=\"https://colab.research.google.com/github/Luj2000/projects/blob/main/_LinearRegression_Boston_Iterative.ipynb\" target=\"_parent\"><img src=\"https://colab.research.google.com/assets/colab-badge.svg\" alt=\"Open In Colab\"/></a>"
      ]
    },
    {
      "cell_type": "markdown",
      "metadata": {
        "id": "pRQsMFpU4TcA"
      },
      "source": [
        "# Import software libraries and load the dataset #"
      ]
    },
    {
      "cell_type": "code",
      "execution_count": null,
      "metadata": {
        "colab": {
          "base_uri": "https://localhost:8080/"
        },
        "id": "0tHGFDw34TcG",
        "outputId": "368eaa96-7593-44ff-c7a6-b979a4106ce8"
      },
      "outputs": [
        {
          "output_type": "stream",
          "name": "stdout",
          "text": [
            "Libraries used in this project:\n",
            "- Python 3.8.16 (default, Dec  7 2022, 01:12:13) \n",
            "[GCC 7.5.0]\n",
            "- NumPy 1.21.6\n",
            "- pandas 1.3.5\n",
            "- scikit-learn 1.0.2\n",
            "\n",
            "Loaded 506 records.\n"
          ]
        },
        {
          "output_type": "stream",
          "name": "stderr",
          "text": [
            "/usr/local/lib/python3.8/dist-packages/sklearn/utils/deprecation.py:87: FutureWarning: Function load_boston is deprecated; `load_boston` is deprecated in 1.0 and will be removed in 1.2.\n",
            "\n",
            "    The Boston housing prices dataset has an ethical problem. You can refer to\n",
            "    the documentation of this function for further details.\n",
            "\n",
            "    The scikit-learn maintainers therefore strongly discourage the use of this\n",
            "    dataset unless the purpose of the code is to study and educate about\n",
            "    ethical issues in data science and machine learning.\n",
            "\n",
            "    In this special case, you can fetch the dataset from the original\n",
            "    source::\n",
            "\n",
            "        import pandas as pd\n",
            "        import numpy as np\n",
            "\n",
            "\n",
            "        data_url = \"http://lib.stat.cmu.edu/datasets/boston\"\n",
            "        raw_df = pd.read_csv(data_url, sep=\"\\s+\", skiprows=22, header=None)\n",
            "        data = np.hstack([raw_df.values[::2, :], raw_df.values[1::2, :2]])\n",
            "        target = raw_df.values[1::2, 2]\n",
            "\n",
            "    Alternative datasets include the California housing dataset (i.e.\n",
            "    :func:`~sklearn.datasets.fetch_california_housing`) and the Ames housing\n",
            "    dataset. You can load the datasets as follows::\n",
            "\n",
            "        from sklearn.datasets import fetch_california_housing\n",
            "        housing = fetch_california_housing()\n",
            "\n",
            "    for the California housing dataset and::\n",
            "\n",
            "        from sklearn.datasets import fetch_openml\n",
            "        housing = fetch_openml(name=\"house_prices\", as_frame=True)\n",
            "\n",
            "    for the Ames housing dataset.\n",
            "    \n",
            "  warnings.warn(msg, category=FutureWarning)\n"
          ]
        }
      ],
      "source": [
        "import sys                                             # Read system parameters.\n",
        "import numpy as np                                     # Work with multi-dimensional arrays and matrices.\n",
        "import pandas as pd                                    # Manipulate and analyze data.\n",
        "import sklearn                                         # Perform data mining and analysis.\n",
        "from sklearn import datasets\n",
        "from time import time                                  # Calculate training time.\n",
        "\n",
        "# Summarize software libraries used.\n",
        "print('Libraries used in this project:')\n",
        "print('- Python {}'.format(sys.version))\n",
        "print('- NumPy {}'.format(np.__version__))\n",
        "print('- pandas {}'.format(pd.__version__))\n",
        "print('- scikit-learn {}\\n'.format(sklearn.__version__))\n",
        "\n",
        "# Load the dataset.\n",
        "boston = datasets.load_boston()\n",
        "print('Loaded {} records.'.format(len(boston.data)))\n",
        "\n",
        "# Convert array to pandas DataFrame.\n",
        "data_raw = pd.DataFrame(boston['data'], columns = boston['feature_names'])\n",
        "data_raw['target'] = boston['target']"
      ]
    },
    {
      "cell_type": "markdown",
      "metadata": {
        "id": "k1allx9Y4TcJ"
      },
      "source": [
        "# Split the datasets"
      ]
    },
    {
      "cell_type": "code",
      "execution_count": null,
      "metadata": {
        "colab": {
          "base_uri": "https://localhost:8080/"
        },
        "id": "ppxZ5pMR4TcJ",
        "outputId": "1cc73a16-c9b6-4ea7-a561-213bc2bedeca"
      },
      "outputs": [
        {
          "output_type": "stream",
          "name": "stdout",
          "text": [
            "Original set:        (506, 14)\n",
            "------------------------------\n",
            "Training features:   (379, 13)\n",
            "Test features:       (127, 13)\n",
            "Training labels:     (379, 1)\n",
            "Test labels:         (127, 1)\n"
          ]
        }
      ],
      "source": [
        "from sklearn.model_selection import train_test_split\n",
        "\n",
        "# 'target' is the dependent variable (value to be predicted), so it will be\n",
        "# removed from the training data and put into a separate DataFrame for labels.\n",
        "label_columns = ['target']\n",
        "\n",
        "# Split the training and test datasets and their labels.\n",
        "X_train, X_test, y_train, y_test = train_test_split(data_raw.loc[:, 'CRIM': 'LSTAT'],\n",
        "                                                                            data_raw[label_columns],\n",
        "                                                                            random_state = 2)\n",
        "\n",
        "# Compare the number of rows and columns in the original data to the training and test sets.\n",
        "print(f'Original set:        {data_raw.shape}')\n",
        "print('------------------------------')\n",
        "print(f'Training features:   {X_train.shape}')\n",
        "print(f'Test features:       {X_test.shape}')\n",
        "print(f'Training labels:     {y_train.shape}')\n",
        "print(f'Test labels:         {y_test.shape}')"
      ]
    },
    {
      "cell_type": "markdown",
      "metadata": {
        "id": "H5gp_VAf4TcL"
      },
      "source": [
        "# Drop columns that won't be used for training"
      ]
    },
    {
      "cell_type": "code",
      "execution_count": null,
      "metadata": {
        "colab": {
          "base_uri": "https://localhost:8080/"
        },
        "id": "KM8DFRrj4TcL",
        "outputId": "4f497ff2-901a-4fac-8f75-356d6d127e46"
      },
      "outputs": [
        {
          "output_type": "stream",
          "name": "stdout",
          "text": [
            "Columns before drop:\n",
            "\n",
            "['CRIM', 'ZN', 'INDUS', 'CHAS', 'NOX', 'RM', 'AGE', 'DIS', 'RAD', 'TAX', 'PTRATIO', 'B', 'LSTAT']\n",
            "\n",
            "Columns after drop:\n",
            "\n",
            "['CRIM', 'ZN', 'INDUS', 'NOX', 'RM', 'AGE', 'DIS', 'RAD', 'TAX', 'PTRATIO', 'B', 'LSTAT']\n",
            "\n",
            "Columns before drop:\n",
            "\n",
            "['CRIM', 'ZN', 'INDUS', 'CHAS', 'NOX', 'RM', 'AGE', 'DIS', 'RAD', 'TAX', 'PTRATIO', 'B', 'LSTAT']\n",
            "\n",
            "Columns after drop:\n",
            "\n",
            "['CRIM', 'ZN', 'INDUS', 'NOX', 'RM', 'AGE', 'DIS', 'RAD', 'TAX', 'PTRATIO', 'B', 'LSTAT']\n",
            "\n"
          ]
        }
      ],
      "source": [
        "# Drop column from dataset that shows weak correlation.\n",
        "def drop_unused(dataset):\n",
        "    \n",
        "    print('Columns before drop:\\n\\n{}\\n'.format(list(dataset.columns)))\n",
        "        \n",
        "    dataset = dataset.drop(['CHAS'], axis = 1)\n",
        "    \n",
        "    print('Columns after drop:\\n\\n{}\\n'.format(list(dataset.columns)))\n",
        "    return dataset\n",
        "\n",
        "X_train, X_test = drop_unused(X_train.copy()), drop_unused(X_test.copy())"
      ]
    },
    {
      "cell_type": "markdown",
      "metadata": {
        "id": "MnrGjF9p4TcM"
      },
      "source": [
        "# Standardize the features"
      ]
    },
    {
      "cell_type": "code",
      "execution_count": null,
      "metadata": {
        "colab": {
          "base_uri": "https://localhost:8080/"
        },
        "id": "-eN-UWeC4TcM",
        "outputId": "805ed978-97af-4652-a8b7-bb26102da983"
      },
      "outputs": [
        {
          "output_type": "stream",
          "name": "stdout",
          "text": [
            "The features have been standardized.\n"
          ]
        }
      ],
      "source": [
        "def standardize(X):\n",
        "    result = X.copy()\n",
        "    \n",
        "    for feature in X.columns:\n",
        "        result[feature] = (X[feature] - X[feature].mean()) / X[feature].std()  # z-score formula.\n",
        " m       \n",
        "    return result\n",
        "\n",
        "X_train = standardize(X_train)\n",
        "X_test = standardize(X_test)\n",
        "\n",
        "print('The features have been standardized.')"
      ]
    },
    {
      "cell_type": "markdown",
      "metadata": {
        "id": "ZzJLDzgx4TcN"
      },
      "source": [
        "# Train a model and calculate its cost"
      ]
    },
    {
      "cell_type": "code",
      "execution_count": null,
      "metadata": {
        "colab": {
          "base_uri": "https://localhost:8080/"
        },
        "id": "tLfabW7T4TcO",
        "outputId": "6f408c35-aa90-446d-afb1-352b85a2deb0"
      },
      "outputs": [
        {
          "output_type": "stream",
          "name": "stdout",
          "text": [
            "The function to train the model and calculate its cost has been defined.\n"
          ]
        }
      ],
      "source": [
        "from sklearn.metrics import mean_squared_error as mse\n",
        "\n",
        "def model_train(model):\n",
        "    start = time()\n",
        "    model.fit(X_train, np.ravel(y_train))\n",
        "    end = time()\n",
        "    train_time = (end - start) * 1000\n",
        "    \n",
        "    predict = model.predict(X_test)\n",
        "    \n",
        "    cost = mse(y_test, predict)\n",
        "    \n",
        "    print('Linear regression model took {:.2f} milliseconds to fit.'.format(train_time))\n",
        "    print('Cost (mean squared error): {:.2f}'.format(cost))\n",
        "    \n",
        "print('The function to train the model and calculate its cost has been defined.')"
      ]
    },
    {
      "cell_type": "markdown",
      "metadata": {
        "id": "nKVgO2zy4TcO"
      },
      "source": [
        "# Evaluate linear regression models using both closed-form and iterative solutions"
      ]
    },
    {
      "cell_type": "code",
      "execution_count": null,
      "metadata": {
        "colab": {
          "base_uri": "https://localhost:8080/"
        },
        "id": "tZUtfpQs4TcP",
        "outputId": "d5e3cc97-ede6-47c3-e52b-5e23f97777bc"
      },
      "outputs": [
        {
          "output_type": "stream",
          "name": "stdout",
          "text": [
            "The function to evaluate the linear regression models has been defined.\n"
          ]
        }
      ],
      "source": [
        "from sklearn.linear_model import Ridge\n",
        "from sklearn.linear_model import SGDRegressor\n",
        "\n",
        "# Create closed-form and iterative ridge regression models.\n",
        "def model_eval(eta):\n",
        "    for name, model in [\n",
        "        ('Ridge regression (closed form)', Ridge(alpha = 0.1, solver = 'cholesky')),\n",
        "        ('Ridge regression (gradient descent)', SGDRegressor(penalty = 'l2',\n",
        "                                                             alpha = 0.1,\n",
        "                                                             tol = 1e-3,\n",
        "                                                             learning_rate = 'constant',\n",
        "                                                             eta0 = eta,\n",
        "                                                             random_state = 2))]:\n",
        "\n",
        "        print('Model: {}'.format(name))\n",
        "        print('--------------------')\n",
        "        model_train(model)\n",
        "        print('\\n')\n",
        "        \n",
        "print('The function to evaluate the linear regression models has been defined.')"
      ]
    },
    {
      "cell_type": "code",
      "execution_count": null,
      "metadata": {
        "colab": {
          "base_uri": "https://localhost:8080/"
        },
        "id": "JI7b1hQP4TcQ",
        "outputId": "16103e07-b26f-4b96-d8db-b21c1b726033"
      },
      "outputs": [
        {
          "output_type": "stream",
          "name": "stdout",
          "text": [
            "Model: Ridge regression (closed form)\n",
            "--------------------\n",
            "Linear regression model took 3.51 milliseconds to fit.\n",
            "Cost (mean squared error): 21.88\n",
            "\n",
            "\n",
            "Model: Ridge regression (gradient descent)\n",
            "--------------------\n",
            "Linear regression model took 7.28 milliseconds to fit.\n",
            "Cost (mean squared error): 65.36\n",
            "\n",
            "\n"
          ]
        }
      ],
      "source": [
        "model_eval(0.09)"
      ]
    },
    {
      "cell_type": "code",
      "execution_count": null,
      "metadata": {
        "colab": {
          "base_uri": "https://localhost:8080/"
        },
        "id": "qJhtDgqH4TcQ",
        "outputId": "2adcb366-374f-4206-ffa0-22ee593bf5af"
      },
      "outputs": [
        {
          "output_type": "stream",
          "name": "stdout",
          "text": [
            "Model: Ridge regression (closed form)\n",
            "--------------------\n",
            "Linear regression model took 8.64 milliseconds to fit.\n",
            "Cost (mean squared error): 21.88\n",
            "\n",
            "\n",
            "Model: Ridge regression (gradient descent)\n",
            "--------------------\n",
            "Linear regression model took 2.29 milliseconds to fit.\n",
            "Cost (mean squared error): 47.05\n",
            "\n",
            "\n"
          ]
        }
      ],
      "source": [
        "model_eval(0.08)"
      ]
    },
    {
      "cell_type": "code",
      "execution_count": null,
      "metadata": {
        "colab": {
          "base_uri": "https://localhost:8080/"
        },
        "id": "hPqbFL7i4TcR",
        "outputId": "e727c4df-3261-46d8-90a2-cad723c3d406"
      },
      "outputs": [
        {
          "output_type": "stream",
          "name": "stdout",
          "text": [
            "Model: Ridge regression (closed form)\n",
            "--------------------\n",
            "Linear regression model took 2.32 milliseconds to fit.\n",
            "Cost (mean squared error): 21.88\n",
            "\n",
            "\n",
            "Model: Ridge regression (gradient descent)\n",
            "--------------------\n",
            "Linear regression model took 5.85 milliseconds to fit.\n",
            "Cost (mean squared error): 31.89\n",
            "\n",
            "\n"
          ]
        }
      ],
      "source": [
        "model_eval(0.05)"
      ]
    },
    {
      "cell_type": "code",
      "execution_count": null,
      "metadata": {
        "colab": {
          "base_uri": "https://localhost:8080/"
        },
        "id": "0U0Cw1Ge4TcR",
        "outputId": "a027e404-97fc-45df-c4bd-8ec5112f261b"
      },
      "outputs": [
        {
          "output_type": "stream",
          "name": "stdout",
          "text": [
            "Model: Ridge regression (closed form)\n",
            "--------------------\n",
            "Linear regression model took 3.23 milliseconds to fit.\n",
            "Cost (mean squared error): 21.88\n",
            "\n",
            "\n",
            "Model: Ridge regression (gradient descent)\n",
            "--------------------\n",
            "Linear regression model took 2.98 milliseconds to fit.\n",
            "Cost (mean squared error): 25.25\n",
            "\n",
            "\n"
          ]
        }
      ],
      "source": [
        "model_eval(0.01)"
      ]
    }
  ],
  "metadata": {
    "kernelspec": {
      "display_name": "Python 3",
      "language": "python",
      "name": "python3"
    },
    "language_info": {
      "codemirror_mode": {
        "name": "ipython",
        "version": 3
      },
      "file_extension": ".py",
      "mimetype": "text/x-python",
      "name": "python",
      "nbconvert_exporter": "python",
      "pygments_lexer": "ipython3",
      "version": "3.7.3"
    },
    "colab": {
      "provenance": [],
      "include_colab_link": true
    }
  },
  "nbformat": 4,
  "nbformat_minor": 0
}