{
  "nbformat": 4,
  "nbformat_minor": 0,
  "metadata": {
    "colab": {
      "provenance": [],
      "authorship_tag": "ABX9TyO9V4QFKQMT4pLzaAsA/BDP",
      "include_colab_link": true
    },
    "kernelspec": {
      "name": "python3",
      "display_name": "Python 3"
    },
    "language_info": {
      "name": "python"
    }
  },
  "cells": [
    {
      "cell_type": "markdown",
      "metadata": {
        "id": "view-in-github",
        "colab_type": "text"
      },
      "source": [
        "<a href=\"https://colab.research.google.com/github/Luj2000/Luj2000/blob/main/Python_d1.ipynb\" target=\"_parent\"><img src=\"https://colab.research.google.com/assets/colab-badge.svg\" alt=\"Open In Colab\"/></a>"
      ]
    },
    {
      "cell_type": "markdown",
      "source": [
        "## python "
      ],
      "metadata": {
        "id": "N7pl3T8mr5-g"
      }
    },
    {
      "cell_type": "code",
      "execution_count": 51,
      "metadata": {
        "id": "C6i7ZyR4jcTg"
      },
      "outputs": [],
      "source": [
        "a= '14'"
      ]
    },
    {
      "cell_type": "code",
      "source": [
        "print(float(33))"
      ],
      "metadata": {
        "colab": {
          "base_uri": "https://localhost:8080/"
        },
        "id": "Fjyp5NlYjeAh",
        "outputId": "51aca0d2-41c3-410b-de1f-d2e609cb1053"
      },
      "execution_count": 14,
      "outputs": [
        {
          "output_type": "stream",
          "name": "stdout",
          "text": [
            "33.0\n"
          ]
        }
      ]
    },
    {
      "cell_type": "code",
      "source": [
        "c, d = eval(input(\"Enter two numbers separated by a comma: \"))\n",
        "print(c, d)"
      ],
      "metadata": {
        "colab": {
          "base_uri": "https://localhost:8080/"
        },
        "id": "GbA5ZuspcTK_",
        "outputId": "ab5288b8-b320-4d06-9d6b-49a0df8cecb7"
      },
      "execution_count": 15,
      "outputs": [
        {
          "output_type": "stream",
          "name": "stdout",
          "text": [
            "Enter two numbers separated by a comma: 2,2\n",
            "2 2\n"
          ]
        }
      ]
    },
    {
      "cell_type": "code",
      "source": [
        "b= (\"lujain\")"
      ],
      "metadata": {
        "id": "QeS-KfWFjyfB"
      },
      "execution_count": 16,
      "outputs": []
    },
    {
      "cell_type": "code",
      "source": [
        "a+b"
      ],
      "metadata": {
        "colab": {
          "base_uri": "https://localhost:8080/",
          "height": 36
        },
        "id": "FZL_5ikg6Z2a",
        "outputId": "32a28ce6-b313-4fba-a193-ee634a20c021"
      },
      "execution_count": 17,
      "outputs": [
        {
          "output_type": "execute_result",
          "data": {
            "text/plain": [
              "'14lujain'"
            ],
            "application/vnd.google.colaboratory.intrinsic+json": {
              "type": "string"
            }
          },
          "metadata": {},
          "execution_count": 17
        }
      ]
    },
    {
      "cell_type": "code",
      "source": [
        " count = 2\n",
        " people = \"There are {} people.\".format(count) \n",
        " print(people)"
      ],
      "metadata": {
        "colab": {
          "base_uri": "https://localhost:8080/"
        },
        "id": "9eJG5vdx6w9B",
        "outputId": "5bf46ddf-549a-4370-fedf-9eefc2de4d51"
      },
      "execution_count": 18,
      "outputs": [
        {
          "output_type": "stream",
          "name": "stdout",
          "text": [
            "There are 2 people.\n"
          ]
        }
      ]
    },
    {
      "cell_type": "code",
      "source": [
        "count = 2\n",
        "people = \"There are {} people.\".format(count) \n",
        "print(people)\n"
      ],
      "metadata": {
        "colab": {
          "base_uri": "https://localhost:8080/"
        },
        "id": "v0XxjBMm7wMM",
        "outputId": "5a7a97ba-28b0-4b3b-f0d2-dac9c69ea860"
      },
      "execution_count": 19,
      "outputs": [
        {
          "output_type": "stream",
          "name": "stdout",
          "text": [
            "There are 2 people.\n"
          ]
        }
      ]
    },
    {
      "cell_type": "code",
      "source": [
        "# Calculate air speed velocity in mph\n",
        "distance = 22  # distance in miles\n",
        "time = 5  # time elapsed in hours\n",
        "\n",
        "mph = distance / time\n",
        "\n",
        "print(\"The air speed velocity is {:.2f} miles per hour.\".format(mph))\n"
      ],
      "metadata": {
        "colab": {
          "base_uri": "https://localhost:8080/"
        },
        "id": "XB88Zp6P-trB",
        "outputId": "7e9345b7-27cb-4b33-f485-8c4e173b1ef1"
      },
      "execution_count": 20,
      "outputs": [
        {
          "output_type": "stream",
          "name": "stdout",
          "text": [
            "The air speed velocity is 4.40 miles per hour.\n"
          ]
        }
      ]
    },
    {
      "cell_type": "code",
      "source": [
        "list1 = ['apple', 'banana', 'cherry', 'mango', \"5\"]\n",
        "list1= list(list1)\n",
        "list1[0]=677\n",
        "list1=tuple(list1)\n",
        "print (list1)"
      ],
      "metadata": {
        "colab": {
          "base_uri": "https://localhost:8080/"
        },
        "id": "_JVqUNFB_mvl",
        "outputId": "4afd1eaa-c7fc-4c07-e755-b5390acaefd1"
      },
      "execution_count": 23,
      "outputs": [
        {
          "output_type": "stream",
          "name": "stdout",
          "text": [
            "(677, 'banana', 'cherry', 'mango', '5')\n"
          ]
        }
      ]
    },
    {
      "cell_type": "code",
      "source": [
        "list1 = [\"fatima\", 20, 15, True, 67, 10]\n",
        "list1_tuple = tuple(list1)\n",
        "list1[0] = 6777\n",
        "print(list1)\n"
      ],
      "metadata": {
        "colab": {
          "base_uri": "https://localhost:8080/"
        },
        "id": "9vNGjUZOBs_S",
        "outputId": "6cb6e28f-b67b-4154-ba58-ac8c6f025649"
      },
      "execution_count": 24,
      "outputs": [
        {
          "output_type": "stream",
          "name": "stdout",
          "text": [
            "[6777, 20, 15, True, 67, 10]\n"
          ]
        }
      ]
    },
    {
      "cell_type": "code",
      "source": [
        "\n",
        "list2 = {1,2,3,4,5,6,7,8,9}\n",
        "range(1,3,2)"
      ],
      "metadata": {
        "colab": {
          "base_uri": "https://localhost:8080/"
        },
        "id": "PM5rL0lIDZco",
        "outputId": "02552584-9bb2-4dc6-d2a1-ca843b99d701"
      },
      "execution_count": 25,
      "outputs": [
        {
          "output_type": "execute_result",
          "data": {
            "text/plain": [
              "range(1, 3, 2)"
            ]
          },
          "metadata": {},
          "execution_count": 25
        }
      ]
    },
    {
      "cell_type": "code",
      "source": [
        "# Print the numbers from 0 to 9\n",
        "for i in range(10):\n",
        "    print(i)\n",
        "\n",
        "# Print the numbers from 1 to 10\n",
        "for i in range(1, 11):\n",
        "    print(i)\n",
        "\n",
        "# Print the numbers from 0 to 10, in steps of 2\n",
        "for i in range(0, 11, 2):\n",
        "    print(i)\n"
      ],
      "metadata": {
        "colab": {
          "base_uri": "https://localhost:8080/"
        },
        "id": "RjerscldE4mX",
        "outputId": "3e36449c-8c1c-4d20-84cd-c0c709231fae"
      },
      "execution_count": 26,
      "outputs": [
        {
          "output_type": "stream",
          "name": "stdout",
          "text": [
            "0\n",
            "1\n",
            "2\n",
            "3\n",
            "4\n",
            "5\n",
            "6\n",
            "7\n",
            "8\n",
            "9\n",
            "1\n",
            "2\n",
            "3\n",
            "4\n",
            "5\n",
            "6\n",
            "7\n",
            "8\n",
            "9\n",
            "10\n",
            "0\n",
            "2\n",
            "4\n",
            "6\n",
            "8\n",
            "10\n"
          ]
        }
      ]
    },
    {
      "cell_type": "code",
      "source": [
        "my_list = [20, 10, 30, 10]\n",
        "my_list.append(5)\n",
        "print (my_list)"
      ],
      "metadata": {
        "colab": {
          "base_uri": "https://localhost:8080/"
        },
        "id": "-5YFmYfRFXa8",
        "outputId": "0014180f-3da1-4e95-cdd7-d2ac1e3196f2"
      },
      "execution_count": 27,
      "outputs": [
        {
          "output_type": "stream",
          "name": "stdout",
          "text": [
            "[20, 10, 30, 10, 5]\n"
          ]
        }
      ]
    },
    {
      "cell_type": "code",
      "source": [
        "my_list.index(30)\n",
        "my_list.remove(5)\n",
        "print(my_list)"
      ],
      "metadata": {
        "colab": {
          "base_uri": "https://localhost:8080/"
        },
        "id": "4SoLEbaxFmhW",
        "outputId": "0ccfe8e8-73fd-4302-b3de-488ca5cbc4ad"
      },
      "execution_count": 28,
      "outputs": [
        {
          "output_type": "stream",
          "name": "stdout",
          "text": [
            "[20, 10, 30, 10]\n"
          ]
        }
      ]
    },
    {
      "cell_type": "code",
      "source": [
        "my_list = [10, 20, 30, 40, 50]\n",
        "\n",
        "# Clear the list\n",
        "my_list.clear()\n",
        "print(my_list)  # Output: []\n"
      ],
      "metadata": {
        "colab": {
          "base_uri": "https://localhost:8080/"
        },
        "id": "9R_N9HLnGVzn",
        "outputId": "85c6badc-3eb5-44e5-c7bb-84bd6c8478ad"
      },
      "execution_count": 29,
      "outputs": [
        {
          "output_type": "stream",
          "name": "stdout",
          "text": [
            "[]\n"
          ]
        }
      ]
    },
    {
      "cell_type": "code",
      "source": [
        "my_list = [10, 20, 30]\n",
        "\n",
        "# Add the element 40 to the end of the list\n",
        "my_list.append(40)\n",
        "print(my_list)  # Output: [10, 20, 30, 40]\n"
      ],
      "metadata": {
        "colab": {
          "base_uri": "https://localhost:8080/"
        },
        "id": "r4-6ZMheHscp",
        "outputId": "848c4016-be93-4cba-a6ef-19dce5856f09"
      },
      "execution_count": 30,
      "outputs": [
        {
          "output_type": "stream",
          "name": "stdout",
          "text": [
            "[10, 20, 30, 40]\n"
          ]
        }
      ]
    },
    {
      "cell_type": "code",
      "source": [
        "my_list = [10, 20, 30]\n",
        "\n",
        "# Remove and return the element at index 1\n",
        "element = my_list.pop(1)\n",
        "print(element)  # Output: 20\n",
        "print(my_list)  # Output: [10, 30]\n",
        "\n",
        "# Remove and return the last element\n",
        "element = my_list.pop()\n",
        "print(element)  # Output: 30\n",
        "print(my_list)  # Output: [10]\n"
      ],
      "metadata": {
        "colab": {
          "base_uri": "https://localhost:8080/"
        },
        "id": "hQ2jgVxGICe6",
        "outputId": "38653e67-0af9-4ca6-bc0e-01d1f41fdf6e"
      },
      "execution_count": 31,
      "outputs": [
        {
          "output_type": "stream",
          "name": "stdout",
          "text": [
            "20\n",
            "[10, 30]\n",
            "30\n",
            "[10]\n"
          ]
        }
      ]
    },
    {
      "cell_type": "code",
      "source": [
        "my_list = [10, 20, 30]\n",
        "\n",
        "# Add the elements 40 and 50 to the end of the list\n",
        "my_list.extend([40, 50])\n",
        "print(my_list)  # Output: [10, 20, 30, 40, 50]\n"
      ],
      "metadata": {
        "colab": {
          "base_uri": "https://localhost:8080/"
        },
        "id": "eAfjKLLwIKwL",
        "outputId": "640ad8f7-650d-4a61-850c-ce72661cf1c0"
      },
      "execution_count": 32,
      "outputs": [
        {
          "output_type": "stream",
          "name": "stdout",
          "text": [
            "[10, 20, 30, 40, 50]\n"
          ]
        }
      ]
    },
    {
      "cell_type": "code",
      "source": [
        "dick = {\"john\": 5512, \"Terry\":444, \"ferd\":6666}\n",
        "dick[\"Terry\"]\n"
      ],
      "metadata": {
        "colab": {
          "base_uri": "https://localhost:8080/"
        },
        "id": "mp80x6C_IMlE",
        "outputId": "db4fc7db-d6d5-42e4-ed70-080d3bc15760"
      },
      "execution_count": 33,
      "outputs": [
        {
          "output_type": "execute_result",
          "data": {
            "text/plain": [
              "444"
            ]
          },
          "metadata": {},
          "execution_count": 33
        }
      ]
    },
    {
      "cell_type": "code",
      "source": [
        "# Create a dictionary with some key-value pairs\n",
        "my_dict = {\n",
        "    \"name\": \"John\",\n",
        "    \"age\": 30,\n",
        "    \"city\": \"New York\"\n",
        "}\n",
        "\n",
        "# Access the value associated with the key \"name\"\n",
        "name = my_dict[\"name\"]\n",
        "print(name)  # Output: \"John\"\n",
        "\n",
        "# Modify the value associated with the key \"age\"\n",
        "my_dict[\"age\"] = 35\n",
        "print(my_dict)  # Output: {'name': 'John', 'age': 35, 'city': 'New York'}\n",
        "\n",
        "# Add a new key-value pair to the dictionary\n",
        "my_dict[\"country\"] = \"USA\"\n",
        "print(my_dict)  # Output: {'name': 'John', 'age': 35, 'city': 'New York', 'country': 'USA'}\n",
        "\n",
        "# Remove a key-value pair from the dictionary\n",
        "del my_dict[\"city\"]\n",
        "print(my_dict)  # Output: {'name': 'John', 'age': 35, 'country': 'USA'}\n"
      ],
      "metadata": {
        "colab": {
          "base_uri": "https://localhost:8080/"
        },
        "id": "FBAuI47tI5sw",
        "outputId": "8e835353-6720-4162-e467-8345470b043f"
      },
      "execution_count": 34,
      "outputs": [
        {
          "output_type": "stream",
          "name": "stdout",
          "text": [
            "John\n",
            "{'name': 'John', 'age': 35, 'city': 'New York'}\n",
            "{'name': 'John', 'age': 35, 'city': 'New York', 'country': 'USA'}\n",
            "{'name': 'John', 'age': 35, 'country': 'USA'}\n"
          ]
        }
      ]
    },
    {
      "cell_type": "code",
      "source": [
        "print()"
      ],
      "metadata": {
        "id": "Ia3xZITBN4lg",
        "colab": {
          "base_uri": "https://localhost:8080/"
        },
        "outputId": "63a8248c-7bca-49d9-da4c-c4689da3f098"
      },
      "execution_count": 35,
      "outputs": [
        {
          "output_type": "stream",
          "name": "stdout",
          "text": [
            "\n"
          ]
        }
      ]
    },
    {
      "cell_type": "code",
      "source": [
        "# Create a set with some elements\n",
        "my_set = {10, 20, 30, 40, 50}\n",
        "\n",
        "# Check if an element is in the set\n",
        "print(10 in my_set)  # Output: True\n",
        "print(15 in my_set)  # Output: False\n",
        "\n",
        "# Add an element to the set\n",
        "my_set.add(60)\n",
        "print(my_set)  # Output: {10, 20, 30, 40, 50, 60}\n",
        "\n",
        "# Remove an element from the set\n",
        "my_set.remove(40)\n",
        "print(my_set)  # Output: {10, 20, 30, 50, 60}\n",
        "\n",
        "# Find the intersection of two sets\n",
        "set1 = {1, 2, 3, 4}\n",
        "set2 = {3, 4, 5, 6}\n",
        "intersection = set1 & set2\n",
        "print(intersection)  # Output: {3, 4}\n",
        "\n",
        "# Find the union of two sets\n",
        "union = set1 | set2\n",
        "print(union)  # Output: {1, 2, 3, 4, 5, 6}\n",
        "\n",
        "# Find the difference between two sets\n",
        "difference = set1 - set2\n",
        "print(difference)  # Output: {1, 2}\n"
      ],
      "metadata": {
        "colab": {
          "base_uri": "https://localhost:8080/"
        },
        "id": "vJ3hXBKFJufd",
        "outputId": "6f6bbf1e-2f35-44cc-9cdd-ac13a35df44d"
      },
      "execution_count": 36,
      "outputs": [
        {
          "output_type": "stream",
          "name": "stdout",
          "text": [
            "True\n",
            "False\n",
            "{50, 20, 40, 10, 60, 30}\n",
            "{50, 20, 10, 60, 30}\n",
            "{3, 4}\n",
            "{1, 2, 3, 4, 5, 6}\n",
            "{1, 2}\n"
          ]
        }
      ]
    },
    {
      "cell_type": "code",
      "source": [
        "print(10 in my_set)"
      ],
      "metadata": {
        "colab": {
          "base_uri": "https://localhost:8080/"
        },
        "id": "Y9lVdK82Kj9p",
        "outputId": "1e236878-4673-498d-c952-bd94a5b5b1ef"
      },
      "execution_count": 37,
      "outputs": [
        {
          "output_type": "stream",
          "name": "stdout",
          "text": [
            "True\n"
          ]
        }
      ]
    },
    {
      "cell_type": "code",
      "source": [
        "print(18 in my_set)"
      ],
      "metadata": {
        "colab": {
          "base_uri": "https://localhost:8080/"
        },
        "id": "ZVJdytvNKysk",
        "outputId": "368875cf-d926-474e-b9e0-c3b71069ace6"
      },
      "execution_count": 38,
      "outputs": [
        {
          "output_type": "stream",
          "name": "stdout",
          "text": [
            "False\n"
          ]
        }
      ]
    },
    {
      "cell_type": "code",
      "source": [
        "print(intersection)"
      ],
      "metadata": {
        "colab": {
          "base_uri": "https://localhost:8080/"
        },
        "id": "pZr33JzmK6th",
        "outputId": "a2cf070f-9cf5-4dd7-e2af-e676e01ca48d"
      },
      "execution_count": 39,
      "outputs": [
        {
          "output_type": "stream",
          "name": "stdout",
          "text": [
            "{3, 4}\n"
          ]
        }
      ]
    },
    {
      "cell_type": "code",
      "source": [
        "print(union)"
      ],
      "metadata": {
        "colab": {
          "base_uri": "https://localhost:8080/"
        },
        "id": "vftkRU1WMuqt",
        "outputId": "a7d24f87-8391-4156-dcff-8ed7bd2893d9"
      },
      "execution_count": 40,
      "outputs": [
        {
          "output_type": "stream",
          "name": "stdout",
          "text": [
            "{1, 2, 3, 4, 5, 6}\n"
          ]
        }
      ]
    },
    {
      "cell_type": "code",
      "source": [
        "print(difference)"
      ],
      "metadata": {
        "colab": {
          "base_uri": "https://localhost:8080/"
        },
        "id": "SfKBCOGWNCmQ",
        "outputId": "2d8b220c-cb91-4f95-fbae-d93feb91822c"
      },
      "execution_count": 41,
      "outputs": [
        {
          "output_type": "stream",
          "name": "stdout",
          "text": [
            "{1, 2}\n"
          ]
        }
      ]
    },
    {
      "cell_type": "code",
      "source": [
        "if a + b == c:\n",
        "  if b + c == a:\n",
        "    print(\"Success!\")\n",
        "  else:\n",
        "    print(\"Faillure\")\n",
        "else:\n",
        "  print(\"Faillur\")"
      ],
      "metadata": {
        "colab": {
          "base_uri": "https://localhost:8080/"
        },
        "id": "lg7OBM2oNreV",
        "outputId": "43438ad1-24ed-48de-b5d9-60c9e829728e"
      },
      "execution_count": 42,
      "outputs": [
        {
          "output_type": "stream",
          "name": "stdout",
          "text": [
            "Faillur\n"
          ]
        }
      ]
    },
    {
      "cell_type": "code",
      "source": [
        "if a + b == c and b + c == a:\n",
        "    print(\"Success!\")\n",
        "else:\n",
        "    print(\"Faillure\")\n"
      ],
      "metadata": {
        "colab": {
          "base_uri": "https://localhost:8080/"
        },
        "id": "laCb1zVMTdvv",
        "outputId": "a29b9a2b-bb47-48f1-f52c-dacfa8a39f7a"
      },
      "execution_count": 43,
      "outputs": [
        {
          "output_type": "stream",
          "name": "stdout",
          "text": [
            "Faillure\n"
          ]
        }
      ]
    },
    {
      "cell_type": "code",
      "source": [
        "\n",
        "\n",
        "# Use is to check if two variables refer to the same object\n",
        "x = [1, 2, 3]\n",
        "y = [1, 2, 3]\n",
        "print(x is y)  # Output: False\n",
        "\n",
        "y = x\n",
        "print(x is y)  # Output: True\n",
        "\n",
        "# Use not to negate a boolean value\n",
        "if not True:\n",
        "    print(\"True\")  # This code is not executed because not True is False\n",
        "\n",
        "if not False:\n",
        "    print(\"True\")  # Output: True\n",
        "\n",
        "# Use and to check if both operands are True\n",
        "if True and True:\n",
        "    print(\"True\")  # Output: True\n",
        "\n",
        "if True and False:\n",
        "    print(\"True\")  # This code is not executed because the second operand is False\n",
        "\n",
        "# Use or to check if either operand is True\n",
        "if True or True:\n",
        "    print(\"True\")  # Output: True\n",
        "\n",
        "if True or False:\n",
        "    print(\"True\")  # Output: True\n",
        "\n",
        "if False or False:\n",
        "    print(\"True\")  # This code is not executed because both operands are False\n",
        "\n",
        "# Use < to check if the left operand is less than the right operand\n",
        "if 10 < 5:\n",
        "    print(\"True\")  # This code is not executed because 10 is not less than 5\n",
        "\n",
        "if 5 < 10:\n",
        "    print(\"True\")  # Output: True\n",
        "\n",
        "# Use > to check if the left operand is greater than the right operand\n",
        "if 10 > 5:\n",
        "    print(\"True\")  # Output: True\n",
        "\n",
        "if 5 > 10:\n",
        "    print(\"True\")  # This code is not executed because 5 is not greater than 10\n",
        "\n",
        "\n"
      ],
      "metadata": {
        "colab": {
          "base_uri": "https://localhost:8080/"
        },
        "id": "OvdL3g9DUu1A",
        "outputId": "608a6f7c-1831-4d10-bb3c-1b3a73ca4644"
      },
      "execution_count": 50,
      "outputs": [
        {
          "output_type": "stream",
          "name": "stdout",
          "text": [
            "False\n",
            "True\n",
            "True\n",
            "True\n",
            "True\n",
            "True\n",
            "True\n",
            "True\n"
          ]
        }
      ]
    }
  ]
}