{
  "nbformat": 4,
  "nbformat_minor": 0,
  "metadata": {
    "colab": {
      "provenance": [],
      "authorship_tag": "ABX9TyOYWsNl3+NBTpWtdcV9wXvJ",
      "include_colab_link": true
    },
    "kernelspec": {
      "name": "python3",
      "display_name": "Python 3"
    },
    "language_info": {
      "name": "python"
    }
  },
  "cells": [
    {
      "cell_type": "markdown",
      "metadata": {
        "id": "view-in-github",
        "colab_type": "text"
      },
      "source": [
        "<a href=\"https://colab.research.google.com/github/Luj2000/Luj2000/blob/main/Python_d1.ipynb\" target=\"_parent\"><img src=\"https://colab.research.google.com/assets/colab-badge.svg\" alt=\"Open In Colab\"/></a>"
      ]
    },
    {
      "cell_type": "code",
      "execution_count": 1,
      "metadata": {
        "id": "C6i7ZyR4jcTg"
      },
      "outputs": [],
      "source": [
        "a= '14'"
      ]
    },
    {
      "cell_type": "code",
      "source": [
        "print(float(33))"
      ],
      "metadata": {
        "colab": {
          "base_uri": "https://localhost:8080/"
        },
        "id": "Fjyp5NlYjeAh",
        "outputId": "a0fc3e71-d8cb-4ef0-ef0f-eec1d1f87b56"
      },
      "execution_count": 2,
      "outputs": [
        {
          "output_type": "stream",
          "name": "stdout",
          "text": [
            "33.0\n"
          ]
        }
      ]
    },
    {
      "cell_type": "code",
      "source": [
        "c='2'"
      ],
      "metadata": {
        "id": "GbA5ZuspcTK_"
      },
      "execution_count": 3,
      "outputs": []
    },
    {
      "cell_type": "code",
      "source": [
        "#c,d= eval(input(\"inter two number\"))"
      ],
      "metadata": {
        "id": "X76nu5AOjhKw"
      },
      "execution_count": 4,
      "outputs": []
    },
    {
      "cell_type": "code",
      "source": [
        "print(c,d)"
      ],
      "metadata": {
        "id": "wtaiUgp9jsWe",
        "colab": {
          "base_uri": "https://localhost:8080/",
          "height": 171
        },
        "outputId": "30ef41b8-8c6f-4f3f-dace-c328611fd6d9"
      },
      "execution_count": 5,
      "outputs": [
        {
          "output_type": "error",
          "ename": "NameError",
          "evalue": "ignored",
          "traceback": [
            "\u001b[0;31m---------------------------------------------------------------------------\u001b[0m",
            "\u001b[0;31mNameError\u001b[0m                                 Traceback (most recent call last)",
            "\u001b[0;32m<ipython-input-5-bfb11cdca861>\u001b[0m in \u001b[0;36m<cell line: 1>\u001b[0;34m()\u001b[0m\n\u001b[0;32m----> 1\u001b[0;31m \u001b[0mprint\u001b[0m\u001b[0;34m(\u001b[0m\u001b[0mc\u001b[0m\u001b[0;34m,\u001b[0m\u001b[0md\u001b[0m\u001b[0;34m)\u001b[0m\u001b[0;34m\u001b[0m\u001b[0;34m\u001b[0m\u001b[0m\n\u001b[0m",
            "\u001b[0;31mNameError\u001b[0m: name 'd' is not defined"
          ]
        }
      ]
    },
    {
      "cell_type": "code",
      "source": [
        "b= (\"lujain\")"
      ],
      "metadata": {
        "id": "QeS-KfWFjyfB"
      },
      "execution_count": null,
      "outputs": []
    },
    {
      "cell_type": "code",
      "source": [
        "a+b"
      ],
      "metadata": {
        "id": "FZL_5ikg6Z2a"
      },
      "execution_count": null,
      "outputs": []
    },
    {
      "cell_type": "code",
      "source": [
        " count = 2\n",
        " people = \"There are {} people.\".format(count) \n",
        " print(people)"
      ],
      "metadata": {
        "id": "9eJG5vdx6w9B"
      },
      "execution_count": null,
      "outputs": []
    },
    {
      "cell_type": "code",
      "source": [
        "count = 2\n",
        "people = \"There are {} people.\".format(count) \n",
        "print(people)\n"
      ],
      "metadata": {
        "id": "v0XxjBMm7wMM"
      },
      "execution_count": null,
      "outputs": []
    },
    {
      "cell_type": "code",
      "source": [
        "# Calculate air speed velocity in mph\n",
        "distance = 22  # distance in miles\n",
        "time = 5  # time elapsed in hours\n",
        "\n",
        "mph = distance / time\n",
        "\n",
        "print(\"The air speed velocity is {:.2f} miles per hour.\".format(mph))\n"
      ],
      "metadata": {
        "id": "XB88Zp6P-trB"
      },
      "execution_count": null,
      "outputs": []
    },
    {
      "cell_type": "code",
      "source": [
        "list1 = ['apple', 'banana', 'cherry', 'mango', \"5\"]\n",
        "list1= list(list1)\n",
        "list1[0]=677\n",
        "list1=touple(list1)\n",
        "print (list1)"
      ],
      "metadata": {
        "id": "_JVqUNFB_mvl"
      },
      "execution_count": null,
      "outputs": []
    },
    {
      "cell_type": "code",
      "source": [
        "list1 = [\"fatima\", 20, 15, True, 67, 10]\n",
        "list1_tuple = tuple(list1)\n",
        "list1[0] = 6777\n",
        "print(list1)\n"
      ],
      "metadata": {
        "id": "9vNGjUZOBs_S"
      },
      "execution_count": null,
      "outputs": []
    },
    {
      "cell_type": "code",
      "source": [
        "\n",
        "list2 = {1,2,3,4,5,6,7,8,9}\n",
        "range(1,3,2)"
      ],
      "metadata": {
        "id": "PM5rL0lIDZco"
      },
      "execution_count": null,
      "outputs": []
    },
    {
      "cell_type": "code",
      "source": [
        "# Print the numbers from 0 to 9\n",
        "for i in range(10):\n",
        "    print(i)\n",
        "\n",
        "# Print the numbers from 1 to 10\n",
        "for i in range(1, 11):\n",
        "    print(i)\n",
        "\n",
        "# Print the numbers from 0 to 10, in steps of 2\n",
        "for i in range(0, 11, 2):\n",
        "    print(i)\n"
      ],
      "metadata": {
        "id": "RjerscldE4mX"
      },
      "execution_count": null,
      "outputs": []
    },
    {
      "cell_type": "code",
      "source": [
        "my_list = [20, 10, 30, 10]\n",
        "my_list.append(5)\n",
        "print (my_list)"
      ],
      "metadata": {
        "id": "-5YFmYfRFXa8"
      },
      "execution_count": null,
      "outputs": []
    },
    {
      "cell_type": "code",
      "source": [
        "my_list.index(30)\n",
        "my_list.remove(5)\n",
        "print(my_list)"
      ],
      "metadata": {
        "id": "4SoLEbaxFmhW"
      },
      "execution_count": null,
      "outputs": []
    },
    {
      "cell_type": "code",
      "source": [
        "my_list = [10, 20, 30, 40, 50]\n",
        "\n",
        "# Clear the list\n",
        "my_list.clear()\n",
        "print(my_list)  # Output: []\n"
      ],
      "metadata": {
        "id": "9R_N9HLnGVzn"
      },
      "execution_count": null,
      "outputs": []
    },
    {
      "cell_type": "code",
      "source": [
        "my_list = [10, 20, 30]\n",
        "\n",
        "# Add the element 40 to the end of the list\n",
        "my_list.append(40)\n",
        "print(my_list)  # Output: [10, 20, 30, 40]\n"
      ],
      "metadata": {
        "id": "r4-6ZMheHscp"
      },
      "execution_count": null,
      "outputs": []
    },
    {
      "cell_type": "code",
      "source": [
        "my_list = [10, 20, 30]\n",
        "\n",
        "# Remove and return the element at index 1\n",
        "element = my_list.pop(1)\n",
        "print(element)  # Output: 20\n",
        "print(my_list)  # Output: [10, 30]\n",
        "\n",
        "# Remove and return the last element\n",
        "element = my_list.pop()\n",
        "print(element)  # Output: 30\n",
        "print(my_list)  # Output: [10]\n"
      ],
      "metadata": {
        "id": "hQ2jgVxGICe6"
      },
      "execution_count": null,
      "outputs": []
    },
    {
      "cell_type": "code",
      "source": [
        "my_list = [10, 20, 30]\n",
        "\n",
        "# Add the elements 40 and 50 to the end of the list\n",
        "my_list.extend([40, 50])\n",
        "print(my_list)  # Output: [10, 20, 30, 40, 50]\n"
      ],
      "metadata": {
        "id": "eAfjKLLwIKwL"
      },
      "execution_count": null,
      "outputs": []
    },
    {
      "cell_type": "code",
      "source": [
        "dick = {\"john\": 5512, \"Terry\":444, \"ferd\":6666}\n",
        "dick[\"Terry\"]\n"
      ],
      "metadata": {
        "id": "mp80x6C_IMlE"
      },
      "execution_count": null,
      "outputs": []
    },
    {
      "cell_type": "code",
      "source": [
        "# Create a dictionary with some key-value pairs\n",
        "my_dict = {\n",
        "    \"name\": \"John\",\n",
        "    \"age\": 30,\n",
        "    \"city\": \"New York\"\n",
        "}\n",
        "\n",
        "# Access the value associated with the key \"name\"\n",
        "name = my_dict[\"name\"]\n",
        "print(name)  # Output: \"John\"\n",
        "\n",
        "# Modify the value associated with the key \"age\"\n",
        "my_dict[\"age\"] = 35\n",
        "print(my_dict)  # Output: {'name': 'John', 'age': 35, 'city': 'New York'}\n",
        "\n",
        "# Add a new key-value pair to the dictionary\n",
        "my_dict[\"country\"] = \"USA\"\n",
        "print(my_dict)  # Output: {'name': 'John', 'age': 35, 'city': 'New York', 'country': 'USA'}\n",
        "\n",
        "# Remove a key-value pair from the dictionary\n",
        "del my_dict[\"city\"]\n",
        "print(my_dict)  # Output: {'name': 'John', 'age': 35, 'country': 'USA'}\n"
      ],
      "metadata": {
        "id": "FBAuI47tI5sw"
      },
      "execution_count": null,
      "outputs": []
    },
    {
      "cell_type": "code",
      "source": [
        "print()"
      ],
      "metadata": {
        "id": "Ia3xZITBN4lg"
      },
      "execution_count": null,
      "outputs": []
    },
    {
      "cell_type": "code",
      "source": [
        "# Create a set with some elements\n",
        "my_set = {10, 20, 30, 40, 50}\n",
        "\n",
        "# Check if an element is in the set\n",
        "print(10 in my_set)  # Output: True\n",
        "print(15 in my_set)  # Output: False\n",
        "\n",
        "# Add an element to the set\n",
        "my_set.add(60)\n",
        "print(my_set)  # Output: {10, 20, 30, 40, 50, 60}\n",
        "\n",
        "# Remove an element from the set\n",
        "my_set.remove(40)\n",
        "print(my_set)  # Output: {10, 20, 30, 50, 60}\n",
        "\n",
        "# Find the intersection of two sets\n",
        "set1 = {1, 2, 3, 4}\n",
        "set2 = {3, 4, 5, 6}\n",
        "intersection = set1 & set2\n",
        "print(intersection)  # Output: {3, 4}\n",
        "\n",
        "# Find the union of two sets\n",
        "union = set1 | set2\n",
        "print(union)  # Output: {1, 2, 3, 4, 5, 6}\n",
        "\n",
        "# Find the difference between two sets\n",
        "difference = set1 - set2\n",
        "print(difference)  # Output: {1, 2}\n"
      ],
      "metadata": {
        "id": "vJ3hXBKFJufd"
      },
      "execution_count": null,
      "outputs": []
    },
    {
      "cell_type": "code",
      "source": [
        "print(10 in my_set)"
      ],
      "metadata": {
        "id": "Y9lVdK82Kj9p"
      },
      "execution_count": null,
      "outputs": []
    },
    {
      "cell_type": "code",
      "source": [
        "print(18 in my_set)"
      ],
      "metadata": {
        "id": "ZVJdytvNKysk"
      },
      "execution_count": null,
      "outputs": []
    },
    {
      "cell_type": "code",
      "source": [
        "print(intersection)"
      ],
      "metadata": {
        "id": "pZr33JzmK6th"
      },
      "execution_count": null,
      "outputs": []
    },
    {
      "cell_type": "code",
      "source": [
        "print(union)"
      ],
      "metadata": {
        "id": "vftkRU1WMuqt"
      },
      "execution_count": null,
      "outputs": []
    },
    {
      "cell_type": "code",
      "source": [
        "print(difference)"
      ],
      "metadata": {
        "id": "SfKBCOGWNCmQ"
      },
      "execution_count": null,
      "outputs": []
    },
    {
      "cell_type": "code",
      "source": [
        "if a + b == c:\n",
        "  if b + c == a:\n",
        "    print(\"Success!\")\n",
        "  else:\n",
        "    print(\"Faillure\")\n",
        "else:\n",
        "  print(\"Faillur\")"
      ],
      "metadata": {
        "id": "lg7OBM2oNreV"
      },
      "execution_count": null,
      "outputs": []
    },
    {
      "cell_type": "code",
      "source": [
        "if a + b == c and b + c == a:\n",
        "    print(\"Success!\")\n",
        "else:\n",
        "    print(\"Faillure\")\n"
      ],
      "metadata": {
        "id": "laCb1zVMTdvv"
      },
      "execution_count": null,
      "outputs": []
    },
    {
      "cell_type": "code",
      "source": [
        "IF A==B\n",
        "  PRINT(\"'SCEEE\")\n",
        "ELIF C==D:\n",
        "  PRINT\n",
        "IF A==B\n",
        "  PRINT(\"'SCEEE\")\n",
        "ELSE:\n",
        "  IF C==D:\n",
        "PRINT"
      ],
      "metadata": {
        "id": "MlmX_EWCUlnx"
      },
      "execution_count": null,
      "outputs": []
    },
    {
      "cell_type": "code",
      "source": [
        "# Use is to check if two variables refer to the same object\n",
        "x = [1, 2, 3]\n",
        "y = [1, 2, 3]\n",
        "print(x is y)  # Output: False\n",
        "\n",
        "y = x\n",
        "print(x is y)  # Output: True\n",
        "\n",
        "# Use not to negate a boolean value\n",
        "if not True:\n",
        "    print(\"True\")  # This code is not executed because not True is False\n",
        "\n",
        "if not False:\n",
        "    print(\"True\")  # Output: True\n",
        "\n",
        "# Use and to check if both operands are True\n",
        "if True and True:\n",
        "    print(\"True\")  # Output: True\n",
        "\n",
        "if True and False:\n",
        "    print(\"True\")  # This code is not executed because the second operand is False\n",
        "\n",
        "# Use or to check if either operand is True\n",
        "if True or True:\n",
        "    print(\"True\")  # Output: True\n",
        "\n",
        "if True or False:\n",
        "    print(\"True\")  # Output: True\n",
        "\n",
        "if False or False:\n",
        "    print(\"True\")  # This code is not executed because both operands are False\n",
        "\n",
        "# Use < to check if the left operand is less than the right operand\n",
        "if 10 < 5:\n",
        "    print(\"True\")  # This code is not executed because 10 is not less than 5\n",
        "\n",
        "if 5 < 10:\n",
        "    print(\"True\")  # Output: True\n",
        "\n",
        "# Use > to check if the left operand is greater than the right operand\n",
        "if 10 > 5:\n",
        "    print(\"True\")  # Output: True\n",
        "\n",
        "if 5 > 10:\n",
        "    print(\"True\")  # This code is not executed because 5 is not greater than 10\n",
        "\n",
        "\n"
      ],
      "metadata": {
        "id": "OvdL3g9DUu1A"
      },
      "execution_count": null,
      "outputs": []
    },
    {
      "cell_type": "code",
      "source": [
        "\n"
      ],
      "metadata": {
        "id": "_5nKcOyfZYI_"
      },
      "execution_count": null,
      "outputs": []
    },
    {
      "cell_type": "code",
      "source": [],
      "metadata": {
        "id": "kmK2SWYNcuE4"
      },
      "execution_count": null,
      "outputs": []
    }
  ]
}